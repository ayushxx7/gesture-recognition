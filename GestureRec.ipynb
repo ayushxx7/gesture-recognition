{
 "cells": [
  {
   "cell_type": "markdown",
   "id": "8501d451-dc8b-4c23-a35e-cc3f30597e22",
   "metadata": {},
   "source": [
    "# Gesture Recognition\n",
    "#### Submitted by\n",
    "- Sameer Soin\n",
    "- Ayush Mandowara"
   ]
  },
  {
   "cell_type": "markdown",
   "id": "bc32d191-d78e-4887-a229-74faab90e16c",
   "metadata": {},
   "source": [
    "## Problem Statement\n",
    "\n",
    "A smart tv manufactures wants to add gesture based controls to their TVs. \n",
    "\n",
    "To start with, the following 5 gestures are planned to be undstood by the TV:\n",
    "- Thumbs Up to increase volume\n",
    "- Thumbs Down to decrease volume\n",
    "- Left Swipe to move 10 seconds back\n",
    "- Right Swipe to move 10 seconds ahead\n",
    "- Open Palm (Stop) to pause\n",
    "\n",
    "The hardware and software to capture and take action based on the gestures already exists with the manufacturer, our focus will be on `Recognising the Gestures`.\n",
    "\n",
    "## Data\n",
    "- The data we have been provided with to train our model consists of images / frames taken in a sequence (videos that are already broken down into images) for various individuals showing the above mentioned hand gestures.  \n",
    "- The data is labelled with the different classes (gestures) that need to be identified.\n",
    "\n",
    "## Approach\n",
    "To do this, we will be using `Deep Learning`. Specifically, we will be trying two approaches:\n",
    "- Approach 1: 3D CNN Model  \n",
    "- Approach 2: A CNN + RNN Model\n"
   ]
  },
  {
   "cell_type": "markdown",
   "id": "7db9d080-e0a1-43bc-be69-e858bb318df4",
   "metadata": {},
   "source": [
    "---"
   ]
  },
  {
   "cell_type": "markdown",
   "id": "ab74efc6-768b-46a6-8b07-98b3bbb73c3a",
   "metadata": {},
   "source": [
    "# Imports"
   ]
  },
  {
   "cell_type": "code",
   "execution_count": 1,
   "id": "6104d6b9-88c0-43bc-a0eb-d7db3901e625",
   "metadata": {},
   "outputs": [],
   "source": [
    "import cv2\n",
    "import datetime\n",
    "import numpy as np\n",
    "import os\n",
    "import pandas as pd\n",
    "import random as rn\n",
    "\n",
    "from keras import backend as K\n",
    "import tensorflow as tf\n",
    "from cv2 import imread\n",
    "from sklearn.utils import shuffle\n",
    "\n",
    "from keras.models import Sequential, Model\n",
    "from keras.layers import Dense, GRU, Flatten, TimeDistributed, Flatten, BatchNormalization, Activation, Dropout\n",
    "from keras.layers.convolutional import Conv3D, MaxPooling3D, Conv2D\n",
    "from keras.callbacks import ModelCheckpoint, ReduceLROnPlateau\n",
    "from keras import optimizers\n",
    "\n",
    "import matplotlib.pyplot as plt\n",
    "\n",
    "%matplotlib inline"
   ]
  },
  {
   "cell_type": "code",
   "execution_count": 2,
   "id": "8e2c6fc7-5a9c-466f-a127-c08fde435941",
   "metadata": {},
   "outputs": [],
   "source": [
    "# setting up logger to enable / disable debug statements quickly.\n",
    "\n",
    "import sys\n",
    "import logging\n",
    "from importlib import reload\n",
    "reload(logging)\n",
    "\n",
    "logging.basicConfig(stream=sys.stdout, format='',\n",
    "                level=logging.INFO, datefmt=None)\n",
    "log = logging.getLogger(__name__)"
   ]
  },
  {
   "cell_type": "code",
   "execution_count": 4,
   "id": "0f3e86f6-a883-4000-87d6-69e295ed16f7",
   "metadata": {},
   "outputs": [],
   "source": [
    "# Disabling GPU usage as GPU memory is too low on local machine\n",
    "os.environ[\"CUDA_VISIBLE_DEVICES\"] = \"-1\""
   ]
  },
  {
   "cell_type": "markdown",
   "id": "5f06307e-66c5-4906-839d-6a1e8e44784a",
   "metadata": {},
   "source": [
    "### Fixed Random Seeds\n",
    "- This helps in reproducing results in subsequent runs"
   ]
  },
  {
   "cell_type": "code",
   "execution_count": 3,
   "id": "9c2d80c5-8590-47a1-9659-ec33bea6ddf7",
   "metadata": {},
   "outputs": [],
   "source": [
    "RANDOM_SEED = 42\n",
    "np.random.seed(RANDOM_SEED)\n",
    "rn.seed(RANDOM_SEED)\n",
    "tf.random.set_seed(RANDOM_SEED)"
   ]
  },
  {
   "cell_type": "markdown",
   "id": "26d26de4-1c9e-4df4-a51b-80ce327558b1",
   "metadata": {},
   "source": [
    "## Reading the Data\n",
    "- The data is labelled\n",
    "- The file paths along with labels are stored in csv files\n",
    "- Data is already divided into train and validation folders "
   ]
  },
  {
   "cell_type": "code",
   "execution_count": 4,
   "id": "1a1662ff-fe92-4973-a9ba-c98dd2aa900f",
   "metadata": {},
   "outputs": [],
   "source": [
    "train_doc = np.random.permutation(open('Project_data/train.csv').readlines())\n",
    "val_doc = np.random.permutation(open('Project_data/val.csv').readlines())\n",
    "\n",
    "project_root = \"Project_data\"\n",
    "train_folder = os.path.join(project_root, \"train\")\n",
    "val_folder = os.path.join(project_root, \"val\")"
   ]
  },
  {
   "cell_type": "code",
   "execution_count": 5,
   "id": "2a2da953-fe99-4942-b9be-7a39dea51448",
   "metadata": {},
   "outputs": [
    {
     "data": {
      "text/plain": [
       "'WIN_20180925_18_23_57_Pro_Thumbs_Down_new;Thumbs_Down_new;3\\n'"
      ]
     },
     "execution_count": 5,
     "metadata": {},
     "output_type": "execute_result"
    }
   ],
   "source": [
    "train_doc[0]"
   ]
  },
  {
   "cell_type": "code",
   "execution_count": 6,
   "id": "0f05df33-4202-4cc0-bc21-2d3e43db2a42",
   "metadata": {},
   "outputs": [
    {
     "data": {
      "text/plain": [
       "663"
      ]
     },
     "execution_count": 6,
     "metadata": {},
     "output_type": "execute_result"
    }
   ],
   "source": [
    "len(train_doc)"
   ]
  },
  {
   "cell_type": "code",
   "execution_count": 7,
   "id": "24cc546f-60f4-470b-8050-f2c31b037a4a",
   "metadata": {},
   "outputs": [],
   "source": [
    "train_df = pd.read_csv('Project_data/train.csv', delimiter=';', names=['Video Folder', 'Gesture', 'Label'])"
   ]
  },
  {
   "cell_type": "code",
   "execution_count": 8,
   "id": "9bb688e1-2fc9-4f5b-817a-5dd5eba6d970",
   "metadata": {},
   "outputs": [
    {
     "data": {
      "text/plain": [
       "663"
      ]
     },
     "execution_count": 8,
     "metadata": {},
     "output_type": "execute_result"
    }
   ],
   "source": [
    "len(train_df)"
   ]
  },
  {
   "cell_type": "code",
   "execution_count": 9,
   "id": "8fef53e4-2b20-4a65-af28-e897f07e611c",
   "metadata": {},
   "outputs": [
    {
     "data": {
      "text/html": [
       "<div>\n",
       "<style scoped>\n",
       "    .dataframe tbody tr th:only-of-type {\n",
       "        vertical-align: middle;\n",
       "    }\n",
       "\n",
       "    .dataframe tbody tr th {\n",
       "        vertical-align: top;\n",
       "    }\n",
       "\n",
       "    .dataframe thead th {\n",
       "        text-align: right;\n",
       "    }\n",
       "</style>\n",
       "<table border=\"1\" class=\"dataframe\">\n",
       "  <thead>\n",
       "    <tr style=\"text-align: right;\">\n",
       "      <th></th>\n",
       "      <th>Video Folder</th>\n",
       "      <th>Gesture</th>\n",
       "      <th>Label</th>\n",
       "    </tr>\n",
       "  </thead>\n",
       "  <tbody>\n",
       "    <tr>\n",
       "      <th>0</th>\n",
       "      <td>WIN_20180925_17_08_43_Pro_Left_Swipe_new</td>\n",
       "      <td>Left_Swipe_new</td>\n",
       "      <td>0</td>\n",
       "    </tr>\n",
       "    <tr>\n",
       "      <th>1</th>\n",
       "      <td>WIN_20180925_17_18_28_Pro_Left_Swipe_new</td>\n",
       "      <td>Left_Swipe_new</td>\n",
       "      <td>0</td>\n",
       "    </tr>\n",
       "    <tr>\n",
       "      <th>2</th>\n",
       "      <td>WIN_20180925_17_18_56_Pro_Left_Swipe_new</td>\n",
       "      <td>Left_Swipe_new</td>\n",
       "      <td>0</td>\n",
       "    </tr>\n",
       "  </tbody>\n",
       "</table>\n",
       "</div>"
      ],
      "text/plain": [
       "                               Video Folder         Gesture  Label\n",
       "0  WIN_20180925_17_08_43_Pro_Left_Swipe_new  Left_Swipe_new      0\n",
       "1  WIN_20180925_17_18_28_Pro_Left_Swipe_new  Left_Swipe_new      0\n",
       "2  WIN_20180925_17_18_56_Pro_Left_Swipe_new  Left_Swipe_new      0"
      ]
     },
     "execution_count": 9,
     "metadata": {},
     "output_type": "execute_result"
    }
   ],
   "source": [
    "train_df.head(3)"
   ]
  },
  {
   "cell_type": "code",
   "execution_count": 10,
   "id": "44583bb5-40d5-4d3b-8a6b-47803f28454d",
   "metadata": {},
   "outputs": [
    {
     "data": {
      "text/html": [
       "<div>\n",
       "<style scoped>\n",
       "    .dataframe tbody tr th:only-of-type {\n",
       "        vertical-align: middle;\n",
       "    }\n",
       "\n",
       "    .dataframe tbody tr th {\n",
       "        vertical-align: top;\n",
       "    }\n",
       "\n",
       "    .dataframe thead th {\n",
       "        text-align: right;\n",
       "    }\n",
       "</style>\n",
       "<table border=\"1\" class=\"dataframe\">\n",
       "  <thead>\n",
       "    <tr style=\"text-align: right;\">\n",
       "      <th></th>\n",
       "      <th>Video Folder</th>\n",
       "      <th>Gesture</th>\n",
       "      <th>Label</th>\n",
       "    </tr>\n",
       "  </thead>\n",
       "  <tbody>\n",
       "    <tr>\n",
       "      <th>660</th>\n",
       "      <td>WIN_20180907_16_42_05_Pro_Thumbs Up_new</td>\n",
       "      <td>Thumbs Up_new</td>\n",
       "      <td>4</td>\n",
       "    </tr>\n",
       "    <tr>\n",
       "      <th>661</th>\n",
       "      <td>WIN_20180907_16_42_55_Pro_Thumbs Up_new</td>\n",
       "      <td>Thumbs Up_new</td>\n",
       "      <td>4</td>\n",
       "    </tr>\n",
       "    <tr>\n",
       "      <th>662</th>\n",
       "      <td>WIN_20180907_16_43_39_Pro_Thumbs Up_new</td>\n",
       "      <td>Thumbs Up_new</td>\n",
       "      <td>4</td>\n",
       "    </tr>\n",
       "  </tbody>\n",
       "</table>\n",
       "</div>"
      ],
      "text/plain": [
       "                                Video Folder        Gesture  Label\n",
       "660  WIN_20180907_16_42_05_Pro_Thumbs Up_new  Thumbs Up_new      4\n",
       "661  WIN_20180907_16_42_55_Pro_Thumbs Up_new  Thumbs Up_new      4\n",
       "662  WIN_20180907_16_43_39_Pro_Thumbs Up_new  Thumbs Up_new      4"
      ]
     },
     "execution_count": 10,
     "metadata": {},
     "output_type": "execute_result"
    }
   ],
   "source": [
    "train_df.tail(3)"
   ]
  },
  {
   "cell_type": "code",
   "execution_count": 11,
   "id": "fa2c8c4b-3b94-4d49-a721-82a66887710a",
   "metadata": {},
   "outputs": [],
   "source": [
    "val_df = pd.read_csv('Project_data/val.csv', delimiter=';', names=['Video Folder', 'Gesture', 'Label'])"
   ]
  },
  {
   "cell_type": "code",
   "execution_count": 12,
   "id": "b04e3858-534c-4f87-b66c-8d5d21ec22af",
   "metadata": {},
   "outputs": [
    {
     "data": {
      "text/html": [
       "<div>\n",
       "<style scoped>\n",
       "    .dataframe tbody tr th:only-of-type {\n",
       "        vertical-align: middle;\n",
       "    }\n",
       "\n",
       "    .dataframe tbody tr th {\n",
       "        vertical-align: top;\n",
       "    }\n",
       "\n",
       "    .dataframe thead th {\n",
       "        text-align: right;\n",
       "    }\n",
       "</style>\n",
       "<table border=\"1\" class=\"dataframe\">\n",
       "  <thead>\n",
       "    <tr style=\"text-align: right;\">\n",
       "      <th></th>\n",
       "      <th>Video Folder</th>\n",
       "      <th>Gesture</th>\n",
       "      <th>Label</th>\n",
       "    </tr>\n",
       "  </thead>\n",
       "  <tbody>\n",
       "    <tr>\n",
       "      <th>0</th>\n",
       "      <td>WIN_20180925_17_17_04_Pro_Left_Swipe_new</td>\n",
       "      <td>Left_Swipe_new</td>\n",
       "      <td>0</td>\n",
       "    </tr>\n",
       "    <tr>\n",
       "      <th>1</th>\n",
       "      <td>WIN_20180925_17_43_01_Pro_Left_Swipe_new</td>\n",
       "      <td>Left_Swipe_new</td>\n",
       "      <td>0</td>\n",
       "    </tr>\n",
       "    <tr>\n",
       "      <th>2</th>\n",
       "      <td>WIN_20180925_18_01_40_Pro_Left_Swipe_new</td>\n",
       "      <td>Left_Swipe_new</td>\n",
       "      <td>0</td>\n",
       "    </tr>\n",
       "  </tbody>\n",
       "</table>\n",
       "</div>"
      ],
      "text/plain": [
       "                               Video Folder         Gesture  Label\n",
       "0  WIN_20180925_17_17_04_Pro_Left_Swipe_new  Left_Swipe_new      0\n",
       "1  WIN_20180925_17_43_01_Pro_Left_Swipe_new  Left_Swipe_new      0\n",
       "2  WIN_20180925_18_01_40_Pro_Left_Swipe_new  Left_Swipe_new      0"
      ]
     },
     "execution_count": 12,
     "metadata": {},
     "output_type": "execute_result"
    }
   ],
   "source": [
    "val_df.head(3)"
   ]
  },
  {
   "cell_type": "code",
   "execution_count": 13,
   "id": "ea09955c-7a39-4072-a1d5-75f8027ed626",
   "metadata": {},
   "outputs": [
    {
     "data": {
      "text/html": [
       "<div>\n",
       "<style scoped>\n",
       "    .dataframe tbody tr th:only-of-type {\n",
       "        vertical-align: middle;\n",
       "    }\n",
       "\n",
       "    .dataframe tbody tr th {\n",
       "        vertical-align: top;\n",
       "    }\n",
       "\n",
       "    .dataframe thead th {\n",
       "        text-align: right;\n",
       "    }\n",
       "</style>\n",
       "<table border=\"1\" class=\"dataframe\">\n",
       "  <thead>\n",
       "    <tr style=\"text-align: right;\">\n",
       "      <th></th>\n",
       "      <th>Video Folder</th>\n",
       "      <th>Gesture</th>\n",
       "      <th>Label</th>\n",
       "    </tr>\n",
       "  </thead>\n",
       "  <tbody>\n",
       "    <tr>\n",
       "      <th>97</th>\n",
       "      <td>WIN_20180907_15_54_30_Pro_Thumbs Up_new</td>\n",
       "      <td>Thumbs Up_new</td>\n",
       "      <td>4</td>\n",
       "    </tr>\n",
       "    <tr>\n",
       "      <th>98</th>\n",
       "      <td>WIN_20180907_16_10_59_Pro_Thumbs Up_new</td>\n",
       "      <td>Thumbs Up_new</td>\n",
       "      <td>4</td>\n",
       "    </tr>\n",
       "    <tr>\n",
       "      <th>99</th>\n",
       "      <td>WIN_20180907_16_39_59_Pro_Thumbs Up_new</td>\n",
       "      <td>Thumbs Up_new</td>\n",
       "      <td>4</td>\n",
       "    </tr>\n",
       "  </tbody>\n",
       "</table>\n",
       "</div>"
      ],
      "text/plain": [
       "                               Video Folder        Gesture  Label\n",
       "97  WIN_20180907_15_54_30_Pro_Thumbs Up_new  Thumbs Up_new      4\n",
       "98  WIN_20180907_16_10_59_Pro_Thumbs Up_new  Thumbs Up_new      4\n",
       "99  WIN_20180907_16_39_59_Pro_Thumbs Up_new  Thumbs Up_new      4"
      ]
     },
     "execution_count": 13,
     "metadata": {},
     "output_type": "execute_result"
    }
   ],
   "source": [
    "val_df.tail(3)"
   ]
  },
  {
   "cell_type": "code",
   "execution_count": 14,
   "id": "1fbe3912-7078-434a-833c-8a9b8065d4bb",
   "metadata": {},
   "outputs": [],
   "source": [
    "train_df = shuffle(train_df, random_state=RANDOM_SEED)"
   ]
  },
  {
   "cell_type": "code",
   "execution_count": 15,
   "id": "4db505c0-4376-474c-8b55-619f255ac03e",
   "metadata": {},
   "outputs": [
    {
     "data": {
      "text/html": [
       "<div>\n",
       "<style scoped>\n",
       "    .dataframe tbody tr th:only-of-type {\n",
       "        vertical-align: middle;\n",
       "    }\n",
       "\n",
       "    .dataframe tbody tr th {\n",
       "        vertical-align: top;\n",
       "    }\n",
       "\n",
       "    .dataframe thead th {\n",
       "        text-align: right;\n",
       "    }\n",
       "</style>\n",
       "<table border=\"1\" class=\"dataframe\">\n",
       "  <thead>\n",
       "    <tr style=\"text-align: right;\">\n",
       "      <th></th>\n",
       "      <th>Video Folder</th>\n",
       "      <th>Gesture</th>\n",
       "      <th>Label</th>\n",
       "    </tr>\n",
       "  </thead>\n",
       "  <tbody>\n",
       "    <tr>\n",
       "      <th>327</th>\n",
       "      <td>WIN_20180925_18_23_57_Pro_Thumbs_Down_new</td>\n",
       "      <td>Thumbs_Down_new</td>\n",
       "      <td>3</td>\n",
       "    </tr>\n",
       "    <tr>\n",
       "      <th>579</th>\n",
       "      <td>WIN_20180907_16_21_11_Pro_Stop Gesture_new</td>\n",
       "      <td>Stop Gesture_new</td>\n",
       "      <td>2</td>\n",
       "    </tr>\n",
       "    <tr>\n",
       "      <th>513</th>\n",
       "      <td>WIN_20180907_16_38_29_Pro_Left Swipe_new_Left ...</td>\n",
       "      <td>Left Swipe_new_Left Swipe_new</td>\n",
       "      <td>0</td>\n",
       "    </tr>\n",
       "    <tr>\n",
       "      <th>362</th>\n",
       "      <td>WIN_20180926_17_23_38_Pro_Thumbs_Down_new</td>\n",
       "      <td>Thumbs_Down_new</td>\n",
       "      <td>3</td>\n",
       "    </tr>\n",
       "    <tr>\n",
       "      <th>265</th>\n",
       "      <td>WIN_20180926_17_21_49_Pro_Stop_new</td>\n",
       "      <td>Stop_new</td>\n",
       "      <td>2</td>\n",
       "    </tr>\n",
       "  </tbody>\n",
       "</table>\n",
       "</div>"
      ],
      "text/plain": [
       "                                          Video Folder  \\\n",
       "327          WIN_20180925_18_23_57_Pro_Thumbs_Down_new   \n",
       "579         WIN_20180907_16_21_11_Pro_Stop Gesture_new   \n",
       "513  WIN_20180907_16_38_29_Pro_Left Swipe_new_Left ...   \n",
       "362          WIN_20180926_17_23_38_Pro_Thumbs_Down_new   \n",
       "265                 WIN_20180926_17_21_49_Pro_Stop_new   \n",
       "\n",
       "                           Gesture  Label  \n",
       "327                Thumbs_Down_new      3  \n",
       "579               Stop Gesture_new      2  \n",
       "513  Left Swipe_new_Left Swipe_new      0  \n",
       "362                Thumbs_Down_new      3  \n",
       "265                       Stop_new      2  "
      ]
     },
     "execution_count": 15,
     "metadata": {},
     "output_type": "execute_result"
    }
   ],
   "source": [
    "train_df.head(5)"
   ]
  },
  {
   "cell_type": "code",
   "execution_count": 16,
   "id": "f87d5a34-36ad-4751-ab50-a35922673887",
   "metadata": {},
   "outputs": [],
   "source": [
    "val_df = shuffle(val_df, random_state=RANDOM_SEED)"
   ]
  },
  {
   "cell_type": "code",
   "execution_count": 17,
   "id": "36f6b314-6459-444a-936d-5cffc80184b9",
   "metadata": {},
   "outputs": [
    {
     "data": {
      "text/html": [
       "<div>\n",
       "<style scoped>\n",
       "    .dataframe tbody tr th:only-of-type {\n",
       "        vertical-align: middle;\n",
       "    }\n",
       "\n",
       "    .dataframe tbody tr th {\n",
       "        vertical-align: top;\n",
       "    }\n",
       "\n",
       "    .dataframe thead th {\n",
       "        text-align: right;\n",
       "    }\n",
       "</style>\n",
       "<table border=\"1\" class=\"dataframe\">\n",
       "  <thead>\n",
       "    <tr style=\"text-align: right;\">\n",
       "      <th></th>\n",
       "      <th>Video Folder</th>\n",
       "      <th>Gesture</th>\n",
       "      <th>Label</th>\n",
       "    </tr>\n",
       "  </thead>\n",
       "  <tbody>\n",
       "    <tr>\n",
       "      <th>83</th>\n",
       "      <td>WIN_20180907_16_30_54_Pro_Stop Gesture_new</td>\n",
       "      <td>Stop Gesture_new</td>\n",
       "      <td>2</td>\n",
       "    </tr>\n",
       "    <tr>\n",
       "      <th>53</th>\n",
       "      <td>WIN_20180925_17_38_43_Pro_Thumbs_Up_new</td>\n",
       "      <td>Thumbs_Up_new</td>\n",
       "      <td>4</td>\n",
       "    </tr>\n",
       "    <tr>\n",
       "      <th>70</th>\n",
       "      <td>WIN_20180907_15_55_06_Pro_Right Swipe_new</td>\n",
       "      <td>Right Swipe_new</td>\n",
       "      <td>1</td>\n",
       "    </tr>\n",
       "    <tr>\n",
       "      <th>45</th>\n",
       "      <td>WIN_20180926_16_57_50_Pro_Thumbs_Down_new</td>\n",
       "      <td>Thumbs_Down_new</td>\n",
       "      <td>3</td>\n",
       "    </tr>\n",
       "    <tr>\n",
       "      <th>44</th>\n",
       "      <td>WIN_20180926_16_44_04_Pro_Thumbs_Down_new</td>\n",
       "      <td>Thumbs_Down_new</td>\n",
       "      <td>3</td>\n",
       "    </tr>\n",
       "  </tbody>\n",
       "</table>\n",
       "</div>"
      ],
      "text/plain": [
       "                                  Video Folder           Gesture  Label\n",
       "83  WIN_20180907_16_30_54_Pro_Stop Gesture_new  Stop Gesture_new      2\n",
       "53     WIN_20180925_17_38_43_Pro_Thumbs_Up_new     Thumbs_Up_new      4\n",
       "70   WIN_20180907_15_55_06_Pro_Right Swipe_new   Right Swipe_new      1\n",
       "45   WIN_20180926_16_57_50_Pro_Thumbs_Down_new   Thumbs_Down_new      3\n",
       "44   WIN_20180926_16_44_04_Pro_Thumbs_Down_new   Thumbs_Down_new      3"
      ]
     },
     "execution_count": 17,
     "metadata": {},
     "output_type": "execute_result"
    }
   ],
   "source": [
    "val_df.head(5)"
   ]
  },
  {
   "cell_type": "code",
   "execution_count": 18,
   "id": "721495ec-8b63-4acf-acf8-71a5ff8b75c9",
   "metadata": {},
   "outputs": [],
   "source": [
    "train_df.reset_index(drop=True, inplace=True)\n",
    "val_df.reset_index(drop=True, inplace=True)"
   ]
  },
  {
   "cell_type": "markdown",
   "id": "efd83d3b-d80f-4641-9171-d8dd3e9cb51c",
   "metadata": {},
   "source": [
    "### Display a sequence"
   ]
  },
  {
   "cell_type": "code",
   "execution_count": 19,
   "id": "5f2a7297-64f7-49a9-ba4f-38d83b0531b1",
   "metadata": {},
   "outputs": [
    {
     "data": {
      "text/html": [
       "<div>\n",
       "<style scoped>\n",
       "    .dataframe tbody tr th:only-of-type {\n",
       "        vertical-align: middle;\n",
       "    }\n",
       "\n",
       "    .dataframe tbody tr th {\n",
       "        vertical-align: top;\n",
       "    }\n",
       "\n",
       "    .dataframe thead th {\n",
       "        text-align: right;\n",
       "    }\n",
       "</style>\n",
       "<table border=\"1\" class=\"dataframe\">\n",
       "  <thead>\n",
       "    <tr style=\"text-align: right;\">\n",
       "      <th></th>\n",
       "      <th>Video Folder</th>\n",
       "      <th>Gesture</th>\n",
       "      <th>Label</th>\n",
       "    </tr>\n",
       "  </thead>\n",
       "  <tbody>\n",
       "    <tr>\n",
       "      <th>0</th>\n",
       "      <td>WIN_20180925_18_23_57_Pro_Thumbs_Down_new</td>\n",
       "      <td>Thumbs_Down_new</td>\n",
       "      <td>3</td>\n",
       "    </tr>\n",
       "  </tbody>\n",
       "</table>\n",
       "</div>"
      ],
      "text/plain": [
       "                                Video Folder          Gesture  Label\n",
       "0  WIN_20180925_18_23_57_Pro_Thumbs_Down_new  Thumbs_Down_new      3"
      ]
     },
     "execution_count": 19,
     "metadata": {},
     "output_type": "execute_result"
    }
   ],
   "source": [
    "train_df.head(1)"
   ]
  },
  {
   "cell_type": "code",
   "execution_count": 20,
   "id": "45065491-d7b8-4191-9dea-765806996af3",
   "metadata": {},
   "outputs": [],
   "source": [
    "def get_video_path_train(idx):\n",
    "    video_name = train_df.iloc[idx]['Video Folder']\n",
    "    video_path = os.path.join(train_folder, video_name)\n",
    "    return video_path\n",
    "\n",
    "def get_image_list_train(idx):\n",
    "    ims = os.listdir(get_video_path_train(idx))\n",
    "    return ims"
   ]
  },
  {
   "cell_type": "code",
   "execution_count": 21,
   "id": "598d37dc-19a4-4b7f-911c-c55170673769",
   "metadata": {},
   "outputs": [
    {
     "data": {
      "text/plain": [
       "'Project_data\\\\train\\\\WIN_20180925_18_23_57_Pro_Thumbs_Down_new'"
      ]
     },
     "execution_count": 21,
     "metadata": {},
     "output_type": "execute_result"
    }
   ],
   "source": [
    "get_video_path_train(0)"
   ]
  },
  {
   "cell_type": "code",
   "execution_count": 22,
   "id": "50fab01a-a6dd-4089-9e1f-cbfe9aee5dbb",
   "metadata": {},
   "outputs": [],
   "source": [
    "ims = get_image_list_train(0)"
   ]
  },
  {
   "cell_type": "code",
   "execution_count": 23,
   "id": "2cb598c5-c3a3-4b68-bd51-17bf47dd6797",
   "metadata": {},
   "outputs": [
    {
     "data": {
      "text/plain": [
       "30"
      ]
     },
     "execution_count": 23,
     "metadata": {},
     "output_type": "execute_result"
    }
   ],
   "source": [
    "len(ims)"
   ]
  },
  {
   "cell_type": "code",
   "execution_count": 24,
   "id": "0b17a32c-b3b4-4d3f-bdd5-5c335374b13c",
   "metadata": {},
   "outputs": [],
   "source": [
    "def plot_sequence(train_idx, rows=3, columns=10, fig_size=(20,3), step_size=1):\n",
    "    fig = plt.figure(figsize=fig_size)\n",
    "    ims = get_image_list_train(train_idx)\n",
    "    folder_path = get_video_path_train(train_idx)\n",
    "    \n",
    "    for i in range(1, columns*rows+1, step_size):\n",
    "        img = imread(os.path.join(folder_path, ims[i-1]))\n",
    "        img = cv2.cvtColor(img, cv2.COLOR_BGR2RGB)\n",
    "        fig.add_subplot(rows, columns, i)\n",
    "        plt.imshow(img)\n",
    "\n",
    "    plt.show()"
   ]
  },
  {
   "cell_type": "code",
   "execution_count": 25,
   "id": "b5d72896-c8ba-46d8-82b1-7154a1d2e9dd",
   "metadata": {},
   "outputs": [],
   "source": [
    "# plot_sequence(0)"
   ]
  },
  {
   "cell_type": "code",
   "execution_count": 26,
   "id": "ffe82e48-3e80-4638-b3c3-96e89859d813",
   "metadata": {},
   "outputs": [],
   "source": [
    "# plot_sequence(1)"
   ]
  },
  {
   "cell_type": "markdown",
   "id": "cc5a0cd7-3dc2-49f6-932f-48c40b8c252d",
   "metadata": {},
   "source": [
    "### Checking GPU Specs"
   ]
  },
  {
   "cell_type": "code",
   "execution_count": 27,
   "id": "9bb4f702-f5de-403c-bb9e-953e53c694f9",
   "metadata": {},
   "outputs": [],
   "source": [
    "# from tensorflow.python.client import device_lib\n",
    "# print(device_lib.list_local_devices())"
   ]
  },
  {
   "cell_type": "code",
   "execution_count": 28,
   "id": "1ab79d6a-733a-46a9-b977-39af3cd47006",
   "metadata": {},
   "outputs": [],
   "source": [
    "# !nvidia-smi"
   ]
  },
  {
   "cell_type": "markdown",
   "id": "6d706515-a8af-4df0-b0b9-b599204d42a9",
   "metadata": {},
   "source": [
    "# Generator\n",
    "\n",
    "### Problems\n",
    "- Since the data is huge, it cannot be processed in a single go. The machine will throw out of memory error.\n",
    "- There are images in two types (dimension 120x120 and 360x), we need to make the dimensions same\n",
    "- There is some room for skipping images to speed up the training process\n",
    "- Data augmentation may be required to increase accuracy\n",
    "- Ablation will be required to reduce analysis time\n",
    "\n",
    "### Solution\n",
    "All of the above can be achieved with the help of a custom generator which generates data in batches as per requirement."
   ]
  },
  {
   "cell_type": "code",
   "execution_count": 29,
   "id": "7668b6d0-d43c-49f2-8bc0-8bef9c0b04a6",
   "metadata": {},
   "outputs": [],
   "source": [
    "class ImageProps:\n",
    "    \"\"\"Image class to easily store, retrieve and update properties of input images during training\"\"\"\n",
    "    img_selection_via_idx = [3, 6, 9, 12, 15, 18, 21]\n",
    "    img_selection_len = len(img_selection_via_idx)\n",
    "    \n",
    "    img_resize_height = 100\n",
    "    img_resize_width = 100\n",
    "    \n",
    "    img_crop_width_lower_limit = 10\n",
    "    img_crop_width_upper_limit = 90\n",
    "    img_crop_height_lower_limit = 10\n",
    "    img_crop_height_upper_limit = 90\n",
    "    \n",
    "    img_height = 80\n",
    "    img_width = 80\n",
    "    \n",
    "    NUM_RGB_CHANNELS = 3\n",
    "    \n",
    "    def normalize_channel(self, input_channel, lower_percentile=5, upper_percentile=95):\n",
    "        \"\"\"To normalize input channel using percentile values\"\"\"\n",
    "        lower_percentile_val = np.percentile(input_channel, lower_percentile)\n",
    "        upper_percentile_val = np.percentile(input_channel, upper_percentile)\n",
    "        \n",
    "        numerator = input_channel-lower_percentile_val\n",
    "        denominator = upper_percentile_val-lower_percentile_val\n",
    "        \n",
    "        normalized_channel = numerator/denominator\n",
    "        \n",
    "        return normalized_channel"
   ]
  },
  {
   "cell_type": "code",
   "execution_count": 30,
   "id": "8f463d38-35df-4276-b540-ebef9ab99bd1",
   "metadata": {},
   "outputs": [],
   "source": [
    "img_props = ImageProps()"
   ]
  },
  {
   "cell_type": "code",
   "execution_count": 31,
   "id": "00bce96b-0115-41fb-b814-a6ca564d6b72",
   "metadata": {},
   "outputs": [
    {
     "data": {
      "text/plain": [
       "[3, 6, 9, 12, 15, 18, 21]"
      ]
     },
     "execution_count": 31,
     "metadata": {},
     "output_type": "execute_result"
    }
   ],
   "source": [
    "img_props.img_selection_via_idx"
   ]
  },
  {
   "cell_type": "code",
   "execution_count": 32,
   "id": "b5365ef4-b568-44c0-ae66-b9548f12cc3d",
   "metadata": {
    "tags": []
   },
   "outputs": [],
   "source": [
    "class VideoBatchGenerator:\n",
    "    \"\"\"Generator class to generate images in batches as per requirement\n",
    "    \n",
    "    Number of channels in RGB image is 3\n",
    "    Number of gestures / output classes is 5\n",
    "    \n",
    "    Batch Data dimensions:\n",
    "    - images have 2 dimensions (width x height)\n",
    "    - rgb images have 3 channels (width x height x 3)\n",
    "    - videos are sequence of rgb images (sequence of images x width x height x 3)\n",
    "    - each batch has prespecified number of videos (batch size * sequence of images * width * height * 3)\n",
    "    \"\"\"\n",
    "    batch_size = 3\n",
    "    num_images_per_video = img_props.img_selection_len\n",
    "    img_height = img_props.img_height\n",
    "    img_width = img_props.img_width\n",
    "    NUM_RGB_CHANNELS = 3\n",
    "    NUM_CLASSES = 5\n",
    "    SHOW_IMAGE = False\n",
    "    \n",
    "    def __init__(self, batch_size=batch_size):\n",
    "        self.batch_size = batch_size\n",
    "        \n",
    "    def batch_generator(self, parent_folder_path, df):\n",
    "        num_videos = len(df)\n",
    "        # batch size cannot be larger than the input video sequence\n",
    "        self.batch_size = min(self.batch_size, num_videos)\n",
    "        num_batches = num_videos//self.batch_size\n",
    "        extra_batch_size = num_videos%self.batch_size\n",
    "        \n",
    "        log.info(f\"Source Path: {parent_folder_path}\")\n",
    "        log.info(f\"Number of Videos: {num_videos}\")\n",
    "        log.info(f\"Batch Size: {self.batch_size}\") \n",
    "        log.info(f\"Number of Batches: {num_batches}\")\n",
    "        log.info(f\"Extra Batch Size (zero means no extra batch): {extra_batch_size}\")\n",
    "        \n",
    "        while True:\n",
    "            shuffled_df = shuffle(df, random_state=RANDOM_SEED)\n",
    "            shuffled_video_folders = shuffled_df['Video Folder']\n",
    "            shuffled_labels = shuffled_df['Label']\n",
    "            \n",
    "            log.debug(f\"{shuffled_df.head()}\")\n",
    "            \n",
    "            for batch_id in range(num_batches):\n",
    "                log.debug(f\"Current Batch: {batch_id}\")\n",
    "                batch_data = np.zeros((self.batch_size, \n",
    "                                       self.num_images_per_video, \n",
    "                                       self.img_width, self.img_height, \n",
    "                                       self.NUM_RGB_CHANNELS))\n",
    "                batch_labels = np.zeros((self.batch_size, \n",
    "                                         self.NUM_CLASSES))\n",
    "                \n",
    "                for video_id in range(self.batch_size):\n",
    "                    video_folder_id = video_id + batch_id*self.batch_size\n",
    "                    video_folder_path = os.path.join(parent_folder_path, shuffled_video_folders[video_folder_id])\n",
    "                    log.debug(f'id: {video_folder_id} video_folder_path: {video_folder_path}')\n",
    "                    imgs_in_video = os.listdir(video_folder_path)\n",
    "                    log.debug(f'first image: {imgs_in_video[0]}')\n",
    "                    \n",
    "                    for img_id, img_id_in_video in enumerate(img_props.img_selection_via_idx):\n",
    "                        img = imgs_in_video[img_id_in_video]\n",
    "                        log.debug(f'current image via selection: {img}')\n",
    "                        img_path = os.path.join(video_folder_path, img)\n",
    "                        log.debug(f'current image via selection [path]: {img_path}')\n",
    "                        img_array = imread(img_path).astype(np.float32)\n",
    "                        img_array = cv2.cvtColor(img_array, cv2.COLOR_BGR2RGB)\n",
    "                        \n",
    "                        resized_image = cv2.resize(img_array, (\n",
    "                                        img_props.img_resize_width, \n",
    "                                        img_props.img_resize_height,\n",
    "                                        ))\n",
    "                        \n",
    "                        cropped_image = resized_image = resized_image[\n",
    "                            img_props.img_crop_width_lower_limit:img_props.img_crop_width_upper_limit,\n",
    "                            img_props.img_crop_height_lower_limit:img_props.img_crop_height_upper_limit,\n",
    "                        ]\n",
    "                        \n",
    "                        log.debug(f\"Shape of cropped image (after resize): {cropped_image.shape}\")\n",
    "                        \n",
    "                        red_channel = cropped_image[:, :, 0]\n",
    "                        green_channel = cropped_image[:, :, 1]\n",
    "                        blue_channel = cropped_image[:, :, 2]\n",
    "                        \n",
    "                        batch_data[video_id, img_id, :, :, 0] = img_props.normalize_channel(red_channel)\n",
    "                        batch_data[video_id, img_id, :, :, 1] = img_props.normalize_channel(green_channel)\n",
    "                        batch_data[video_id, img_id, :, :, 2] = img_props.normalize_channel(blue_channel)\n",
    "                        \n",
    "                        if self.SHOW_IMAGE:\n",
    "                            plt.imshow(batch_data[video_id, img_id, :, :, :])\n",
    "                            plt.show()\n",
    "                        \n",
    "                    batch_labels[video_id, shuffled_labels[video_folder_id]] = 1\n",
    "                    log.debug(f\"batch data: for video:img [{video_id}:{img_id}] = {batch_data[video_id, img_id, :, :, 0]}\")\n",
    "                    log.debug(f\"batch label: {video_id} = {batch_labels[video_id]}\")\n",
    "                yield batch_data, batch_labels\n",
    "            \n",
    "            if extra_batch_size:\n",
    "                last_batch_id = batch_id + 1\n",
    "                log.debug(f\"Current Batch (Extra Batch): {last_batch_id}\")\n",
    "                batch_data = np.zeros((extra_batch_size, \n",
    "                                       self.num_images_per_video, \n",
    "                                       self.img_width, self.img_height, \n",
    "                                       self.NUM_RGB_CHANNELS))\n",
    "                batch_labels = np.zeros((extra_batch_size, \n",
    "                                         self.NUM_CLASSES))\n",
    "                \n",
    "                for video_id in range(extra_batch_size):\n",
    "                    video_folder_id = video_id + last_batch_id*self.batch_size\n",
    "                    video_folder_path = os.path.join(parent_folder_path, shuffled_video_folders[video_folder_id])\n",
    "                    log.debug(f'id: {video_folder_id} video_folder_path: {video_folder_path}')\n",
    "                    imgs_in_video = os.listdir(video_folder_path)\n",
    "                    log.debug(f'first image: {imgs_in_video[0]}')\n",
    "                    \n",
    "                    for img_id, img_id_in_video in enumerate(img_props.img_selection_via_idx):\n",
    "                        img = imgs_in_video[img_id_in_video]\n",
    "                        log.debug(f'current image via selection: {img}')\n",
    "                        img_path = os.path.join(video_folder_path, img)\n",
    "                        log.debug(f'current image via selection [path]: {img_path}')\n",
    "                        img_array = imread(img_path).astype(np.float32)\n",
    "                        img_array = cv2.cvtColor(img_array, cv2.COLOR_BGR2RGB)\n",
    "                        \n",
    "                        resized_image = cv2.resize(img_array, (\n",
    "                                        img_props.img_resize_width, \n",
    "                                        img_props.img_resize_height,\n",
    "                                        ))\n",
    "                        \n",
    "                        cropped_image = resized_image[\n",
    "                            img_props.img_crop_width_lower_limit:img_props.img_crop_width_upper_limit,\n",
    "                            img_props.img_crop_height_lower_limit:img_props.img_crop_height_upper_limit,\n",
    "                        ]\n",
    "                        \n",
    "                        log.debug(f\"Shape of cropped image (after resize): {cropped_image.shape}\")\n",
    "                        \n",
    "                        red_channel = cropped_image[:, :, 0]\n",
    "                        green_channel = cropped_image[:, :, 1]\n",
    "                        blue_channel = cropped_image[:, :, 2]\n",
    "                        \n",
    "                        batch_data[video_id, img_id, :, :, 0] = img_props.normalize_channel(red_channel)\n",
    "                        batch_data[video_id, img_id, :, :, 1] = img_props.normalize_channel(green_channel)\n",
    "                        batch_data[video_id, img_id, :, :, 2] = img_props.normalize_channel(blue_channel)\n",
    "                        \n",
    "                        if self.SHOW_IMAGE:\n",
    "                            plt.imshow(batch_data[video_id, img_id, :, :, :])\n",
    "                            plt.show()\n",
    "                            \n",
    "                    batch_labels[video_id, shuffled_labels[video_folder_id]] = 1\n",
    "                    log.debug(f\"batch data: for video:img [{video_id}:{img_id}] = {batch_data[video_id, img_id, :, :, 0]}\")\n",
    "                    log.debug(f\"batch label: {video_id} = {batch_labels[video_id]}\")\n",
    "                yield batch_data, batch_labels"
   ]
  },
  {
   "cell_type": "markdown",
   "id": "528b53b1-5f2d-40fc-9453-3239a4e02fe7",
   "metadata": {},
   "source": [
    "## Sanity Check for Batch Generator"
   ]
  },
  {
   "cell_type": "code",
   "execution_count": 33,
   "id": "81d1b162-8eb9-4150-9455-9628504309b4",
   "metadata": {},
   "outputs": [],
   "source": [
    "# v = VideoBatchGenerator()"
   ]
  },
  {
   "cell_type": "code",
   "execution_count": 34,
   "id": "35250a29-cd71-4be3-ab4b-3528ffe8ea06",
   "metadata": {},
   "outputs": [],
   "source": [
    "# v.batch_size"
   ]
  },
  {
   "cell_type": "code",
   "execution_count": 35,
   "id": "1520108a-e5a5-4b48-b882-3b003c837488",
   "metadata": {},
   "outputs": [],
   "source": [
    "# v.batch_size = 5"
   ]
  },
  {
   "cell_type": "code",
   "execution_count": 36,
   "id": "c165efe9-f062-4a48-a995-9480df004e99",
   "metadata": {},
   "outputs": [],
   "source": [
    "# x = v.batch_generator(train_folder, train_df[0:12])"
   ]
  },
  {
   "cell_type": "code",
   "execution_count": 37,
   "id": "1a00e816-ee14-4623-bef9-22c86d655c25",
   "metadata": {},
   "outputs": [],
   "source": [
    "# train_df[0:4]"
   ]
  },
  {
   "cell_type": "code",
   "execution_count": 38,
   "id": "155a6bcb-f0d1-4265-865a-2ab2c81b60a9",
   "metadata": {},
   "outputs": [],
   "source": [
    "# v.SHOW_IMAGE = True"
   ]
  },
  {
   "cell_type": "code",
   "execution_count": 39,
   "id": "4a0cef85-a3c7-41e5-a28f-f1088ae6a848",
   "metadata": {
    "tags": []
   },
   "outputs": [],
   "source": [
    "# d = next(x)"
   ]
  },
  {
   "cell_type": "code",
   "execution_count": 40,
   "id": "526764ac-760a-4a9c-90f9-624cbd74ef28",
   "metadata": {
    "tags": []
   },
   "outputs": [],
   "source": [
    "# d = next(x)"
   ]
  },
  {
   "cell_type": "code",
   "execution_count": 41,
   "id": "9d47a308-8a31-43dd-b3fd-741cd2965568",
   "metadata": {
    "tags": []
   },
   "outputs": [],
   "source": [
    "# d = next(x)"
   ]
  },
  {
   "cell_type": "code",
   "execution_count": 42,
   "id": "66c60da1-6c4f-4809-94d9-dafdc9542cca",
   "metadata": {},
   "outputs": [],
   "source": [
    "# d[1]"
   ]
  },
  {
   "cell_type": "code",
   "execution_count": 43,
   "id": "9d8c2539-d2bf-4a08-a656-a3e010aea75f",
   "metadata": {},
   "outputs": [],
   "source": [
    "# d[0]"
   ]
  },
  {
   "cell_type": "code",
   "execution_count": 44,
   "id": "b8fd7d53-9641-48e1-a769-43621f3c83ff",
   "metadata": {},
   "outputs": [],
   "source": [
    "# val = v.batch_generator(val_folder, val_df[0:10])"
   ]
  },
  {
   "cell_type": "code",
   "execution_count": 45,
   "id": "a39c3e05-4802-4bab-8715-0a9b6fb9c298",
   "metadata": {},
   "outputs": [],
   "source": [
    "# v.batch_size = 3"
   ]
  },
  {
   "cell_type": "code",
   "execution_count": 46,
   "id": "b928c003-f1ab-4b72-a892-37cbe18ede01",
   "metadata": {
    "tags": []
   },
   "outputs": [],
   "source": [
    "# y = next(val)"
   ]
  },
  {
   "cell_type": "code",
   "execution_count": 47,
   "id": "5e7130c1-5dae-49e0-a66b-9c2cf5792748",
   "metadata": {
    "tags": []
   },
   "outputs": [],
   "source": [
    "# y = next(val)"
   ]
  },
  {
   "cell_type": "code",
   "execution_count": 48,
   "id": "da96ca8e-4548-407a-b693-e7ed39ae9d9a",
   "metadata": {
    "tags": []
   },
   "outputs": [],
   "source": [
    "# y = next(val)"
   ]
  },
  {
   "cell_type": "code",
   "execution_count": 49,
   "id": "e2e9ecc7-664d-4c8d-b0d0-2e2d5cfea965",
   "metadata": {
    "tags": []
   },
   "outputs": [],
   "source": [
    "# y = next(val)"
   ]
  },
  {
   "cell_type": "markdown",
   "id": "306583e5-f228-4245-b99e-38a1d321de35",
   "metadata": {},
   "source": [
    "---"
   ]
  },
  {
   "cell_type": "code",
   "execution_count": 50,
   "id": "2aefd835-3fdf-4468-96a5-c552a3cb53ab",
   "metadata": {},
   "outputs": [],
   "source": [
    "class ModelProps:\n",
    "    \"\"\"Properties that logically belong to a Model will be kept here\"\"\"\n",
    "    current_date_time = str(datetime.datetime.now()).replace(' ', '').replace(':', '_')\n",
    "    num_epochs = 3\n",
    "    model_init_name = 'model_init'\n",
    "    model_root_folder = \"models\"\n",
    "    num_train_videos = None\n",
    "    num_val_videos = None\n",
    "    steps_per_epoch_train = None\n",
    "    steps_per_epoch_val = None\n",
    "    NUM_CLASSES = 5\n",
    "    sample_shape = (img_props.img_selection_len, \n",
    "                    img_props.img_width, img_props.img_height, \n",
    "                    img_props.NUM_RGB_CHANNELS)\n",
    "    \n",
    "    def __init__(self, train_df, val_df, batch_size):\n",
    "        self.num_train_videos = len(train_df)\n",
    "        self.num_val_videos = len(val_df)\n",
    "        self.model_folder_name = self.model_init_name + \"_\" + self.current_date_time + \"/\"\n",
    "        self.model_folder_path = os.path.join(self.model_root_folder, self.model_folder_name)\n",
    "        \n",
    "        log.info(f\"Number of Training Videos: {self.num_train_videos}\")\n",
    "        log.info(f\"Number of Validation Videos: {self.num_val_videos}\")\n",
    "        \n",
    "        self.steps_per_epoch_train = self.calculate_steps_per_epoch(self.num_train_videos, batch_size)\n",
    "        self.steps_per_epoch_val = self.calculate_steps_per_epoch(self.num_val_videos, batch_size)\n",
    "        \n",
    "        log.info(f\"Number of Steps (Train): {self.steps_per_epoch_train}\")\n",
    "        log.info(f\"Number of Steps (Val): {self.steps_per_epoch_val}\")\n",
    "        \n",
    "        log.info(f\"Sample Shape: {self.sample_shape}\")\n",
    "        \n",
    "        if not os.path.exists(self.model_root_folder):\n",
    "            os.mkdir(self.model_root_folder)\n",
    "        \n",
    "        if not os.path.exists(self.model_folder_path):\n",
    "            os.mkdir(self.model_folder_path)\n",
    "        \n",
    "    def calculate_steps_per_epoch(self, num_videos, batch_size):\n",
    "        \"\"\"Calculates steps per epoch based on the input videos and batch size\"\"\"\n",
    "        steps_per_epoch = (num_videos//batch_size)+1 if num_videos%batch_size else num_videos/batch_size\n",
    "        return steps_per_epoch\n",
    "        \n",
    "    def model_config(self):\n",
    "        model_file_path = os.path.join(self.model_folder_path, \n",
    "            'model-{epoch:05d}-{loss:.5f}-{categorical_accuracy:.5f}-{val_loss:.5f}-{val_categorical_accuracy:.5f}.h5'\n",
    "        )\n",
    "        \n",
    "        checkpoint = ModelCheckpoint(\n",
    "            model_file_path, \n",
    "            monitor='val_loss',\n",
    "            verbose=1,\n",
    "            save_best_only=False, \n",
    "            save_weights_only=False, \n",
    "            mode='auto', \n",
    "            save_freq='epoch'\n",
    "        )\n",
    "\n",
    "        LR = ReduceLROnPlateau(\n",
    "            monitor=\"val_loss\",\n",
    "            factor=0.1,\n",
    "            patience=5,\n",
    "            verbose=1,\n",
    "            mode=\"auto\",\n",
    "            min_delta=0.0001,\n",
    "            cooldown=0,\n",
    "            min_lr=0,\n",
    "        )\n",
    "        \n",
    "        callbacks_list = [LR, checkpoint]\n",
    "        \n",
    "        return callbacks_list"
   ]
  },
  {
   "cell_type": "code",
   "execution_count": 51,
   "id": "ff90f798-82ca-4366-9fcb-8c9a6b61f8ec",
   "metadata": {},
   "outputs": [],
   "source": [
    "# m = ModelProps(train_df, val_df, 3)"
   ]
  },
  {
   "cell_type": "markdown",
   "id": "aa60e56e-bb29-4ee4-a142-6d8b2ef5f235",
   "metadata": {},
   "source": [
    "# Model Building"
   ]
  },
  {
   "cell_type": "code",
   "execution_count": 52,
   "id": "17eaec23-ec87-4f5b-b727-ca01ed482992",
   "metadata": {},
   "outputs": [],
   "source": [
    "import abc\n",
    "\n",
    "class ModelBuilder(ModelProps, VideoBatchGenerator):\n",
    "    def __init__(self, train_df, val_df, batch_size):\n",
    "        super().__init__(train_df, val_df, batch_size)\n",
    "        video_batch_generator = VideoBatchGenerator(batch_size=batch_size)\n",
    "        self.train_generator = video_batch_generator.batch_generator(train_folder, train_df)\n",
    "        self.val_generator = video_batch_generator.batch_generator(val_folder, val_df)\n",
    "        \n",
    "    @abc.abstractmethod\n",
    "    def model_builder(self):\n",
    "        \"\"\"Building model based on Keras API\"\"\"\n",
    "        model = Sequential()\n",
    "        model.add(Conv3D(16, kernel_size=(3, 3, 3), activation='relu', kernel_initializer='he_uniform', input_shape=self.sample_shape, padding='same'))\n",
    "        model.add(BatchNormalization(center=True, scale=True))\n",
    "\n",
    "        model.add(Conv3D(32, kernel_size=(3, 3, 3), activation='relu', kernel_initializer='he_uniform', padding='same'))\n",
    "        model.add(MaxPooling3D(pool_size=(2, 2, 2)))\n",
    "        model.add(BatchNormalization(center=True, scale=True))\n",
    "\n",
    "        model.add(Conv3D(64, kernel_size=(3, 3, 3), activation='relu', kernel_initializer='he_uniform', padding='same'))\n",
    "        model.add(BatchNormalization(center=True, scale=True))\n",
    "\n",
    "        model.add(Flatten())\n",
    "        model.add(Dense(128, activation='relu', kernel_initializer='he_uniform'))\n",
    "        model.add(Dense(self.NUM_CLASSES, activation='softmax'))\n",
    "        \n",
    "        return model\n",
    "    \n",
    "    def model_compiler(self, optimizer='adam', loss='categorical_crossentropy', metrics=['categorical_accuracy']):\n",
    "        \"\"\"Compiling model by taking in optimizer, loss, and metrics\"\"\"\n",
    "        model = self.model_builder()\n",
    "        model.compile(optimizer, loss, metrics)\n",
    "        \n",
    "        return model"
   ]
  },
  {
   "cell_type": "code",
   "execution_count": 53,
   "id": "8bfe69d4-f6c2-40a8-add8-72267f97dae5",
   "metadata": {},
   "outputs": [],
   "source": [
    "class ModelTraining:\n",
    "    def __init__(self, model_builder, model):\n",
    "        self.model_builder = model_builder\n",
    "        self.model = model\n",
    "        \n",
    "    def model_training(self):\n",
    "        self.history = self.model.fit(\n",
    "            self.model_builder.train_generator, \n",
    "            steps_per_epoch=self.model_builder.steps_per_epoch_train, \n",
    "            epochs=self.model_builder.num_epochs, \n",
    "            callbacks=self.model_builder.model_config(), \n",
    "            validation_data=self.model_builder.val_generator, \n",
    "            validation_steps=self.model_builder.steps_per_epoch_val, \n",
    "            class_weight=None, \n",
    "            workers=1, \n",
    "            initial_epoch=0)\n",
    "        \n",
    "    def model_analysis(self):\n",
    "        acc = self.history.history['categorical_accuracy']\n",
    "        val_acc = self.history.history['val_categorical_accuracy']\n",
    "\n",
    "        loss = self.history.history['loss']\n",
    "        val_loss = self.history.history['val_loss']\n",
    "\n",
    "        epochs_range = range(self.model_builder.num_epochs)\n",
    "        \n",
    "        plt.figure(figsize=(8, 8))\n",
    "        plt.subplot(1, 2, 1)\n",
    "        plt.plot(epochs_range, acc, label='Training Accuracy')\n",
    "        plt.plot(epochs_range, val_acc, label='Validation Accuracy')\n",
    "        plt.legend(loc='lower right')\n",
    "        plt.title('Training and Validation Accuracy')\n",
    "    \n",
    "        plt.subplot(1, 2, 2)\n",
    "        plt.plot(epochs_range, loss, label='Training Loss')\n",
    "        plt.plot(epochs_range, val_loss, label='Validation Loss')\n",
    "        plt.legend(loc='upper right')\n",
    "        plt.title('Training and Validation Loss')\n",
    "        plt.show()"
   ]
  },
  {
   "cell_type": "markdown",
   "id": "e21e921d-6305-4710-901d-d9d2eee86cdf",
   "metadata": {},
   "source": [
    "## CNN3D"
   ]
  },
  {
   "cell_type": "code",
   "execution_count": 55,
   "id": "7cf983a6-fad4-4054-b516-17b6fce2079a",
   "metadata": {},
   "outputs": [
    {
     "name": "stdout",
     "output_type": "stream",
     "text": [
      "Number of Training Videos: 12\n",
      "Number of Validation Videos: 12\n",
      "Number of Steps (Train): 4.0\n",
      "Number of Steps (Val): 4.0\n",
      "Sample Shape: (7, 80, 80, 3)\n"
     ]
    }
   ],
   "source": [
    "model_builder = ModelBuilder(train_df[0:12], val_df[0:12], 3)"
   ]
  },
  {
   "cell_type": "code",
   "execution_count": 56,
   "id": "827dd4e5-e97f-46c6-ad30-655340f1b42f",
   "metadata": {},
   "outputs": [],
   "source": [
    "simple_model_1 = model_builder.model_compiler()"
   ]
  },
  {
   "cell_type": "code",
   "execution_count": 57,
   "id": "342ac998-548f-4b15-9531-bebed9bf924f",
   "metadata": {},
   "outputs": [
    {
     "name": "stdout",
     "output_type": "stream",
     "text": [
      "Model: \"sequential\"\n",
      "_________________________________________________________________\n",
      " Layer (type)                Output Shape              Param #   \n",
      "=================================================================\n",
      " conv3d (Conv3D)             (None, 7, 80, 80, 16)     1312      \n",
      "                                                                 \n",
      " batch_normalization (BatchN  (None, 7, 80, 80, 16)    64        \n",
      " ormalization)                                                   \n",
      "                                                                 \n",
      " conv3d_1 (Conv3D)           (None, 7, 80, 80, 32)     13856     \n",
      "                                                                 \n",
      " max_pooling3d (MaxPooling3D  (None, 3, 40, 40, 32)    0         \n",
      " )                                                               \n",
      "                                                                 \n",
      " batch_normalization_1 (Batc  (None, 3, 40, 40, 32)    128       \n",
      " hNormalization)                                                 \n",
      "                                                                 \n",
      " conv3d_2 (Conv3D)           (None, 3, 40, 40, 64)     55360     \n",
      "                                                                 \n",
      " batch_normalization_2 (Batc  (None, 3, 40, 40, 64)    256       \n",
      " hNormalization)                                                 \n",
      "                                                                 \n",
      " flatten (Flatten)           (None, 307200)            0         \n",
      "                                                                 \n",
      " dense (Dense)               (None, 128)               39321728  \n",
      "                                                                 \n",
      " dense_1 (Dense)             (None, 5)                 645       \n",
      "                                                                 \n",
      "=================================================================\n",
      "Total params: 39,393,349\n",
      "Trainable params: 39,393,125\n",
      "Non-trainable params: 224\n",
      "_________________________________________________________________\n"
     ]
    }
   ],
   "source": [
    "simple_model_1.summary()"
   ]
  },
  {
   "cell_type": "code",
   "execution_count": 58,
   "id": "17b437e6-a415-42c4-ad91-ca986aa6ac41",
   "metadata": {},
   "outputs": [],
   "source": [
    "training_simple_model_1 = ModelTraining(model_builder, simple_model_1)"
   ]
  },
  {
   "cell_type": "code",
   "execution_count": 59,
   "id": "5ba03163-734a-43fd-9238-2fd5723f41ed",
   "metadata": {},
   "outputs": [],
   "source": [
    "# training_simple_model_1.model_training()"
   ]
  },
  {
   "cell_type": "code",
   "execution_count": 60,
   "id": "c66af101-2b8b-4d1e-a44d-2178bb4ca159",
   "metadata": {},
   "outputs": [],
   "source": [
    "class MB(ModelBuilder):\n",
    "    \n",
    "    def model_builder(self):\n",
    "        \"\"\"Building model based on Keras API\"\"\"\n",
    "        model = Sequential()\n",
    "        model.add(Conv3D(16, kernel_size=(3, 3, 3), activation='relu', kernel_initializer='he_uniform', input_shape=self.sample_shape, padding='same'))\n",
    "        model.add(BatchNormalization(center=True, scale=True))\n",
    "\n",
    "        model.add(Conv3D(32, kernel_size=(3, 3, 3), activation='relu', kernel_initializer='he_uniform', padding='same'))\n",
    "        model.add(MaxPooling3D(pool_size=(2, 2, 2)))\n",
    "        model.add(BatchNormalization(center=True, scale=True))\n",
    "\n",
    "        model.add(Conv3D(64, kernel_size=(3, 3, 3), activation='relu', kernel_initializer='he_uniform', padding='same'))\n",
    "        model.add(MaxPooling3D(pool_size=(2, 2, 2)))\n",
    "        model.add(BatchNormalization(center=True, scale=True))\n",
    "\n",
    "        model.add(Flatten())\n",
    "        model.add(Dense(128, activation='relu', kernel_initializer='he_uniform'))\n",
    "        model.add(Dense(256, activation='relu', kernel_initializer='he_uniform'))\n",
    "        model.add(Dense(self.NUM_CLASSES, activation='softmax'))\n",
    "        \n",
    "        return model"
   ]
  },
  {
   "cell_type": "code",
   "execution_count": 61,
   "id": "fb79dd11-fdb6-41cb-bf36-2b8dfc4126cf",
   "metadata": {},
   "outputs": [
    {
     "name": "stdout",
     "output_type": "stream",
     "text": [
      "Number of Training Videos: 663\n",
      "Number of Validation Videos: 100\n",
      "Number of Steps (Train): 4\n",
      "Number of Steps (Val): 1\n",
      "Sample Shape: (7, 80, 80, 3)\n"
     ]
    }
   ],
   "source": [
    "mm = MB(train_df, val_df, 200)"
   ]
  },
  {
   "cell_type": "code",
   "execution_count": 62,
   "id": "cd972d88-519d-4859-8b3b-9485a2972582",
   "metadata": {},
   "outputs": [],
   "source": [
    "m2 = mm.model_compiler()"
   ]
  },
  {
   "cell_type": "code",
   "execution_count": 63,
   "id": "8ef8d267-3281-417f-a229-d9ce281d5394",
   "metadata": {},
   "outputs": [
    {
     "name": "stdout",
     "output_type": "stream",
     "text": [
      "Model: \"sequential_1\"\n",
      "_________________________________________________________________\n",
      " Layer (type)                Output Shape              Param #   \n",
      "=================================================================\n",
      " conv3d_3 (Conv3D)           (None, 7, 80, 80, 16)     1312      \n",
      "                                                                 \n",
      " batch_normalization_3 (Batc  (None, 7, 80, 80, 16)    64        \n",
      " hNormalization)                                                 \n",
      "                                                                 \n",
      " conv3d_4 (Conv3D)           (None, 7, 80, 80, 32)     13856     \n",
      "                                                                 \n",
      " max_pooling3d_1 (MaxPooling  (None, 3, 40, 40, 32)    0         \n",
      " 3D)                                                             \n",
      "                                                                 \n",
      " batch_normalization_4 (Batc  (None, 3, 40, 40, 32)    128       \n",
      " hNormalization)                                                 \n",
      "                                                                 \n",
      " conv3d_5 (Conv3D)           (None, 3, 40, 40, 64)     55360     \n",
      "                                                                 \n",
      " max_pooling3d_2 (MaxPooling  (None, 1, 20, 20, 64)    0         \n",
      " 3D)                                                             \n",
      "                                                                 \n",
      " batch_normalization_5 (Batc  (None, 1, 20, 20, 64)    256       \n",
      " hNormalization)                                                 \n",
      "                                                                 \n",
      " flatten_1 (Flatten)         (None, 25600)             0         \n",
      "                                                                 \n",
      " dense_2 (Dense)             (None, 128)               3276928   \n",
      "                                                                 \n",
      " dense_3 (Dense)             (None, 256)               33024     \n",
      "                                                                 \n",
      " dense_4 (Dense)             (None, 5)                 1285      \n",
      "                                                                 \n",
      "=================================================================\n",
      "Total params: 3,382,213\n",
      "Trainable params: 3,381,989\n",
      "Non-trainable params: 224\n",
      "_________________________________________________________________\n"
     ]
    }
   ],
   "source": [
    "m2.summary()"
   ]
  },
  {
   "cell_type": "code",
   "execution_count": 64,
   "id": "576b4b6e-3ed6-4b36-952b-017cbfd5b45a",
   "metadata": {},
   "outputs": [],
   "source": [
    "mmt = ModelTraining(mm, m2)"
   ]
  },
  {
   "cell_type": "code",
   "execution_count": 66,
   "id": "fccf4bf3-ab2d-4a0a-b628-9907540548b0",
   "metadata": {},
   "outputs": [],
   "source": [
    "# mmt.model_training()"
   ]
  },
  {
   "cell_type": "code",
   "execution_count": null,
   "id": "ef15544a-9ce8-437c-a52f-295d0c7f15fb",
   "metadata": {},
   "outputs": [],
   "source": [
    "mmt.model_acc"
   ]
  },
  {
   "cell_type": "code",
   "execution_count": null,
   "id": "76f48080-1a83-47fc-90ef-673f1c97d616",
   "metadata": {},
   "outputs": [],
   "source": [
    "# training_simple_model_1.model_analysis()"
   ]
  },
  {
   "cell_type": "markdown",
   "id": "add8c0a1-970e-43a6-abba-015c5e3837e3",
   "metadata": {},
   "source": [
    "---"
   ]
  },
  {
   "cell_type": "code",
   "execution_count": 79,
   "id": "0c86a34a-fc80-4216-95cc-22aa571578c2",
   "metadata": {},
   "outputs": [
    {
     "name": "stdout",
     "output_type": "stream",
     "text": [
      "Number of Training Videos: 663\n",
      "Number of Validation Videos: 100\n",
      "Number of Steps (Train): 3\n",
      "Number of Steps (Val): 1\n",
      "Sample Shape: (7, 80, 80, 3)\n"
     ]
    }
   ],
   "source": [
    "model_builder = ModelBuilder(train_df, val_df, 300)"
   ]
  },
  {
   "cell_type": "code",
   "execution_count": 80,
   "id": "a9cd2500-4bdb-41a9-9778-5d61a880ec64",
   "metadata": {},
   "outputs": [],
   "source": [
    "# len(train_df), len(val_df)"
   ]
  },
  {
   "cell_type": "code",
   "execution_count": 81,
   "id": "48b5e900-efb4-4f60-8834-6552d31c7d54",
   "metadata": {},
   "outputs": [],
   "source": [
    "simple_model_2 = model_builder.model_compiler()"
   ]
  },
  {
   "cell_type": "code",
   "execution_count": 82,
   "id": "d7aae8a7-dd05-47ea-ba52-3cbf56e36a74",
   "metadata": {},
   "outputs": [],
   "source": [
    "training_simple_model_on_large_data = ModelTraining(model_builder, simple_model_2)"
   ]
  },
  {
   "cell_type": "code",
   "execution_count": 83,
   "id": "b259b6bb-fbca-40ec-a333-2d553ec8b77d",
   "metadata": {},
   "outputs": [
    {
     "name": "stdout",
     "output_type": "stream",
     "text": [
      "Source Path: Project_data\\train\n",
      "Number of Videos: 663\n",
      "Batch Size: 300\n",
      "Number of Batches: 2\n",
      "Extra Batch Size (zero means no extra batch): 63\n",
      "Epoch 1/3\n",
      "3/3 [==============================] - ETA: 0s - loss: 89.4317 - categorical_accuracy: 0.1916  Source Path: Project_data\\val\n",
      "Number of Videos: 100\n",
      "Batch Size: 100\n",
      "Number of Batches: 1\n",
      "Extra Batch Size (zero means no extra batch): 0\n",
      "\n",
      "Epoch 00001: saving model to models\\model_init_2022-01-0216_41_25.590440\\model-00001-89.43166-0.19155-153.47650-0.30000.h5\n",
      "3/3 [==============================] - 176s 43s/step - loss: 89.4317 - categorical_accuracy: 0.1916 - val_loss: 153.4765 - val_categorical_accuracy: 0.3000 - lr: 0.0010\n",
      "Epoch 2/3\n",
      "3/3 [==============================] - ETA: 0s - loss: 20.5491 - categorical_accuracy: 0.5659 \n",
      "Epoch 00002: saving model to models\\model_init_2022-01-0216_41_25.590440\\model-00002-20.54911-0.56587-227.84879-0.24000.h5\n",
      "3/3 [==============================] - 106s 21s/step - loss: 20.5491 - categorical_accuracy: 0.5659 - val_loss: 227.8488 - val_categorical_accuracy: 0.2400 - lr: 0.0010\n",
      "Epoch 3/3\n",
      "3/3 [==============================] - ETA: 0s - loss: 4.0360 - categorical_accuracy: 0.8327 \n",
      "Epoch 00003: saving model to models\\model_init_2022-01-0216_41_25.590440\\model-00003-4.03598-0.83270-233.60809-0.24000.h5\n",
      "3/3 [==============================] - 62s 21s/step - loss: 4.0360 - categorical_accuracy: 0.8327 - val_loss: 233.6081 - val_categorical_accuracy: 0.2400 - lr: 0.0010\n"
     ]
    }
   ],
   "source": [
    "training_simple_model_on_large_data.model_training()"
   ]
  },
  {
   "cell_type": "code",
   "execution_count": 84,
   "id": "5d39a82e-7756-4806-b2b3-a0f44bc1b0c4",
   "metadata": {},
   "outputs": [
    {
     "data": {
      "image/png": "[encoded data removed]",
      "text/plain": [
       "<Figure size 576x576 with 2 Axes>"
      ]
     },
     "metadata": {
      "needs_background": "light"
     },
     "output_type": "display_data"
    }
   ],
   "source": [
    "training_simple_model_on_large_data.model_analysis()"
   ]
  },
  {
   "cell_type": "markdown",
   "id": "641eb239-445b-4f68-83a6-22f9a377b98f",
   "metadata": {},
   "source": [
    "---"
   ]
  },
  {
   "cell_type": "markdown",
   "id": "8f11f943-6d12-4efe-9319-8c88984bc8d9",
   "metadata": {
    "tags": []
   },
   "source": [
    "## CNN + RNN combination"
   ]
  },
  {
   "cell_type": "code",
   "execution_count": 54,
   "id": "bb2c44ff-3fa2-4f7a-a45b-56984d2a0bbe",
   "metadata": {},
   "outputs": [],
   "source": [
    "from tensorflow.keras.applications.resnet50 import ResNet50"
   ]
  },
  {
   "cell_type": "code",
   "execution_count": 55,
   "id": "c46f382b-5093-4a45-83e7-2560ec9a87b3",
   "metadata": {},
   "outputs": [],
   "source": [
    "resnet = ResNet50(include_top=False,weights='imagenet',input_shape=(img_props.img_width,img_props.img_height,img_props.NUM_RGB_CHANNELS))"
   ]
  },
  {
   "cell_type": "code",
   "execution_count": 56,
   "id": "8dff70b4-f57c-4670-978e-c85fdf99950a",
   "metadata": {},
   "outputs": [],
   "source": [
    "class RNN(ModelBuilder):\n",
    "    \n",
    "    def model_builder(self):\n",
    "        cnn = Sequential([resnet])\n",
    "        cnn.add(Conv2D(64,(2,2),strides=(1,1),padding='same'))\n",
    "        cnn.add(Conv2D(16,(3,3),strides=(1,1)))\n",
    "        cnn.add(Flatten())\n",
    "        model = Sequential()\n",
    "        model.add(TimeDistributed(cnn,input_shape=(None, img_props.img_width,img_props.img_height,img_props.NUM_RGB_CHANNELS)))\n",
    "        model.add(GRU(16,input_shape=(None,30,256),return_sequences=True))\n",
    "        model.add(GRU(8))\n",
    "        model.add(Dense(5,activation='softmax'))\n",
    "        \n",
    "        return model"
   ]
  },
  {
   "cell_type": "code",
   "execution_count": 57,
   "id": "0d8885e5-9c41-40b4-b60e-0969a361d27b",
   "metadata": {},
   "outputs": [
    {
     "name": "stdout",
     "output_type": "stream",
     "text": [
      "Number of Training Videos: 663\n",
      "Number of Validation Videos: 100\n",
      "Number of Steps (Train): 67\n",
      "Number of Steps (Val): 10.0\n",
      "Sample Shape: (7, 80, 80, 3)\n"
     ]
    }
   ],
   "source": [
    "rnn = RNN(train_df, val_df, 10)"
   ]
  },
  {
   "cell_type": "code",
   "execution_count": 58,
   "id": "835d43e4-fb08-435d-aa67-417c8b751867",
   "metadata": {},
   "outputs": [],
   "source": [
    "rnn_model = rnn.model_compiler()"
   ]
  },
  {
   "cell_type": "code",
   "execution_count": 59,
   "id": "9a895696-bc2a-46d8-a9bc-82497409f815",
   "metadata": {},
   "outputs": [],
   "source": [
    "rnn_training = ModelTraining(rnn, rnn_model)"
   ]
  },
  {
   "cell_type": "code",
   "execution_count": null,
   "id": "49b1f418-3e4e-4fec-8389-32313c4e05d6",
   "metadata": {},
   "outputs": [
    {
     "name": "stdout",
     "output_type": "stream",
     "text": [
      "Source Path: Project_data\\train\n",
      "Number of Videos: 663\n",
      "Batch Size: 10\n",
      "Number of Batches: 66\n",
      "Extra Batch Size (zero means no extra batch): 3\n",
      "Epoch 1/3\n",
      "67/67 [==============================] - ETA: 0s - loss: 1.4673 - categorical_accuracy: 0.3650Source Path: Project_data\\val\n",
      "Number of Videos: 100\n",
      "Batch Size: 10\n",
      "Number of Batches: 10\n",
      "Extra Batch Size (zero means no extra batch): 0\n"
     ]
    }
   ],
   "source": [
    "rnn_training.model_training()"
   ]
  },
  {
   "cell_type": "code",
   "execution_count": null,
   "id": "67ea2411-4bec-4439-9000-7e92a5a34412",
   "metadata": {},
   "outputs": [],
   "source": []
  }
 ],
 "metadata": {
  "kernelspec": {
   "display_name": "Python 3",
   "language": "python",
   "name": "python3"
  },
  "language_info": {
   "codemirror_mode": {
    "name": "ipython",
    "version": 3
   },
   "file_extension": ".py",
   "mimetype": "text/x-python",
   "name": "python",
   "nbconvert_exporter": "python",
   "pygments_lexer": "ipython3",
   "version": "3.8.8"
  }
 },
 "nbformat": 4,
 "nbformat_minor": 5
}
