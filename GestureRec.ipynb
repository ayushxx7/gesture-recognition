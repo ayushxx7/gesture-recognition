{
 "cells": [
  {
   "cell_type": "markdown",
   "id": "8501d451-dc8b-4c23-a35e-cc3f30597e22",
   "metadata": {},
   "source": [
    "# Gesture Recognition\n",
    "#### Submitted by\n",
    "- Sameer Soin\n",
    "- Ayush Mandowara"
   ]
  },
  {
   "cell_type": "markdown",
   "id": "bc32d191-d78e-4887-a229-74faab90e16c",
   "metadata": {},
   "source": [
    "## Problem Statement\n",
    "\n",
    "A smart tv manufactures wants to add gesture based controls to their TVs. \n",
    "\n",
    "To start with, the following 5 gestures are planned to be undstood by the TV:\n",
    "- Thumbs Up to increase volume\n",
    "- Thumbs Down to decrease volume\n",
    "- Left Swipe to move 10 seconds back\n",
    "- Right Swipe to move 10 seconds ahead\n",
    "- Open Palm (Stop) to pause\n",
    "\n",
    "The hardware and software to capture and take action based on the gestures already exists with the manufacturer, our focus will be on `Recognising the Gestures`.\n",
    "\n",
    "## Data\n",
    "- The data we have been provided with to train our model consists of images / frames taken in a sequence (videos that are already broken down into images) for various individuals showing the above mentioned hand gestures.  \n",
    "- The data is labelled with the different classes (gestures) that need to be identified.\n",
    "\n",
    "## Approach\n",
    "To do this, we will be using `Deep Learning`. Specifically, we will be trying two approaches:\n",
    "- Approach 1: 3D CNN Model  \n",
    "- Approach 2: A CNN + RNN Model\n"
   ]
  },
  {
   "cell_type": "markdown",
   "id": "7db9d080-e0a1-43bc-be69-e858bb318df4",
   "metadata": {},
   "source": [
    "---"
   ]
  },
  {
   "cell_type": "markdown",
   "id": "ab74efc6-768b-46a6-8b07-98b3bbb73c3a",
   "metadata": {},
   "source": [
    "# Imports"
   ]
  },
  {
   "cell_type": "code",
   "execution_count": 94,
   "id": "6104d6b9-88c0-43bc-a0eb-d7db3901e625",
   "metadata": {},
   "outputs": [],
   "source": [
    "import cv2\n",
    "import datetime\n",
    "import numpy as np\n",
    "import os\n",
    "import pandas as pd\n",
    "import random as rn\n",
    "\n",
    "from keras import backend as K\n",
    "import tensorflow as tf\n",
    "from cv2 import imread\n",
    "from sklearn.utils import shuffle\n",
    "\n",
    "from keras.models import Sequential, Model\n",
    "from keras.layers import Dense, GRU, Flatten, TimeDistributed, Flatten, BatchNormalization, Activation, Dropout, GlobalAveragePooling2D, MaxPooling2D\n",
    "from keras.layers.convolutional import Conv3D, MaxPooling3D, Conv2D\n",
    "from keras.callbacks import ModelCheckpoint, ReduceLROnPlateau\n",
    "from keras import optimizers\n",
    "\n",
    "import matplotlib.pyplot as plt\n",
    "\n",
    "%matplotlib inline"
   ]
  },
  {
   "cell_type": "code",
   "execution_count": 2,
   "id": "8e2c6fc7-5a9c-466f-a127-c08fde435941",
   "metadata": {},
   "outputs": [],
   "source": [
    "# setting up logger to enable / disable debug statements quickly.\n",
    "\n",
    "import sys\n",
    "import logging\n",
    "from importlib import reload\n",
    "reload(logging)\n",
    "\n",
    "logging.basicConfig(stream=sys.stdout, format='',\n",
    "                level=logging.INFO, datefmt=None)\n",
    "log = logging.getLogger(__name__)"
   ]
  },
  {
   "cell_type": "code",
   "execution_count": 3,
   "id": "0f3e86f6-a883-4000-87d6-69e295ed16f7",
   "metadata": {},
   "outputs": [],
   "source": [
    "# Disabling GPU usage as GPU memory is too low on local machine\n",
    "os.environ[\"CUDA_VISIBLE_DEVICES\"] = \"-1\""
   ]
  },
  {
   "cell_type": "markdown",
   "id": "5f06307e-66c5-4906-839d-6a1e8e44784a",
   "metadata": {},
   "source": [
    "### Fixed Random Seeds\n",
    "- This helps in reproducing results in subsequent runs"
   ]
  },
  {
   "cell_type": "code",
   "execution_count": 4,
   "id": "9c2d80c5-8590-47a1-9659-ec33bea6ddf7",
   "metadata": {},
   "outputs": [],
   "source": [
    "RANDOM_SEED = 42\n",
    "np.random.seed(RANDOM_SEED)\n",
    "rn.seed(RANDOM_SEED)\n",
    "tf.random.set_seed(RANDOM_SEED)"
   ]
  },
  {
   "cell_type": "markdown",
   "id": "26d26de4-1c9e-4df4-a51b-80ce327558b1",
   "metadata": {},
   "source": [
    "## Reading the Data\n",
    "- The data is labelled\n",
    "- The file paths along with labels are stored in csv files\n",
    "- Data is already divided into train and validation folders "
   ]
  },
  {
   "cell_type": "code",
   "execution_count": 5,
   "id": "1a1662ff-fe92-4973-a9ba-c98dd2aa900f",
   "metadata": {},
   "outputs": [],
   "source": [
    "train_doc = np.random.permutation(open('Project_data/train.csv').readlines())\n",
    "val_doc = np.random.permutation(open('Project_data/val.csv').readlines())\n",
    "\n",
    "project_root = \"Project_data\"\n",
    "train_folder = os.path.join(project_root, \"train\")\n",
    "val_folder = os.path.join(project_root, \"val\")"
   ]
  },
  {
   "cell_type": "code",
   "execution_count": 6,
   "id": "2a2da953-fe99-4942-b9be-7a39dea51448",
   "metadata": {},
   "outputs": [
    {
     "data": {
      "text/plain": [
       "'WIN_20180925_18_23_57_Pro_Thumbs_Down_new;Thumbs_Down_new;3\\n'"
      ]
     },
     "execution_count": 6,
     "metadata": {},
     "output_type": "execute_result"
    }
   ],
   "source": [
    "train_doc[0]"
   ]
  },
  {
   "cell_type": "code",
   "execution_count": 7,
   "id": "0f05df33-4202-4cc0-bc21-2d3e43db2a42",
   "metadata": {},
   "outputs": [
    {
     "data": {
      "text/plain": [
       "663"
      ]
     },
     "execution_count": 7,
     "metadata": {},
     "output_type": "execute_result"
    }
   ],
   "source": [
    "len(train_doc)"
   ]
  },
  {
   "cell_type": "code",
   "execution_count": 8,
   "id": "24cc546f-60f4-470b-8050-f2c31b037a4a",
   "metadata": {},
   "outputs": [],
   "source": [
    "train_df = pd.read_csv('Project_data/train.csv', delimiter=';', names=['Video Folder', 'Gesture', 'Label'])"
   ]
  },
  {
   "cell_type": "code",
   "execution_count": 9,
   "id": "9bb688e1-2fc9-4f5b-817a-5dd5eba6d970",
   "metadata": {},
   "outputs": [
    {
     "data": {
      "text/plain": [
       "663"
      ]
     },
     "execution_count": 9,
     "metadata": {},
     "output_type": "execute_result"
    }
   ],
   "source": [
    "len(train_df)"
   ]
  },
  {
   "cell_type": "code",
   "execution_count": 10,
   "id": "8fef53e4-2b20-4a65-af28-e897f07e611c",
   "metadata": {},
   "outputs": [
    {
     "data": {
      "text/html": [
       "<div>\n",
       "<style scoped>\n",
       "    .dataframe tbody tr th:only-of-type {\n",
       "        vertical-align: middle;\n",
       "    }\n",
       "\n",
       "    .dataframe tbody tr th {\n",
       "        vertical-align: top;\n",
       "    }\n",
       "\n",
       "    .dataframe thead th {\n",
       "        text-align: right;\n",
       "    }\n",
       "</style>\n",
       "<table border=\"1\" class=\"dataframe\">\n",
       "  <thead>\n",
       "    <tr style=\"text-align: right;\">\n",
       "      <th></th>\n",
       "      <th>Video Folder</th>\n",
       "      <th>Gesture</th>\n",
       "      <th>Label</th>\n",
       "    </tr>\n",
       "  </thead>\n",
       "  <tbody>\n",
       "    <tr>\n",
       "      <th>0</th>\n",
       "      <td>WIN_20180925_17_08_43_Pro_Left_Swipe_new</td>\n",
       "      <td>Left_Swipe_new</td>\n",
       "      <td>0</td>\n",
       "    </tr>\n",
       "    <tr>\n",
       "      <th>1</th>\n",
       "      <td>WIN_20180925_17_18_28_Pro_Left_Swipe_new</td>\n",
       "      <td>Left_Swipe_new</td>\n",
       "      <td>0</td>\n",
       "    </tr>\n",
       "    <tr>\n",
       "      <th>2</th>\n",
       "      <td>WIN_20180925_17_18_56_Pro_Left_Swipe_new</td>\n",
       "      <td>Left_Swipe_new</td>\n",
       "      <td>0</td>\n",
       "    </tr>\n",
       "  </tbody>\n",
       "</table>\n",
       "</div>"
      ],
      "text/plain": [
       "                               Video Folder         Gesture  Label\n",
       "0  WIN_20180925_17_08_43_Pro_Left_Swipe_new  Left_Swipe_new      0\n",
       "1  WIN_20180925_17_18_28_Pro_Left_Swipe_new  Left_Swipe_new      0\n",
       "2  WIN_20180925_17_18_56_Pro_Left_Swipe_new  Left_Swipe_new      0"
      ]
     },
     "execution_count": 10,
     "metadata": {},
     "output_type": "execute_result"
    }
   ],
   "source": [
    "train_df.head(3)"
   ]
  },
  {
   "cell_type": "code",
   "execution_count": 11,
   "id": "44583bb5-40d5-4d3b-8a6b-47803f28454d",
   "metadata": {},
   "outputs": [
    {
     "data": {
      "text/html": [
       "<div>\n",
       "<style scoped>\n",
       "    .dataframe tbody tr th:only-of-type {\n",
       "        vertical-align: middle;\n",
       "    }\n",
       "\n",
       "    .dataframe tbody tr th {\n",
       "        vertical-align: top;\n",
       "    }\n",
       "\n",
       "    .dataframe thead th {\n",
       "        text-align: right;\n",
       "    }\n",
       "</style>\n",
       "<table border=\"1\" class=\"dataframe\">\n",
       "  <thead>\n",
       "    <tr style=\"text-align: right;\">\n",
       "      <th></th>\n",
       "      <th>Video Folder</th>\n",
       "      <th>Gesture</th>\n",
       "      <th>Label</th>\n",
       "    </tr>\n",
       "  </thead>\n",
       "  <tbody>\n",
       "    <tr>\n",
       "      <th>660</th>\n",
       "      <td>WIN_20180907_16_42_05_Pro_Thumbs Up_new</td>\n",
       "      <td>Thumbs Up_new</td>\n",
       "      <td>4</td>\n",
       "    </tr>\n",
       "    <tr>\n",
       "      <th>661</th>\n",
       "      <td>WIN_20180907_16_42_55_Pro_Thumbs Up_new</td>\n",
       "      <td>Thumbs Up_new</td>\n",
       "      <td>4</td>\n",
       "    </tr>\n",
       "    <tr>\n",
       "      <th>662</th>\n",
       "      <td>WIN_20180907_16_43_39_Pro_Thumbs Up_new</td>\n",
       "      <td>Thumbs Up_new</td>\n",
       "      <td>4</td>\n",
       "    </tr>\n",
       "  </tbody>\n",
       "</table>\n",
       "</div>"
      ],
      "text/plain": [
       "                                Video Folder        Gesture  Label\n",
       "660  WIN_20180907_16_42_05_Pro_Thumbs Up_new  Thumbs Up_new      4\n",
       "661  WIN_20180907_16_42_55_Pro_Thumbs Up_new  Thumbs Up_new      4\n",
       "662  WIN_20180907_16_43_39_Pro_Thumbs Up_new  Thumbs Up_new      4"
      ]
     },
     "execution_count": 11,
     "metadata": {},
     "output_type": "execute_result"
    }
   ],
   "source": [
    "train_df.tail(3)"
   ]
  },
  {
   "cell_type": "code",
   "execution_count": 12,
   "id": "fa2c8c4b-3b94-4d49-a721-82a66887710a",
   "metadata": {},
   "outputs": [],
   "source": [
    "val_df = pd.read_csv('Project_data/val.csv', delimiter=';', names=['Video Folder', 'Gesture', 'Label'])"
   ]
  },
  {
   "cell_type": "code",
   "execution_count": 13,
   "id": "b04e3858-534c-4f87-b66c-8d5d21ec22af",
   "metadata": {},
   "outputs": [
    {
     "data": {
      "text/html": [
       "<div>\n",
       "<style scoped>\n",
       "    .dataframe tbody tr th:only-of-type {\n",
       "        vertical-align: middle;\n",
       "    }\n",
       "\n",
       "    .dataframe tbody tr th {\n",
       "        vertical-align: top;\n",
       "    }\n",
       "\n",
       "    .dataframe thead th {\n",
       "        text-align: right;\n",
       "    }\n",
       "</style>\n",
       "<table border=\"1\" class=\"dataframe\">\n",
       "  <thead>\n",
       "    <tr style=\"text-align: right;\">\n",
       "      <th></th>\n",
       "      <th>Video Folder</th>\n",
       "      <th>Gesture</th>\n",
       "      <th>Label</th>\n",
       "    </tr>\n",
       "  </thead>\n",
       "  <tbody>\n",
       "    <tr>\n",
       "      <th>0</th>\n",
       "      <td>WIN_20180925_17_17_04_Pro_Left_Swipe_new</td>\n",
       "      <td>Left_Swipe_new</td>\n",
       "      <td>0</td>\n",
       "    </tr>\n",
       "    <tr>\n",
       "      <th>1</th>\n",
       "      <td>WIN_20180925_17_43_01_Pro_Left_Swipe_new</td>\n",
       "      <td>Left_Swipe_new</td>\n",
       "      <td>0</td>\n",
       "    </tr>\n",
       "    <tr>\n",
       "      <th>2</th>\n",
       "      <td>WIN_20180925_18_01_40_Pro_Left_Swipe_new</td>\n",
       "      <td>Left_Swipe_new</td>\n",
       "      <td>0</td>\n",
       "    </tr>\n",
       "  </tbody>\n",
       "</table>\n",
       "</div>"
      ],
      "text/plain": [
       "                               Video Folder         Gesture  Label\n",
       "0  WIN_20180925_17_17_04_Pro_Left_Swipe_new  Left_Swipe_new      0\n",
       "1  WIN_20180925_17_43_01_Pro_Left_Swipe_new  Left_Swipe_new      0\n",
       "2  WIN_20180925_18_01_40_Pro_Left_Swipe_new  Left_Swipe_new      0"
      ]
     },
     "execution_count": 13,
     "metadata": {},
     "output_type": "execute_result"
    }
   ],
   "source": [
    "val_df.head(3)"
   ]
  },
  {
   "cell_type": "code",
   "execution_count": 14,
   "id": "ea09955c-7a39-4072-a1d5-75f8027ed626",
   "metadata": {},
   "outputs": [
    {
     "data": {
      "text/html": [
       "<div>\n",
       "<style scoped>\n",
       "    .dataframe tbody tr th:only-of-type {\n",
       "        vertical-align: middle;\n",
       "    }\n",
       "\n",
       "    .dataframe tbody tr th {\n",
       "        vertical-align: top;\n",
       "    }\n",
       "\n",
       "    .dataframe thead th {\n",
       "        text-align: right;\n",
       "    }\n",
       "</style>\n",
       "<table border=\"1\" class=\"dataframe\">\n",
       "  <thead>\n",
       "    <tr style=\"text-align: right;\">\n",
       "      <th></th>\n",
       "      <th>Video Folder</th>\n",
       "      <th>Gesture</th>\n",
       "      <th>Label</th>\n",
       "    </tr>\n",
       "  </thead>\n",
       "  <tbody>\n",
       "    <tr>\n",
       "      <th>97</th>\n",
       "      <td>WIN_20180907_15_54_30_Pro_Thumbs Up_new</td>\n",
       "      <td>Thumbs Up_new</td>\n",
       "      <td>4</td>\n",
       "    </tr>\n",
       "    <tr>\n",
       "      <th>98</th>\n",
       "      <td>WIN_20180907_16_10_59_Pro_Thumbs Up_new</td>\n",
       "      <td>Thumbs Up_new</td>\n",
       "      <td>4</td>\n",
       "    </tr>\n",
       "    <tr>\n",
       "      <th>99</th>\n",
       "      <td>WIN_20180907_16_39_59_Pro_Thumbs Up_new</td>\n",
       "      <td>Thumbs Up_new</td>\n",
       "      <td>4</td>\n",
       "    </tr>\n",
       "  </tbody>\n",
       "</table>\n",
       "</div>"
      ],
      "text/plain": [
       "                               Video Folder        Gesture  Label\n",
       "97  WIN_20180907_15_54_30_Pro_Thumbs Up_new  Thumbs Up_new      4\n",
       "98  WIN_20180907_16_10_59_Pro_Thumbs Up_new  Thumbs Up_new      4\n",
       "99  WIN_20180907_16_39_59_Pro_Thumbs Up_new  Thumbs Up_new      4"
      ]
     },
     "execution_count": 14,
     "metadata": {},
     "output_type": "execute_result"
    }
   ],
   "source": [
    "val_df.tail(3)"
   ]
  },
  {
   "cell_type": "code",
   "execution_count": 15,
   "id": "1fbe3912-7078-434a-833c-8a9b8065d4bb",
   "metadata": {},
   "outputs": [],
   "source": [
    "train_df = shuffle(train_df, random_state=RANDOM_SEED)"
   ]
  },
  {
   "cell_type": "code",
   "execution_count": 16,
   "id": "4db505c0-4376-474c-8b55-619f255ac03e",
   "metadata": {},
   "outputs": [
    {
     "data": {
      "text/html": [
       "<div>\n",
       "<style scoped>\n",
       "    .dataframe tbody tr th:only-of-type {\n",
       "        vertical-align: middle;\n",
       "    }\n",
       "\n",
       "    .dataframe tbody tr th {\n",
       "        vertical-align: top;\n",
       "    }\n",
       "\n",
       "    .dataframe thead th {\n",
       "        text-align: right;\n",
       "    }\n",
       "</style>\n",
       "<table border=\"1\" class=\"dataframe\">\n",
       "  <thead>\n",
       "    <tr style=\"text-align: right;\">\n",
       "      <th></th>\n",
       "      <th>Video Folder</th>\n",
       "      <th>Gesture</th>\n",
       "      <th>Label</th>\n",
       "    </tr>\n",
       "  </thead>\n",
       "  <tbody>\n",
       "    <tr>\n",
       "      <th>327</th>\n",
       "      <td>WIN_20180925_18_23_57_Pro_Thumbs_Down_new</td>\n",
       "      <td>Thumbs_Down_new</td>\n",
       "      <td>3</td>\n",
       "    </tr>\n",
       "    <tr>\n",
       "      <th>579</th>\n",
       "      <td>WIN_20180907_16_21_11_Pro_Stop Gesture_new</td>\n",
       "      <td>Stop Gesture_new</td>\n",
       "      <td>2</td>\n",
       "    </tr>\n",
       "    <tr>\n",
       "      <th>513</th>\n",
       "      <td>WIN_20180907_16_38_29_Pro_Left Swipe_new_Left ...</td>\n",
       "      <td>Left Swipe_new_Left Swipe_new</td>\n",
       "      <td>0</td>\n",
       "    </tr>\n",
       "    <tr>\n",
       "      <th>362</th>\n",
       "      <td>WIN_20180926_17_23_38_Pro_Thumbs_Down_new</td>\n",
       "      <td>Thumbs_Down_new</td>\n",
       "      <td>3</td>\n",
       "    </tr>\n",
       "    <tr>\n",
       "      <th>265</th>\n",
       "      <td>WIN_20180926_17_21_49_Pro_Stop_new</td>\n",
       "      <td>Stop_new</td>\n",
       "      <td>2</td>\n",
       "    </tr>\n",
       "  </tbody>\n",
       "</table>\n",
       "</div>"
      ],
      "text/plain": [
       "                                          Video Folder  \\\n",
       "327          WIN_20180925_18_23_57_Pro_Thumbs_Down_new   \n",
       "579         WIN_20180907_16_21_11_Pro_Stop Gesture_new   \n",
       "513  WIN_20180907_16_38_29_Pro_Left Swipe_new_Left ...   \n",
       "362          WIN_20180926_17_23_38_Pro_Thumbs_Down_new   \n",
       "265                 WIN_20180926_17_21_49_Pro_Stop_new   \n",
       "\n",
       "                           Gesture  Label  \n",
       "327                Thumbs_Down_new      3  \n",
       "579               Stop Gesture_new      2  \n",
       "513  Left Swipe_new_Left Swipe_new      0  \n",
       "362                Thumbs_Down_new      3  \n",
       "265                       Stop_new      2  "
      ]
     },
     "execution_count": 16,
     "metadata": {},
     "output_type": "execute_result"
    }
   ],
   "source": [
    "train_df.head(5)"
   ]
  },
  {
   "cell_type": "code",
   "execution_count": 17,
   "id": "f87d5a34-36ad-4751-ab50-a35922673887",
   "metadata": {},
   "outputs": [],
   "source": [
    "val_df = shuffle(val_df, random_state=RANDOM_SEED)"
   ]
  },
  {
   "cell_type": "code",
   "execution_count": 18,
   "id": "36f6b314-6459-444a-936d-5cffc80184b9",
   "metadata": {},
   "outputs": [
    {
     "data": {
      "text/html": [
       "<div>\n",
       "<style scoped>\n",
       "    .dataframe tbody tr th:only-of-type {\n",
       "        vertical-align: middle;\n",
       "    }\n",
       "\n",
       "    .dataframe tbody tr th {\n",
       "        vertical-align: top;\n",
       "    }\n",
       "\n",
       "    .dataframe thead th {\n",
       "        text-align: right;\n",
       "    }\n",
       "</style>\n",
       "<table border=\"1\" class=\"dataframe\">\n",
       "  <thead>\n",
       "    <tr style=\"text-align: right;\">\n",
       "      <th></th>\n",
       "      <th>Video Folder</th>\n",
       "      <th>Gesture</th>\n",
       "      <th>Label</th>\n",
       "    </tr>\n",
       "  </thead>\n",
       "  <tbody>\n",
       "    <tr>\n",
       "      <th>83</th>\n",
       "      <td>WIN_20180907_16_30_54_Pro_Stop Gesture_new</td>\n",
       "      <td>Stop Gesture_new</td>\n",
       "      <td>2</td>\n",
       "    </tr>\n",
       "    <tr>\n",
       "      <th>53</th>\n",
       "      <td>WIN_20180925_17_38_43_Pro_Thumbs_Up_new</td>\n",
       "      <td>Thumbs_Up_new</td>\n",
       "      <td>4</td>\n",
       "    </tr>\n",
       "    <tr>\n",
       "      <th>70</th>\n",
       "      <td>WIN_20180907_15_55_06_Pro_Right Swipe_new</td>\n",
       "      <td>Right Swipe_new</td>\n",
       "      <td>1</td>\n",
       "    </tr>\n",
       "    <tr>\n",
       "      <th>45</th>\n",
       "      <td>WIN_20180926_16_57_50_Pro_Thumbs_Down_new</td>\n",
       "      <td>Thumbs_Down_new</td>\n",
       "      <td>3</td>\n",
       "    </tr>\n",
       "    <tr>\n",
       "      <th>44</th>\n",
       "      <td>WIN_20180926_16_44_04_Pro_Thumbs_Down_new</td>\n",
       "      <td>Thumbs_Down_new</td>\n",
       "      <td>3</td>\n",
       "    </tr>\n",
       "  </tbody>\n",
       "</table>\n",
       "</div>"
      ],
      "text/plain": [
       "                                  Video Folder           Gesture  Label\n",
       "83  WIN_20180907_16_30_54_Pro_Stop Gesture_new  Stop Gesture_new      2\n",
       "53     WIN_20180925_17_38_43_Pro_Thumbs_Up_new     Thumbs_Up_new      4\n",
       "70   WIN_20180907_15_55_06_Pro_Right Swipe_new   Right Swipe_new      1\n",
       "45   WIN_20180926_16_57_50_Pro_Thumbs_Down_new   Thumbs_Down_new      3\n",
       "44   WIN_20180926_16_44_04_Pro_Thumbs_Down_new   Thumbs_Down_new      3"
      ]
     },
     "execution_count": 18,
     "metadata": {},
     "output_type": "execute_result"
    }
   ],
   "source": [
    "val_df.head(5)"
   ]
  },
  {
   "cell_type": "code",
   "execution_count": 19,
   "id": "721495ec-8b63-4acf-acf8-71a5ff8b75c9",
   "metadata": {},
   "outputs": [],
   "source": [
    "train_df.reset_index(drop=True, inplace=True)\n",
    "val_df.reset_index(drop=True, inplace=True)"
   ]
  },
  {
   "cell_type": "markdown",
   "id": "efd83d3b-d80f-4641-9171-d8dd3e9cb51c",
   "metadata": {},
   "source": [
    "### Display a sequence"
   ]
  },
  {
   "cell_type": "code",
   "execution_count": 20,
   "id": "5f2a7297-64f7-49a9-ba4f-38d83b0531b1",
   "metadata": {},
   "outputs": [
    {
     "data": {
      "text/html": [
       "<div>\n",
       "<style scoped>\n",
       "    .dataframe tbody tr th:only-of-type {\n",
       "        vertical-align: middle;\n",
       "    }\n",
       "\n",
       "    .dataframe tbody tr th {\n",
       "        vertical-align: top;\n",
       "    }\n",
       "\n",
       "    .dataframe thead th {\n",
       "        text-align: right;\n",
       "    }\n",
       "</style>\n",
       "<table border=\"1\" class=\"dataframe\">\n",
       "  <thead>\n",
       "    <tr style=\"text-align: right;\">\n",
       "      <th></th>\n",
       "      <th>Video Folder</th>\n",
       "      <th>Gesture</th>\n",
       "      <th>Label</th>\n",
       "    </tr>\n",
       "  </thead>\n",
       "  <tbody>\n",
       "    <tr>\n",
       "      <th>0</th>\n",
       "      <td>WIN_20180925_18_23_57_Pro_Thumbs_Down_new</td>\n",
       "      <td>Thumbs_Down_new</td>\n",
       "      <td>3</td>\n",
       "    </tr>\n",
       "  </tbody>\n",
       "</table>\n",
       "</div>"
      ],
      "text/plain": [
       "                                Video Folder          Gesture  Label\n",
       "0  WIN_20180925_18_23_57_Pro_Thumbs_Down_new  Thumbs_Down_new      3"
      ]
     },
     "execution_count": 20,
     "metadata": {},
     "output_type": "execute_result"
    }
   ],
   "source": [
    "train_df.head(1)"
   ]
  },
  {
   "cell_type": "code",
   "execution_count": 21,
   "id": "45065491-d7b8-4191-9dea-765806996af3",
   "metadata": {},
   "outputs": [],
   "source": [
    "def get_video_path_train(idx):\n",
    "    video_name = train_df.iloc[idx]['Video Folder']\n",
    "    video_path = os.path.join(train_folder, video_name)\n",
    "    return video_path\n",
    "\n",
    "def get_image_list_train(idx):\n",
    "    ims = os.listdir(get_video_path_train(idx))\n",
    "    return ims"
   ]
  },
  {
   "cell_type": "code",
   "execution_count": 22,
   "id": "598d37dc-19a4-4b7f-911c-c55170673769",
   "metadata": {},
   "outputs": [
    {
     "data": {
      "text/plain": [
       "'Project_data\\\\train\\\\WIN_20180925_18_23_57_Pro_Thumbs_Down_new'"
      ]
     },
     "execution_count": 22,
     "metadata": {},
     "output_type": "execute_result"
    }
   ],
   "source": [
    "get_video_path_train(0)"
   ]
  },
  {
   "cell_type": "code",
   "execution_count": 23,
   "id": "50fab01a-a6dd-4089-9e1f-cbfe9aee5dbb",
   "metadata": {},
   "outputs": [],
   "source": [
    "ims = get_image_list_train(0)"
   ]
  },
  {
   "cell_type": "code",
   "execution_count": 24,
   "id": "2cb598c5-c3a3-4b68-bd51-17bf47dd6797",
   "metadata": {},
   "outputs": [
    {
     "data": {
      "text/plain": [
       "30"
      ]
     },
     "execution_count": 24,
     "metadata": {},
     "output_type": "execute_result"
    }
   ],
   "source": [
    "len(ims)"
   ]
  },
  {
   "cell_type": "code",
   "execution_count": 25,
   "id": "0b17a32c-b3b4-4d3f-bdd5-5c335374b13c",
   "metadata": {},
   "outputs": [],
   "source": [
    "def plot_sequence(train_idx, rows=3, columns=10, fig_size=(20,3), step_size=1):\n",
    "    fig = plt.figure(figsize=fig_size)\n",
    "    ims = get_image_list_train(train_idx)\n",
    "    folder_path = get_video_path_train(train_idx)\n",
    "    \n",
    "    for i in range(1, columns*rows+1, step_size):\n",
    "        img = imread(os.path.join(folder_path, ims[i-1]))\n",
    "        img = cv2.cvtColor(img, cv2.COLOR_BGR2RGB)\n",
    "        fig.add_subplot(rows, columns, i)\n",
    "        plt.imshow(img)\n",
    "\n",
    "    plt.show()"
   ]
  },
  {
   "cell_type": "code",
   "execution_count": 26,
   "id": "b5d72896-c8ba-46d8-82b1-7154a1d2e9dd",
   "metadata": {},
   "outputs": [],
   "source": [
    "# plot_sequence(0)"
   ]
  },
  {
   "cell_type": "code",
   "execution_count": 27,
   "id": "ffe82e48-3e80-4638-b3c3-96e89859d813",
   "metadata": {},
   "outputs": [],
   "source": [
    "# plot_sequence(1)"
   ]
  },
  {
   "cell_type": "markdown",
   "id": "cc5a0cd7-3dc2-49f6-932f-48c40b8c252d",
   "metadata": {},
   "source": [
    "### Checking GPU Specs"
   ]
  },
  {
   "cell_type": "code",
   "execution_count": 28,
   "id": "9bb4f702-f5de-403c-bb9e-953e53c694f9",
   "metadata": {},
   "outputs": [],
   "source": [
    "# from tensorflow.python.client import device_lib\n",
    "# print(device_lib.list_local_devices())"
   ]
  },
  {
   "cell_type": "code",
   "execution_count": 29,
   "id": "1ab79d6a-733a-46a9-b977-39af3cd47006",
   "metadata": {},
   "outputs": [],
   "source": [
    "# !nvidia-smi"
   ]
  },
  {
   "cell_type": "markdown",
   "id": "6d706515-a8af-4df0-b0b9-b599204d42a9",
   "metadata": {},
   "source": [
    "# Generator\n",
    "\n",
    "### Problems\n",
    "- Since the data is huge, it cannot be processed in a single go. The machine will throw out of memory error.\n",
    "- There are images in two types (dimension 120x120 and 360x), we need to make the dimensions same\n",
    "- There is some room for skipping images to speed up the training process\n",
    "- Data augmentation may be required to increase accuracy\n",
    "- Ablation will be required to reduce analysis time\n",
    "\n",
    "### Solution\n",
    "All of the above can be achieved with the help of a custom generator which generates data in batches as per requirement."
   ]
  },
  {
   "cell_type": "code",
   "execution_count": 30,
   "id": "7668b6d0-d43c-49f2-8bc0-8bef9c0b04a6",
   "metadata": {},
   "outputs": [],
   "source": [
    "class ImageProps:\n",
    "    \"\"\"Image class to easily store, retrieve and update properties of input images during training\"\"\"\n",
    "    img_selection_via_idx = [3, 6, 9, 12, 15, 18, 21]\n",
    "    img_selection_len = len(img_selection_via_idx)\n",
    "    \n",
    "    img_resize_height = 100\n",
    "    img_resize_width = 100\n",
    "    \n",
    "    img_crop_width_lower_limit = 10\n",
    "    img_crop_width_upper_limit = 90\n",
    "    img_crop_height_lower_limit = 10\n",
    "    img_crop_height_upper_limit = 90\n",
    "    \n",
    "    img_height = 80\n",
    "    img_width = 80\n",
    "    \n",
    "    NUM_RGB_CHANNELS = 3\n",
    "    \n",
    "    def normalize_channel(self, input_channel, lower_percentile=5, upper_percentile=95):\n",
    "        \"\"\"To normalize input channel using percentile values\"\"\"\n",
    "        lower_percentile_val = np.percentile(input_channel, lower_percentile)\n",
    "        upper_percentile_val = np.percentile(input_channel, upper_percentile)\n",
    "        \n",
    "        numerator = input_channel-lower_percentile_val\n",
    "        denominator = upper_percentile_val-lower_percentile_val\n",
    "        \n",
    "        normalized_channel = numerator/denominator\n",
    "        \n",
    "        return normalized_channel"
   ]
  },
  {
   "cell_type": "code",
   "execution_count": 31,
   "id": "8f463d38-35df-4276-b540-ebef9ab99bd1",
   "metadata": {},
   "outputs": [],
   "source": [
    "img_props = ImageProps()"
   ]
  },
  {
   "cell_type": "code",
   "execution_count": 32,
   "id": "00bce96b-0115-41fb-b814-a6ca564d6b72",
   "metadata": {},
   "outputs": [
    {
     "data": {
      "text/plain": [
       "[3, 6, 9, 12, 15, 18, 21]"
      ]
     },
     "execution_count": 32,
     "metadata": {},
     "output_type": "execute_result"
    }
   ],
   "source": [
    "img_props.img_selection_via_idx"
   ]
  },
  {
   "cell_type": "code",
   "execution_count": 33,
   "id": "b5365ef4-b568-44c0-ae66-b9548f12cc3d",
   "metadata": {
    "tags": []
   },
   "outputs": [],
   "source": [
    "class VideoBatchGenerator:\n",
    "    \"\"\"Generator class to generate images in batches as per requirement\n",
    "    \n",
    "    Number of channels in RGB image is 3\n",
    "    Number of gestures / output classes is 5\n",
    "    \n",
    "    Batch Data dimensions:\n",
    "    - images have 2 dimensions (width x height)\n",
    "    - rgb images have 3 channels (width x height x 3)\n",
    "    - videos are sequence of rgb images (sequence of images x width x height x 3)\n",
    "    - each batch has prespecified number of videos (batch size * sequence of images * width * height * 3)\n",
    "    \"\"\"\n",
    "    batch_size = 3\n",
    "    num_images_per_video = img_props.img_selection_len\n",
    "    img_height = img_props.img_height\n",
    "    img_width = img_props.img_width\n",
    "    NUM_RGB_CHANNELS = 3\n",
    "    NUM_CLASSES = 5\n",
    "    SHOW_IMAGE = False\n",
    "    \n",
    "    def __init__(self, batch_size=batch_size):\n",
    "        self.batch_size = batch_size\n",
    "        \n",
    "    def batch_generator(self, parent_folder_path, df):\n",
    "        num_videos = len(df)\n",
    "        # batch size cannot be larger than the input video sequence\n",
    "        self.batch_size = min(self.batch_size, num_videos)\n",
    "        num_batches = num_videos//self.batch_size\n",
    "        extra_batch_size = num_videos%self.batch_size\n",
    "        \n",
    "        log.info(f\"Source Path: {parent_folder_path}\")\n",
    "        log.info(f\"Number of Videos: {num_videos}\")\n",
    "        log.info(f\"Batch Size: {self.batch_size}\") \n",
    "        log.info(f\"Number of Batches: {num_batches}\")\n",
    "        log.info(f\"Extra Batch Size (zero means no extra batch): {extra_batch_size}\")\n",
    "        \n",
    "        while True:\n",
    "            shuffled_df = shuffle(df, random_state=RANDOM_SEED)\n",
    "            shuffled_video_folders = shuffled_df['Video Folder']\n",
    "            shuffled_labels = shuffled_df['Label']\n",
    "            \n",
    "            log.debug(f\"{shuffled_df.head()}\")\n",
    "            \n",
    "            for batch_id in range(num_batches):\n",
    "                log.debug(f\"Current Batch: {batch_id}\")\n",
    "                batch_data = np.zeros((self.batch_size, \n",
    "                                       self.num_images_per_video, \n",
    "                                       self.img_width, self.img_height, \n",
    "                                       self.NUM_RGB_CHANNELS))\n",
    "                batch_labels = np.zeros((self.batch_size, \n",
    "                                         self.NUM_CLASSES))\n",
    "                \n",
    "                for video_id in range(self.batch_size):\n",
    "                    video_folder_id = video_id + batch_id*self.batch_size\n",
    "                    video_folder_path = os.path.join(parent_folder_path, shuffled_video_folders[video_folder_id])\n",
    "                    log.debug(f'id: {video_folder_id} video_folder_path: {video_folder_path}')\n",
    "                    imgs_in_video = os.listdir(video_folder_path)\n",
    "                    log.debug(f'first image: {imgs_in_video[0]}')\n",
    "                    \n",
    "                    for img_id, img_id_in_video in enumerate(img_props.img_selection_via_idx):\n",
    "                        img = imgs_in_video[img_id_in_video]\n",
    "                        log.debug(f'current image via selection: {img}')\n",
    "                        img_path = os.path.join(video_folder_path, img)\n",
    "                        log.debug(f'current image via selection [path]: {img_path}')\n",
    "                        img_array = imread(img_path).astype(np.float32)\n",
    "                        img_array = cv2.cvtColor(img_array, cv2.COLOR_BGR2RGB)\n",
    "                        \n",
    "                        resized_image = cv2.resize(img_array, (\n",
    "                                        img_props.img_resize_width, \n",
    "                                        img_props.img_resize_height,\n",
    "                                        ))\n",
    "                        \n",
    "                        cropped_image = resized_image = resized_image[\n",
    "                            img_props.img_crop_width_lower_limit:img_props.img_crop_width_upper_limit,\n",
    "                            img_props.img_crop_height_lower_limit:img_props.img_crop_height_upper_limit,\n",
    "                        ]\n",
    "                        \n",
    "                        log.debug(f\"Shape of cropped image (after resize): {cropped_image.shape}\")\n",
    "                        \n",
    "                        red_channel = cropped_image[:, :, 0]\n",
    "                        green_channel = cropped_image[:, :, 1]\n",
    "                        blue_channel = cropped_image[:, :, 2]\n",
    "                        \n",
    "                        batch_data[video_id, img_id, :, :, 0] = img_props.normalize_channel(red_channel)\n",
    "                        batch_data[video_id, img_id, :, :, 1] = img_props.normalize_channel(green_channel)\n",
    "                        batch_data[video_id, img_id, :, :, 2] = img_props.normalize_channel(blue_channel)\n",
    "                        \n",
    "                        if self.SHOW_IMAGE:\n",
    "                            plt.imshow(batch_data[video_id, img_id, :, :, :])\n",
    "                            plt.show()\n",
    "                        \n",
    "                    batch_labels[video_id, shuffled_labels[video_folder_id]] = 1\n",
    "                    log.debug(f\"batch data: for video:img [{video_id}:{img_id}] = {batch_data[video_id, img_id, :, :, 0]}\")\n",
    "                    log.debug(f\"batch label: {video_id} = {batch_labels[video_id]}\")\n",
    "                yield batch_data, batch_labels\n",
    "            \n",
    "            if extra_batch_size:\n",
    "                last_batch_id = batch_id + 1\n",
    "                log.debug(f\"Current Batch (Extra Batch): {last_batch_id}\")\n",
    "                batch_data = np.zeros((extra_batch_size, \n",
    "                                       self.num_images_per_video, \n",
    "                                       self.img_width, self.img_height, \n",
    "                                       self.NUM_RGB_CHANNELS))\n",
    "                batch_labels = np.zeros((extra_batch_size, \n",
    "                                         self.NUM_CLASSES))\n",
    "                \n",
    "                for video_id in range(extra_batch_size):\n",
    "                    video_folder_id = video_id + last_batch_id*self.batch_size\n",
    "                    video_folder_path = os.path.join(parent_folder_path, shuffled_video_folders[video_folder_id])\n",
    "                    log.debug(f'id: {video_folder_id} video_folder_path: {video_folder_path}')\n",
    "                    imgs_in_video = os.listdir(video_folder_path)\n",
    "                    log.debug(f'first image: {imgs_in_video[0]}')\n",
    "                    \n",
    "                    for img_id, img_id_in_video in enumerate(img_props.img_selection_via_idx):\n",
    "                        img = imgs_in_video[img_id_in_video]\n",
    "                        log.debug(f'current image via selection: {img}')\n",
    "                        img_path = os.path.join(video_folder_path, img)\n",
    "                        log.debug(f'current image via selection [path]: {img_path}')\n",
    "                        img_array = imread(img_path).astype(np.float32)\n",
    "                        img_array = cv2.cvtColor(img_array, cv2.COLOR_BGR2RGB)\n",
    "                        \n",
    "                        resized_image = cv2.resize(img_array, (\n",
    "                                        img_props.img_resize_width, \n",
    "                                        img_props.img_resize_height,\n",
    "                                        ))\n",
    "                        \n",
    "                        cropped_image = resized_image[\n",
    "                            img_props.img_crop_width_lower_limit:img_props.img_crop_width_upper_limit,\n",
    "                            img_props.img_crop_height_lower_limit:img_props.img_crop_height_upper_limit,\n",
    "                        ]\n",
    "                        \n",
    "                        log.debug(f\"Shape of cropped image (after resize): {cropped_image.shape}\")\n",
    "                        \n",
    "                        red_channel = cropped_image[:, :, 0]\n",
    "                        green_channel = cropped_image[:, :, 1]\n",
    "                        blue_channel = cropped_image[:, :, 2]\n",
    "                        \n",
    "                        batch_data[video_id, img_id, :, :, 0] = img_props.normalize_channel(red_channel)\n",
    "                        batch_data[video_id, img_id, :, :, 1] = img_props.normalize_channel(green_channel)\n",
    "                        batch_data[video_id, img_id, :, :, 2] = img_props.normalize_channel(blue_channel)\n",
    "                        \n",
    "                        if self.SHOW_IMAGE:\n",
    "                            plt.imshow(batch_data[video_id, img_id, :, :, :])\n",
    "                            plt.show()\n",
    "                            \n",
    "                    batch_labels[video_id, shuffled_labels[video_folder_id]] = 1\n",
    "                    log.debug(f\"batch data: for video:img [{video_id}:{img_id}] = {batch_data[video_id, img_id, :, :, 0]}\")\n",
    "                    log.debug(f\"batch label: {video_id} = {batch_labels[video_id]}\")\n",
    "                yield batch_data, batch_labels"
   ]
  },
  {
   "cell_type": "markdown",
   "id": "528b53b1-5f2d-40fc-9453-3239a4e02fe7",
   "metadata": {},
   "source": [
    "## Sanity Check for Batch Generator"
   ]
  },
  {
   "cell_type": "code",
   "execution_count": 34,
   "id": "81d1b162-8eb9-4150-9455-9628504309b4",
   "metadata": {},
   "outputs": [],
   "source": [
    "# v = VideoBatchGenerator()"
   ]
  },
  {
   "cell_type": "code",
   "execution_count": 35,
   "id": "35250a29-cd71-4be3-ab4b-3528ffe8ea06",
   "metadata": {},
   "outputs": [],
   "source": [
    "# v.batch_size"
   ]
  },
  {
   "cell_type": "code",
   "execution_count": 36,
   "id": "1520108a-e5a5-4b48-b882-3b003c837488",
   "metadata": {},
   "outputs": [],
   "source": [
    "# v.batch_size = 5"
   ]
  },
  {
   "cell_type": "code",
   "execution_count": 37,
   "id": "c165efe9-f062-4a48-a995-9480df004e99",
   "metadata": {},
   "outputs": [],
   "source": [
    "# x = v.batch_generator(train_folder, train_df[0:12])"
   ]
  },
  {
   "cell_type": "code",
   "execution_count": 38,
   "id": "1a00e816-ee14-4623-bef9-22c86d655c25",
   "metadata": {},
   "outputs": [],
   "source": [
    "# train_df[0:4]"
   ]
  },
  {
   "cell_type": "code",
   "execution_count": 39,
   "id": "155a6bcb-f0d1-4265-865a-2ab2c81b60a9",
   "metadata": {},
   "outputs": [],
   "source": [
    "# v.SHOW_IMAGE = True"
   ]
  },
  {
   "cell_type": "code",
   "execution_count": 40,
   "id": "4a0cef85-a3c7-41e5-a28f-f1088ae6a848",
   "metadata": {
    "tags": []
   },
   "outputs": [],
   "source": [
    "# d = next(x)"
   ]
  },
  {
   "cell_type": "code",
   "execution_count": 41,
   "id": "526764ac-760a-4a9c-90f9-624cbd74ef28",
   "metadata": {
    "tags": []
   },
   "outputs": [],
   "source": [
    "# d = next(x)"
   ]
  },
  {
   "cell_type": "code",
   "execution_count": 42,
   "id": "9d47a308-8a31-43dd-b3fd-741cd2965568",
   "metadata": {
    "tags": []
   },
   "outputs": [],
   "source": [
    "# d = next(x)"
   ]
  },
  {
   "cell_type": "code",
   "execution_count": 43,
   "id": "66c60da1-6c4f-4809-94d9-dafdc9542cca",
   "metadata": {},
   "outputs": [],
   "source": [
    "# d[1]"
   ]
  },
  {
   "cell_type": "code",
   "execution_count": 44,
   "id": "9d8c2539-d2bf-4a08-a656-a3e010aea75f",
   "metadata": {},
   "outputs": [],
   "source": [
    "# d[0]"
   ]
  },
  {
   "cell_type": "code",
   "execution_count": 45,
   "id": "b8fd7d53-9641-48e1-a769-43621f3c83ff",
   "metadata": {},
   "outputs": [],
   "source": [
    "# val = v.batch_generator(val_folder, val_df[0:10])"
   ]
  },
  {
   "cell_type": "code",
   "execution_count": 46,
   "id": "a39c3e05-4802-4bab-8715-0a9b6fb9c298",
   "metadata": {},
   "outputs": [],
   "source": [
    "# v.batch_size = 3"
   ]
  },
  {
   "cell_type": "code",
   "execution_count": 47,
   "id": "b928c003-f1ab-4b72-a892-37cbe18ede01",
   "metadata": {
    "tags": []
   },
   "outputs": [],
   "source": [
    "# y = next(val)"
   ]
  },
  {
   "cell_type": "code",
   "execution_count": 48,
   "id": "5e7130c1-5dae-49e0-a66b-9c2cf5792748",
   "metadata": {
    "tags": []
   },
   "outputs": [],
   "source": [
    "# y = next(val)"
   ]
  },
  {
   "cell_type": "code",
   "execution_count": 49,
   "id": "da96ca8e-4548-407a-b693-e7ed39ae9d9a",
   "metadata": {
    "tags": []
   },
   "outputs": [],
   "source": [
    "# y = next(val)"
   ]
  },
  {
   "cell_type": "code",
   "execution_count": 50,
   "id": "e2e9ecc7-664d-4c8d-b0d0-2e2d5cfea965",
   "metadata": {
    "tags": []
   },
   "outputs": [],
   "source": [
    "# y = next(val)"
   ]
  },
  {
   "cell_type": "markdown",
   "id": "306583e5-f228-4245-b99e-38a1d321de35",
   "metadata": {
    "tags": []
   },
   "source": [
    "---"
   ]
  },
  {
   "cell_type": "code",
   "execution_count": 51,
   "id": "2aefd835-3fdf-4468-96a5-c552a3cb53ab",
   "metadata": {},
   "outputs": [],
   "source": [
    "class ModelProps:\n",
    "    \"\"\"Properties that logically belong to a Model will be kept here\"\"\"\n",
    "    current_date_time = str(datetime.datetime.now()).replace(' ', '').replace(':', '_')\n",
    "    num_epochs = 3\n",
    "    model_init_name = 'model_init'\n",
    "    model_root_folder = \"models\"\n",
    "    num_train_videos = None\n",
    "    num_val_videos = None\n",
    "    steps_per_epoch_train = None\n",
    "    steps_per_epoch_val = None\n",
    "    NUM_CLASSES = 5\n",
    "    sample_shape = (img_props.img_selection_len, \n",
    "                    img_props.img_width, img_props.img_height, \n",
    "                    img_props.NUM_RGB_CHANNELS)\n",
    "    \n",
    "    def __init__(self, train_df, val_df, batch_size):\n",
    "        self.num_train_videos = len(train_df)\n",
    "        self.num_val_videos = len(val_df)\n",
    "        self.model_folder_name = self.model_init_name + \"_\" + self.current_date_time + \"/\"\n",
    "        self.model_folder_path = os.path.join(self.model_root_folder, self.model_folder_name)\n",
    "        \n",
    "        log.info(f\"Number of Training Videos: {self.num_train_videos}\")\n",
    "        log.info(f\"Number of Validation Videos: {self.num_val_videos}\")\n",
    "        \n",
    "        self.steps_per_epoch_train = self.calculate_steps_per_epoch(self.num_train_videos, batch_size)\n",
    "        self.steps_per_epoch_val = self.calculate_steps_per_epoch(self.num_val_videos, batch_size)\n",
    "        \n",
    "        log.info(f\"Number of Steps (Train): {self.steps_per_epoch_train}\")\n",
    "        log.info(f\"Number of Steps (Val): {self.steps_per_epoch_val}\")\n",
    "        \n",
    "        log.info(f\"Sample Shape: {self.sample_shape}\")\n",
    "        \n",
    "        if not os.path.exists(self.model_root_folder):\n",
    "            os.mkdir(self.model_root_folder)\n",
    "        \n",
    "        if not os.path.exists(self.model_folder_path):\n",
    "            os.mkdir(self.model_folder_path)\n",
    "        \n",
    "    def calculate_steps_per_epoch(self, num_videos, batch_size):\n",
    "        \"\"\"Calculates steps per epoch based on the input videos and batch size\"\"\"\n",
    "        steps_per_epoch = (num_videos//batch_size)+1 if num_videos%batch_size else num_videos/batch_size\n",
    "        return steps_per_epoch\n",
    "        \n",
    "    def model_config(self):\n",
    "        model_file_path = os.path.join(self.model_folder_path, \n",
    "            'model-{epoch:05d}-{loss:.5f}-{categorical_accuracy:.5f}-{val_loss:.5f}-{val_categorical_accuracy:.5f}.h5'\n",
    "        )\n",
    "        \n",
    "        checkpoint = ModelCheckpoint(\n",
    "            model_file_path, \n",
    "            monitor='val_loss',\n",
    "            verbose=1,\n",
    "            save_best_only=True, \n",
    "            save_weights_only=False, \n",
    "            mode='auto', \n",
    "            save_freq='epoch'\n",
    "        )\n",
    "\n",
    "        LR = ReduceLROnPlateau(\n",
    "            monitor=\"val_loss\",\n",
    "            factor=0.1,\n",
    "            patience=5,\n",
    "            verbose=1,\n",
    "            mode=\"auto\",\n",
    "            min_delta=0.0001,\n",
    "            cooldown=0,\n",
    "            min_lr=0,\n",
    "        ) \n",
    "        \n",
    "        callbacks_list = [LR, checkpoint]\n",
    "        \n",
    "        return callbacks_list"
   ]
  },
  {
   "cell_type": "code",
   "execution_count": 52,
   "id": "ff90f798-82ca-4366-9fcb-8c9a6b61f8ec",
   "metadata": {},
   "outputs": [],
   "source": [
    "# m = ModelProps(train_df, val_df, 3)"
   ]
  },
  {
   "cell_type": "markdown",
   "id": "aa60e56e-bb29-4ee4-a142-6d8b2ef5f235",
   "metadata": {},
   "source": [
    "# Model Building"
   ]
  },
  {
   "cell_type": "code",
   "execution_count": 53,
   "id": "17eaec23-ec87-4f5b-b727-ca01ed482992",
   "metadata": {},
   "outputs": [],
   "source": [
    "import abc\n",
    "\n",
    "class ModelBuilder(ModelProps, VideoBatchGenerator):\n",
    "    def __init__(self, train_df, val_df, batch_size):\n",
    "        super().__init__(train_df, val_df, batch_size)\n",
    "        video_batch_generator = VideoBatchGenerator(batch_size=batch_size)\n",
    "        self.train_generator = video_batch_generator.batch_generator(train_folder, train_df)\n",
    "        self.val_generator = video_batch_generator.batch_generator(val_folder, val_df)\n",
    "        \n",
    "    @abc.abstractmethod\n",
    "    def model_builder(self):\n",
    "        \"\"\"Building model based on Keras API\"\"\"\n",
    "        model = Sequential()\n",
    "        model.add(Conv3D(16, kernel_size=(3, 3, 3), activation='relu', kernel_initializer='he_uniform', input_shape=self.sample_shape, padding='same'))\n",
    "        model.add(BatchNormalization(center=True, scale=True))\n",
    "\n",
    "        model.add(Conv3D(32, kernel_size=(3, 3, 3), activation='relu', kernel_initializer='he_uniform', padding='same'))\n",
    "        model.add(MaxPooling3D(pool_size=(2, 2, 2)))\n",
    "        model.add(BatchNormalization(center=True, scale=True))\n",
    "\n",
    "        model.add(Conv3D(64, kernel_size=(3, 3, 3), activation='relu', kernel_initializer='he_uniform', padding='same'))\n",
    "        model.add(BatchNormalization(center=True, scale=True))\n",
    "\n",
    "        model.add(Flatten())\n",
    "        model.add(Dense(128, activation='relu', kernel_initializer='he_uniform'))\n",
    "        model.add(Dense(self.NUM_CLASSES, activation='softmax'))\n",
    "        \n",
    "        return model\n",
    "    \n",
    "    def model_compiler(self, optimizer='adam', loss='categorical_crossentropy', metrics=['categorical_accuracy']):\n",
    "        \"\"\"Compiling model by taking in optimizer, loss, and metrics\"\"\"\n",
    "        model = self.model_builder()\n",
    "        model.compile(optimizer, loss, metrics)\n",
    "        \n",
    "        return model"
   ]
  },
  {
   "cell_type": "code",
   "execution_count": 54,
   "id": "8bfe69d4-f6c2-40a8-add8-72267f97dae5",
   "metadata": {},
   "outputs": [],
   "source": [
    "class ModelTraining:\n",
    "    def __init__(self, model_builder, model):\n",
    "        self.model_builder = model_builder\n",
    "        self.model = model\n",
    "        \n",
    "    def model_training(self):\n",
    "        self.history = self.model.fit(\n",
    "            self.model_builder.train_generator, \n",
    "            steps_per_epoch=self.model_builder.steps_per_epoch_train, \n",
    "            epochs=self.model_builder.num_epochs, \n",
    "            callbacks=self.model_builder.model_config(), \n",
    "            validation_data=self.model_builder.val_generator, \n",
    "            validation_steps=self.model_builder.steps_per_epoch_val, \n",
    "            class_weight=None, \n",
    "            workers=1, \n",
    "            initial_epoch=0)\n",
    "        \n",
    "    def model_analysis(self):\n",
    "        acc = self.history.history['categorical_accuracy']\n",
    "        val_acc = self.history.history['val_categorical_accuracy']\n",
    "\n",
    "        loss = self.history.history['loss']\n",
    "        val_loss = self.history.history['val_loss']\n",
    "\n",
    "        epochs_range = range(self.model_builder.num_epochs)\n",
    "        \n",
    "        plt.figure(figsize=(8, 8))\n",
    "        plt.subplot(1, 2, 1)\n",
    "        plt.plot(epochs_range, acc, label='Training Accuracy')\n",
    "        plt.plot(epochs_range, val_acc, label='Validation Accuracy')\n",
    "        plt.legend(loc='lower right')\n",
    "        plt.title('Training and Validation Accuracy')\n",
    "    \n",
    "        plt.subplot(1, 2, 2)\n",
    "        plt.plot(epochs_range, loss, label='Training Loss')\n",
    "        plt.plot(epochs_range, val_loss, label='Validation Loss')\n",
    "        plt.legend(loc='upper right')\n",
    "        plt.title('Training and Validation Loss')\n",
    "        plt.show()"
   ]
  },
  {
   "cell_type": "markdown",
   "id": "e21e921d-6305-4710-901d-d9d2eee86cdf",
   "metadata": {},
   "source": [
    "## CNN3D"
   ]
  },
  {
   "cell_type": "markdown",
   "id": "27dfdfdd-c332-4c54-89e4-2bb83ecbd500",
   "metadata": {},
   "source": [
    "### Ablataion Experiments"
   ]
  },
  {
   "cell_type": "code",
   "execution_count": 55,
   "id": "7cf983a6-fad4-4054-b516-17b6fce2079a",
   "metadata": {},
   "outputs": [],
   "source": [
    "# model_builder = ModelBuilder(train_df[0:12], val_df[0:12], 3)"
   ]
  },
  {
   "cell_type": "code",
   "execution_count": 56,
   "id": "827dd4e5-e97f-46c6-ad30-655340f1b42f",
   "metadata": {},
   "outputs": [],
   "source": [
    "# simple_model_1 = model_builder.model_compiler()"
   ]
  },
  {
   "cell_type": "code",
   "execution_count": 57,
   "id": "342ac998-548f-4b15-9531-bebed9bf924f",
   "metadata": {},
   "outputs": [],
   "source": [
    "# simple_model_1.summary()"
   ]
  },
  {
   "cell_type": "code",
   "execution_count": 58,
   "id": "17b437e6-a415-42c4-ad91-ca986aa6ac41",
   "metadata": {},
   "outputs": [],
   "source": [
    "# training_simple_model_1 = ModelTraining(model_builder, simple_model_1)"
   ]
  },
  {
   "cell_type": "code",
   "execution_count": 59,
   "id": "5ba03163-734a-43fd-9238-2fd5723f41ed",
   "metadata": {},
   "outputs": [],
   "source": [
    "# training_simple_model_1.model_training()"
   ]
  },
  {
   "cell_type": "code",
   "execution_count": 60,
   "id": "c66af101-2b8b-4d1e-a44d-2178bb4ca159",
   "metadata": {},
   "outputs": [],
   "source": [
    "class MB(ModelBuilder):\n",
    "    \n",
    "    def model_builder(self):\n",
    "        \"\"\"Building model based on Keras API\"\"\"\n",
    "        model = Sequential()\n",
    "        model.add(Conv3D(16, kernel_size=(3, 3, 3), activation='relu', kernel_initializer='he_uniform', input_shape=self.sample_shape, padding='same'))\n",
    "        model.add(BatchNormalization(center=True, scale=True))\n",
    "\n",
    "        model.add(Conv3D(32, kernel_size=(3, 3, 3), activation='relu', kernel_initializer='he_uniform', padding='same'))\n",
    "        model.add(MaxPooling3D(pool_size=(2, 2, 2)))\n",
    "        model.add(BatchNormalization(center=True, scale=True))\n",
    "\n",
    "        model.add(Conv3D(64, kernel_size=(3, 3, 3), activation='relu', kernel_initializer='he_uniform', padding='same'))\n",
    "        model.add(MaxPooling3D(pool_size=(2, 2, 2)))\n",
    "        model.add(BatchNormalization(center=True, scale=True))\n",
    "\n",
    "        model.add(Flatten())\n",
    "        model.add(Dense(128, activation='relu', kernel_initializer='he_uniform'))\n",
    "        model.add(Dense(256, activation='relu', kernel_initializer='he_uniform'))\n",
    "        model.add(Dense(self.NUM_CLASSES, activation='softmax'))\n",
    "        \n",
    "        return model"
   ]
  },
  {
   "cell_type": "code",
   "execution_count": 61,
   "id": "fb79dd11-fdb6-41cb-bf36-2b8dfc4126cf",
   "metadata": {},
   "outputs": [],
   "source": [
    "# mm = MB(train_df, val_df, 200)"
   ]
  },
  {
   "cell_type": "code",
   "execution_count": 62,
   "id": "cd972d88-519d-4859-8b3b-9485a2972582",
   "metadata": {},
   "outputs": [],
   "source": [
    "# m2 = mm.model_compiler()"
   ]
  },
  {
   "cell_type": "code",
   "execution_count": 63,
   "id": "8ef8d267-3281-417f-a229-d9ce281d5394",
   "metadata": {},
   "outputs": [],
   "source": [
    "# m2.summary()"
   ]
  },
  {
   "cell_type": "code",
   "execution_count": 64,
   "id": "576b4b6e-3ed6-4b36-952b-017cbfd5b45a",
   "metadata": {},
   "outputs": [],
   "source": [
    "# mmt = ModelTraining(mm, m2)"
   ]
  },
  {
   "cell_type": "code",
   "execution_count": 65,
   "id": "fccf4bf3-ab2d-4a0a-b628-9907540548b0",
   "metadata": {},
   "outputs": [],
   "source": [
    "# mmt.model_training()"
   ]
  },
  {
   "cell_type": "code",
   "execution_count": 66,
   "id": "ef15544a-9ce8-437c-a52f-295d0c7f15fb",
   "metadata": {},
   "outputs": [],
   "source": [
    "# mmt.model_acc"
   ]
  },
  {
   "cell_type": "code",
   "execution_count": 67,
   "id": "76f48080-1a83-47fc-90ef-673f1c97d616",
   "metadata": {},
   "outputs": [],
   "source": [
    "# training_simple_model_1.model_analysis()"
   ]
  },
  {
   "cell_type": "markdown",
   "id": "add8c0a1-970e-43a6-abba-015c5e3837e3",
   "metadata": {},
   "source": [
    "---"
   ]
  },
  {
   "cell_type": "code",
   "execution_count": 68,
   "id": "0c86a34a-fc80-4216-95cc-22aa571578c2",
   "metadata": {},
   "outputs": [
    {
     "name": "stdout",
     "output_type": "stream",
     "text": [
      "Number of Training Videos: 663\n",
      "Number of Validation Videos: 100\n",
      "Number of Steps (Train): 3\n",
      "Number of Steps (Val): 1\n",
      "Sample Shape: (7, 80, 80, 3)\n"
     ]
    }
   ],
   "source": [
    "model_builder = ModelBuilder(train_df, val_df, 300)"
   ]
  },
  {
   "cell_type": "code",
   "execution_count": 69,
   "id": "48b5e900-efb4-4f60-8834-6552d31c7d54",
   "metadata": {},
   "outputs": [],
   "source": [
    "# simple_model_2 = model_builder.model_compiler()"
   ]
  },
  {
   "cell_type": "code",
   "execution_count": 70,
   "id": "d7aae8a7-dd05-47ea-ba52-3cbf56e36a74",
   "metadata": {},
   "outputs": [],
   "source": [
    "# training_simple_model_on_large_data = ModelTraining(model_builder, simple_model_2)"
   ]
  },
  {
   "cell_type": "code",
   "execution_count": 71,
   "id": "b259b6bb-fbca-40ec-a333-2d553ec8b77d",
   "metadata": {},
   "outputs": [],
   "source": [
    "# training_simple_model_on_large_data.model_training()"
   ]
  },
  {
   "cell_type": "code",
   "execution_count": 72,
   "id": "5d39a82e-7756-4806-b2b3-a0f44bc1b0c4",
   "metadata": {},
   "outputs": [],
   "source": [
    "# training_simple_model_on_large_data.model_analysis()"
   ]
  },
  {
   "cell_type": "markdown",
   "id": "641eb239-445b-4f68-83a6-22f9a377b98f",
   "metadata": {},
   "source": [
    "---"
   ]
  },
  {
   "cell_type": "markdown",
   "id": "8f11f943-6d12-4efe-9319-8c88984bc8d9",
   "metadata": {
    "tags": []
   },
   "source": [
    "## CNN + RNN - Transfer Learning Models\n",
    "- For sequential Data, RNNs (GRU/LSTM) are the best models\n",
    "- Videos are sequence of images, hence we can use RNN for understanding the gestures in Video\n",
    "- For extracting relevant features from images (so as to identify movement of the hand), we can use Transfer Learning (pretrained CNN models)"
   ]
  },
  {
   "cell_type": "code",
   "execution_count": 73,
   "id": "55ab9a3b-0646-434f-a92f-19955cba8dad",
   "metadata": {},
   "outputs": [],
   "source": [
    "# from tensorflow.keras.applications.resnet50 import ResNet50\n",
    "# resnet = ResNet50(include_top=False,weights='imagenet',input_shape=(img_props.img_width,img_props.img_height,img_props.NUM_RGB_CHANNELS))"
   ]
  },
  {
   "cell_type": "markdown",
   "id": "768c99d8-2a7b-4783-a971-ed05e7a88050",
   "metadata": {},
   "source": [
    "- Observation: Resnet took long time to train and did not give sufficiently impressive results"
   ]
  },
  {
   "cell_type": "markdown",
   "id": "da8795a9-a8b4-4013-a160-02a473488ea3",
   "metadata": {},
   "source": [
    "## MobileNet\n",
    "- It is a lightweight model which has good performance on ImageNet dataset\n",
    "- Lightweight models are preferred for current problem, since TVs have limited memory\n",
    "\n",
    "### Loading MNet\n",
    "- mnet loads with default 224 shape, while our image shape is different shape, hence \n",
    "- we load the model without weights\n",
    "- we initialize the weights in the loaded model afterwards\n",
    "- we disable the top layers (output layers), since they need to be fed further for learning gestures using RNNs"
   ]
  },
  {
   "cell_type": "code",
   "execution_count": 74,
   "id": "8b1f0dbd-c137-49aa-9041-32955abfc320",
   "metadata": {},
   "outputs": [],
   "source": [
    "from tensorflow.keras.applications import MobileNet\n",
    "\n",
    "mnet = MobileNet(include_top=False, weights=None, input_shape=(img_props.img_width, img_props.img_height, 3), alpha=1.0, depth_multiplier=1)\n",
    "mnet.load_weights('mobilenet_1_0_224_tf_no_top.h5')"
   ]
  },
  {
   "cell_type": "code",
   "execution_count": 75,
   "id": "8dff70b4-f57c-4670-978e-c85fdf99950a",
   "metadata": {},
   "outputs": [],
   "source": [
    "class RNN(ModelBuilder):\n",
    "    \n",
    "    def model_builder(self):\n",
    "        cnn = Sequential([mnet])\n",
    "        cnn.add(Conv2D(64,(2,2),padding='same'))\n",
    "        cnn.add(Conv2D(16,(3,3),padding='same'))\n",
    "        cnn.add(Flatten())\n",
    "        model = Sequential()\n",
    "        model.add(TimeDistributed(cnn,input_shape=(None, img_props.img_width,img_props.img_height,img_props.NUM_RGB_CHANNELS)))\n",
    "        model.add(GRU(16,input_shape=(None,30,256),return_sequences=True))\n",
    "        model.add(GRU(8))\n",
    "        model.add(Dense(5,activation='softmax'))\n",
    "        \n",
    "        return model"
   ]
  },
  {
   "cell_type": "code",
   "execution_count": 76,
   "id": "0d8885e5-9c41-40b4-b60e-0969a361d27b",
   "metadata": {},
   "outputs": [
    {
     "name": "stdout",
     "output_type": "stream",
     "text": [
      "Number of Training Videos: 663\n",
      "Number of Validation Videos: 100\n",
      "Number of Steps (Train): 14\n",
      "Number of Steps (Val): 2.0\n",
      "Sample Shape: (7, 80, 80, 3)\n"
     ]
    }
   ],
   "source": [
    "rnn = RNN(train_df, val_df, 50)\n",
    "rnn.num_epochs = 20"
   ]
  },
  {
   "cell_type": "code",
   "execution_count": 77,
   "id": "835d43e4-fb08-435d-aa67-417c8b751867",
   "metadata": {},
   "outputs": [],
   "source": [
    "rnn_model = rnn.model_compiler()"
   ]
  },
  {
   "cell_type": "code",
   "execution_count": 78,
   "id": "e503974c-c6f6-4ab0-b9f5-7d2b9740dd6d",
   "metadata": {},
   "outputs": [
    {
     "name": "stdout",
     "output_type": "stream",
     "text": [
      "Model: \"sequential_1\"\n",
      "_________________________________________________________________\n",
      " Layer (type)                Output Shape              Param #   \n",
      "=================================================================\n",
      " time_distributed (TimeDistr  (None, None, 64)         3500304   \n",
      " ibuted)                                                         \n",
      "                                                                 \n",
      " gru (GRU)                   (None, None, 16)          3936      \n",
      "                                                                 \n",
      " gru_1 (GRU)                 (None, 8)                 624       \n",
      "                                                                 \n",
      " dense (Dense)               (None, 5)                 45        \n",
      "                                                                 \n",
      "=================================================================\n",
      "Total params: 3,504,909\n",
      "Trainable params: 3,483,021\n",
      "Non-trainable params: 21,888\n",
      "_________________________________________________________________\n"
     ]
    }
   ],
   "source": [
    "rnn_model.summary()"
   ]
  },
  {
   "cell_type": "code",
   "execution_count": 79,
   "id": "9a895696-bc2a-46d8-a9bc-82497409f815",
   "metadata": {},
   "outputs": [],
   "source": [
    "rnn_training = ModelTraining(rnn, rnn_model)"
   ]
  },
  {
   "cell_type": "code",
   "execution_count": 80,
   "id": "49b1f418-3e4e-4fec-8389-32313c4e05d6",
   "metadata": {},
   "outputs": [
    {
     "name": "stdout",
     "output_type": "stream",
     "text": [
      "Source Path: Project_data\\train\n",
      "Number of Videos: 663\n",
      "Batch Size: 50\n",
      "Number of Batches: 13\n",
      "Extra Batch Size (zero means no extra batch): 13\n",
      "Epoch 1/20\n",
      "14/14 [==============================] - ETA: 0s - loss: 1.1997 - categorical_accuracy: 0.5204Source Path: Project_data\\val\n",
      "Number of Videos: 100\n",
      "Batch Size: 50\n",
      "Number of Batches: 2\n",
      "Extra Batch Size (zero means no extra batch): 0\n",
      "\n",
      "Epoch 00001: val_loss improved from inf to 1.30856, saving model to models\\model_init_2022-01-0223_11_16.568092\\model-00001-1.19968-0.52036-1.30856-0.41000.h5\n",
      "14/14 [==============================] - 59s 4s/step - loss: 1.1997 - categorical_accuracy: 0.5204 - val_loss: 1.3086 - val_categorical_accuracy: 0.4100 - lr: 0.0010\n",
      "Epoch 2/20\n",
      "14/14 [==============================] - ETA: 0s - loss: 0.7992 - categorical_accuracy: 0.7873\n",
      "Epoch 00002: val_loss did not improve from 1.30856\n",
      "14/14 [==============================] - 54s 4s/step - loss: 0.7992 - categorical_accuracy: 0.7873 - val_loss: 1.3234 - val_categorical_accuracy: 0.4100 - lr: 0.0010\n",
      "Epoch 3/20\n",
      "14/14 [==============================] - ETA: 0s - loss: 0.6401 - categorical_accuracy: 0.8778\n",
      "Epoch 00003: val_loss improved from 1.30856 to 0.80924, saving model to models\\model_init_2022-01-0223_11_16.568092\\model-00003-0.64012-0.87783-0.80924-0.72000.h5\n",
      "14/14 [==============================] - 54s 4s/step - loss: 0.6401 - categorical_accuracy: 0.8778 - val_loss: 0.8092 - val_categorical_accuracy: 0.7200 - lr: 0.0010\n",
      "Epoch 4/20\n",
      "14/14 [==============================] - ETA: 0s - loss: 0.5181 - categorical_accuracy: 0.9563\n",
      "Epoch 00004: val_loss improved from 0.80924 to 0.76153, saving model to models\\model_init_2022-01-0223_11_16.568092\\model-00004-0.51811-0.95626-0.76153-0.77000.h5\n",
      "14/14 [==============================] - 55s 4s/step - loss: 0.5181 - categorical_accuracy: 0.9563 - val_loss: 0.7615 - val_categorical_accuracy: 0.7700 - lr: 0.0010\n",
      "Epoch 5/20\n",
      "14/14 [==============================] - ETA: 0s - loss: 0.4135 - categorical_accuracy: 0.9819\n",
      "Epoch 00005: val_loss improved from 0.76153 to 0.66424, saving model to models\\model_init_2022-01-0223_11_16.568092\\model-00005-0.41355-0.98190-0.66424-0.79000.h5\n",
      "14/14 [==============================] - 54s 4s/step - loss: 0.4135 - categorical_accuracy: 0.9819 - val_loss: 0.6642 - val_categorical_accuracy: 0.7900 - lr: 0.0010\n",
      "Epoch 6/20\n",
      "14/14 [==============================] - ETA: 0s - loss: 0.3332 - categorical_accuracy: 0.9940\n",
      "Epoch 00006: val_loss improved from 0.66424 to 0.59961, saving model to models\\model_init_2022-01-0223_11_16.568092\\model-00006-0.33319-0.99397-0.59961-0.84000.h5\n",
      "14/14 [==============================] - 55s 4s/step - loss: 0.3332 - categorical_accuracy: 0.9940 - val_loss: 0.5996 - val_categorical_accuracy: 0.8400 - lr: 0.0010\n",
      "Epoch 7/20\n",
      "14/14 [==============================] - ETA: 0s - loss: 0.2848 - categorical_accuracy: 0.9925\n",
      "Epoch 00007: val_loss improved from 0.59961 to 0.52665, saving model to models\\model_init_2022-01-0223_11_16.568092\\model-00007-0.28482-0.99246-0.52665-0.85000.h5\n",
      "14/14 [==============================] - 54s 4s/step - loss: 0.2848 - categorical_accuracy: 0.9925 - val_loss: 0.5267 - val_categorical_accuracy: 0.8500 - lr: 0.0010\n",
      "Epoch 8/20\n",
      "14/14 [==============================] - ETA: 0s - loss: 0.2475 - categorical_accuracy: 0.9985\n",
      "Epoch 00008: val_loss improved from 0.52665 to 0.50100, saving model to models\\model_init_2022-01-0223_11_16.568092\\model-00008-0.24753-0.99849-0.50100-0.86000.h5\n",
      "14/14 [==============================] - 54s 4s/step - loss: 0.2475 - categorical_accuracy: 0.9985 - val_loss: 0.5010 - val_categorical_accuracy: 0.8600 - lr: 0.0010\n",
      "Epoch 9/20\n",
      "14/14 [==============================] - ETA: 0s - loss: 0.2209 - categorical_accuracy: 0.9985\n",
      "Epoch 00009: val_loss improved from 0.50100 to 0.45436, saving model to models\\model_init_2022-01-0223_11_16.568092\\model-00009-0.22091-0.99849-0.45436-0.84000.h5\n",
      "14/14 [==============================] - 54s 4s/step - loss: 0.2209 - categorical_accuracy: 0.9985 - val_loss: 0.4544 - val_categorical_accuracy: 0.8400 - lr: 0.0010\n",
      "Epoch 10/20\n",
      "14/14 [==============================] - ETA: 0s - loss: 0.1988 - categorical_accuracy: 1.0000\n",
      "Epoch 00010: val_loss improved from 0.45436 to 0.41353, saving model to models\\model_init_2022-01-0223_11_16.568092\\model-00010-0.19876-1.00000-0.41353-0.86000.h5\n",
      "14/14 [==============================] - 54s 4s/step - loss: 0.1988 - categorical_accuracy: 1.0000 - val_loss: 0.4135 - val_categorical_accuracy: 0.8600 - lr: 0.0010\n",
      "Epoch 11/20\n",
      "14/14 [==============================] - ETA: 0s - loss: 0.1801 - categorical_accuracy: 1.0000\n",
      "Epoch 00011: val_loss improved from 0.41353 to 0.40012, saving model to models\\model_init_2022-01-0223_11_16.568092\\model-00011-0.18015-1.00000-0.40012-0.87000.h5\n",
      "14/14 [==============================] - 56s 4s/step - loss: 0.1801 - categorical_accuracy: 1.0000 - val_loss: 0.4001 - val_categorical_accuracy: 0.8700 - lr: 0.0010\n",
      "Epoch 12/20\n",
      "14/14 [==============================] - ETA: 0s - loss: 0.1648 - categorical_accuracy: 1.0000\n",
      "Epoch 00012: val_loss improved from 0.40012 to 0.38967, saving model to models\\model_init_2022-01-0223_11_16.568092\\model-00012-0.16478-1.00000-0.38967-0.88000.h5\n",
      "14/14 [==============================] - 55s 4s/step - loss: 0.1648 - categorical_accuracy: 1.0000 - val_loss: 0.3897 - val_categorical_accuracy: 0.8800 - lr: 0.0010\n",
      "Epoch 13/20\n",
      "14/14 [==============================] - ETA: 0s - loss: 0.1513 - categorical_accuracy: 1.0000\n",
      "Epoch 00013: val_loss improved from 0.38967 to 0.37682, saving model to models\\model_init_2022-01-0223_11_16.568092\\model-00013-0.15130-1.00000-0.37682-0.88000.h5\n",
      "14/14 [==============================] - 55s 4s/step - loss: 0.1513 - categorical_accuracy: 1.0000 - val_loss: 0.3768 - val_categorical_accuracy: 0.8800 - lr: 0.0010\n",
      "Epoch 14/20\n",
      "14/14 [==============================] - ETA: 0s - loss: 0.1392 - categorical_accuracy: 1.0000\n",
      "Epoch 00014: val_loss improved from 0.37682 to 0.36707, saving model to models\\model_init_2022-01-0223_11_16.568092\\model-00014-0.13924-1.00000-0.36707-0.88000.h5\n",
      "14/14 [==============================] - 53s 4s/step - loss: 0.1392 - categorical_accuracy: 1.0000 - val_loss: 0.3671 - val_categorical_accuracy: 0.8800 - lr: 0.0010\n",
      "Epoch 15/20\n",
      "14/14 [==============================] - ETA: 0s - loss: 0.1288 - categorical_accuracy: 1.0000\n",
      "Epoch 00015: val_loss improved from 0.36707 to 0.35733, saving model to models\\model_init_2022-01-0223_11_16.568092\\model-00015-0.12880-1.00000-0.35733-0.88000.h5\n",
      "14/14 [==============================] - 53s 4s/step - loss: 0.1288 - categorical_accuracy: 1.0000 - val_loss: 0.3573 - val_categorical_accuracy: 0.8800 - lr: 0.0010\n",
      "Epoch 16/20\n",
      "14/14 [==============================] - ETA: 0s - loss: 0.1196 - categorical_accuracy: 1.0000\n",
      "Epoch 00016: val_loss improved from 0.35733 to 0.35260, saving model to models\\model_init_2022-01-0223_11_16.568092\\model-00016-0.11956-1.00000-0.35260-0.88000.h5\n",
      "14/14 [==============================] - 55s 4s/step - loss: 0.1196 - categorical_accuracy: 1.0000 - val_loss: 0.3526 - val_categorical_accuracy: 0.8800 - lr: 0.0010\n",
      "Epoch 17/20\n",
      "14/14 [==============================] - ETA: 0s - loss: 0.1113 - categorical_accuracy: 1.0000\n",
      "Epoch 00017: val_loss improved from 0.35260 to 0.34805, saving model to models\\model_init_2022-01-0223_11_16.568092\\model-00017-0.11126-1.00000-0.34805-0.88000.h5\n",
      "14/14 [==============================] - 54s 4s/step - loss: 0.1113 - categorical_accuracy: 1.0000 - val_loss: 0.3481 - val_categorical_accuracy: 0.8800 - lr: 0.0010\n",
      "Epoch 18/20\n",
      "14/14 [==============================] - ETA: 0s - loss: 0.1038 - categorical_accuracy: 1.0000\n",
      "Epoch 00018: val_loss improved from 0.34805 to 0.34410, saving model to models\\model_init_2022-01-0223_11_16.568092\\model-00018-0.10382-1.00000-0.34410-0.88000.h5\n",
      "14/14 [==============================] - 53s 4s/step - loss: 0.1038 - categorical_accuracy: 1.0000 - val_loss: 0.3441 - val_categorical_accuracy: 0.8800 - lr: 0.0010\n",
      "Epoch 19/20\n",
      "14/14 [==============================] - ETA: 0s - loss: 0.0971 - categorical_accuracy: 1.0000\n",
      "Epoch 00019: val_loss improved from 0.34410 to 0.34299, saving model to models\\model_init_2022-01-0223_11_16.568092\\model-00019-0.09709-1.00000-0.34299-0.88000.h5\n",
      "14/14 [==============================] - 53s 4s/step - loss: 0.0971 - categorical_accuracy: 1.0000 - val_loss: 0.3430 - val_categorical_accuracy: 0.8800 - lr: 0.0010\n",
      "Epoch 20/20\n",
      "14/14 [==============================] - ETA: 0s - loss: 0.0910 - categorical_accuracy: 1.0000\n",
      "Epoch 00020: val_loss improved from 0.34299 to 0.34120, saving model to models\\model_init_2022-01-0223_11_16.568092\\model-00020-0.09098-1.00000-0.34120-0.88000.h5\n",
      "14/14 [==============================] - 54s 4s/step - loss: 0.0910 - categorical_accuracy: 1.0000 - val_loss: 0.3412 - val_categorical_accuracy: 0.8800 - lr: 0.0010\n"
     ]
    }
   ],
   "source": [
    "rnn_training.model_training()"
   ]
  },
  {
   "cell_type": "code",
   "execution_count": 81,
   "id": "67ea2411-4bec-4439-9000-7e92a5a34412",
   "metadata": {
    "tags": []
   },
   "outputs": [
    {
     "data": {
      "image/png": "[encoded data removed]",
      "text/plain": [
       "<Figure size 576x576 with 2 Axes>"
      ]
     },
     "metadata": {
      "needs_background": "light"
     },
     "output_type": "display_data"
    }
   ],
   "source": [
    "rnn_training.model_analysis()"
   ]
  },
  {
   "cell_type": "markdown",
   "id": "c40520d2-9e55-4b73-b962-25819ef362e3",
   "metadata": {},
   "source": [
    "### Observation\n",
    "- The training accuracy reaches 100% in the first couple of epochs while the best validation accuracy we got was 92%.\n",
    "- Although it was learning in the beginning, we can say that the model is overfitting.\n",
    "- We can try augmentation techniques and add regularization using dropouts to see if the results get improved."
   ]
  },
  {
   "cell_type": "markdown",
   "id": "bfdc2b5c-50d8-4801-93a9-0936896b5089",
   "metadata": {},
   "source": [
    "---"
   ]
  },
  {
   "cell_type": "markdown",
   "id": "c0a9c250-c28e-4486-9791-84aeb5b5c921",
   "metadata": {},
   "source": [
    "### CNN + RNN"
   ]
  },
  {
   "cell_type": "code",
   "execution_count": 83,
   "id": "b6369bf0-1076-493d-b0a3-1ce451bd048c",
   "metadata": {
    "tags": []
   },
   "outputs": [],
   "source": [
    "class RNN2(ModelBuilder):\n",
    "    \n",
    "    def model_builder(self):\n",
    "        cnn = Sequential([mnet])\n",
    "        cnn.add(Conv2D(16,(3,3),padding='same'))\n",
    "        cnn.add(Conv2D(32,(3,3),padding='same'))\n",
    "        cnn.add(Conv2D(64,(2,2),padding='same'))\n",
    "        cnn.add(Flatten())\n",
    "        model = Sequential()\n",
    "        model.add(TimeDistributed(cnn,input_shape=(img_props.img_selection_len, img_props.img_width,img_props.img_height,img_props.NUM_RGB_CHANNELS)))\n",
    "        model.add(GRU(16,input_shape=(None,30,256),return_sequences=True))\n",
    "        model.add(GRU(8))\n",
    "        model.add(Dense(5,activation='softmax'))\n",
    "        \n",
    "        return model"
   ]
  },
  {
   "cell_type": "code",
   "execution_count": 85,
   "id": "3a53c088-be93-49c4-8a31-fca4f6d56b4d",
   "metadata": {},
   "outputs": [
    {
     "name": "stdout",
     "output_type": "stream",
     "text": [
      "Number of Training Videos: 663\n",
      "Number of Validation Videos: 100\n",
      "Number of Steps (Train): 14\n",
      "Number of Steps (Val): 2.0\n",
      "Sample Shape: (7, 80, 80, 3)\n"
     ]
    }
   ],
   "source": [
    "rnn2 = RNN2(train_df, val_df, 50)\n",
    "rnn2.num_epochs = 20"
   ]
  },
  {
   "cell_type": "code",
   "execution_count": 87,
   "id": "75d630e5-f465-4b7c-96f7-8b3bd9c9eba0",
   "metadata": {},
   "outputs": [],
   "source": [
    "rnn_model2 = rnn2.model_compiler()"
   ]
  },
  {
   "cell_type": "code",
   "execution_count": 88,
   "id": "a9aeb0d3-b98b-4ca2-9a43-358c288bf15f",
   "metadata": {},
   "outputs": [
    {
     "name": "stdout",
     "output_type": "stream",
     "text": [
      "Model: \"sequential_3\"\n",
      "_________________________________________________________________\n",
      " Layer (type)                Output Shape              Param #   \n",
      "=================================================================\n",
      " time_distributed_1 (TimeDis  (None, 7, 256)           3389232   \n",
      " tributed)                                                       \n",
      "                                                                 \n",
      " gru_2 (GRU)                 (None, 7, 16)             13152     \n",
      "                                                                 \n",
      " gru_3 (GRU)                 (None, 8)                 624       \n",
      "                                                                 \n",
      " dense_1 (Dense)             (None, 5)                 45        \n",
      "                                                                 \n",
      "=================================================================\n",
      "Total params: 3,403,053\n",
      "Trainable params: 3,381,165\n",
      "Non-trainable params: 21,888\n",
      "_________________________________________________________________\n"
     ]
    }
   ],
   "source": [
    "rnn_model2.summary()"
   ]
  },
  {
   "cell_type": "code",
   "execution_count": 91,
   "id": "453fe722-3e56-4e4e-9fcd-b61fb3b419e3",
   "metadata": {},
   "outputs": [],
   "source": [
    "rnn_training2 = ModelTraining(rnn2, rnn_model2)"
   ]
  },
  {
   "cell_type": "code",
   "execution_count": 92,
   "id": "3831415f-afd5-42fe-879a-a788312fce55",
   "metadata": {},
   "outputs": [
    {
     "name": "stdout",
     "output_type": "stream",
     "text": [
      "Source Path: Project_data\\train\n",
      "Number of Videos: 663\n",
      "Batch Size: 50\n",
      "Number of Batches: 13\n",
      "Extra Batch Size (zero means no extra batch): 13\n",
      "Epoch 1/20\n",
      "14/14 [==============================] - ETA: 0s - loss: 0.7077 - categorical_accuracy: 0.8914Source Path: Project_data\\val\n",
      "Number of Videos: 100\n",
      "Batch Size: 50\n",
      "Number of Batches: 2\n",
      "Extra Batch Size (zero means no extra batch): 0\n",
      "\n",
      "Epoch 00001: val_loss improved from inf to 0.79533, saving model to models\\model_init_2022-01-0223_11_16.568092\\model-00001-0.70768-0.89140-0.79533-0.79000.h5\n",
      "14/14 [==============================] - 59s 4s/step - loss: 0.7077 - categorical_accuracy: 0.8914 - val_loss: 0.7953 - val_categorical_accuracy: 0.7900 - lr: 0.0010\n",
      "Epoch 2/20\n",
      "14/14 [==============================] - ETA: 0s - loss: 0.5177 - categorical_accuracy: 0.9593\n",
      "Epoch 00002: val_loss improved from 0.79533 to 0.68349, saving model to models\\model_init_2022-01-0223_11_16.568092\\model-00002-0.51768-0.95928-0.68349-0.86000.h5\n",
      "14/14 [==============================] - 54s 4s/step - loss: 0.5177 - categorical_accuracy: 0.9593 - val_loss: 0.6835 - val_categorical_accuracy: 0.8600 - lr: 0.0010\n",
      "Epoch 3/20\n",
      "14/14 [==============================] - ETA: 0s - loss: 0.4385 - categorical_accuracy: 0.9713\n",
      "Epoch 00003: val_loss did not improve from 0.68349\n",
      "14/14 [==============================] - 54s 4s/step - loss: 0.4385 - categorical_accuracy: 0.9713 - val_loss: 0.7400 - val_categorical_accuracy: 0.7500 - lr: 0.0010\n",
      "Epoch 4/20\n",
      "14/14 [==============================] - ETA: 0s - loss: 0.3742 - categorical_accuracy: 0.9819\n",
      "Epoch 00004: val_loss did not improve from 0.68349\n",
      "14/14 [==============================] - 57s 4s/step - loss: 0.3742 - categorical_accuracy: 0.9819 - val_loss: 0.7315 - val_categorical_accuracy: 0.7900 - lr: 0.0010\n",
      "Epoch 5/20\n",
      "14/14 [==============================] - ETA: 0s - loss: 0.3038 - categorical_accuracy: 0.9940\n",
      "Epoch 00005: val_loss did not improve from 0.68349\n",
      "14/14 [==============================] - 58s 4s/step - loss: 0.3038 - categorical_accuracy: 0.9940 - val_loss: 0.7323 - val_categorical_accuracy: 0.8100 - lr: 0.0010\n",
      "Epoch 6/20\n",
      "14/14 [==============================] - ETA: 0s - loss: 0.2828 - categorical_accuracy: 0.9879\n",
      "Epoch 00006: val_loss did not improve from 0.68349\n",
      "14/14 [==============================] - 56s 4s/step - loss: 0.2828 - categorical_accuracy: 0.9879 - val_loss: 0.7853 - val_categorical_accuracy: 0.8000 - lr: 0.0010\n",
      "Epoch 7/20\n",
      "14/14 [==============================] - ETA: 0s - loss: 0.2769 - categorical_accuracy: 0.9759\n",
      "Epoch 00007: ReduceLROnPlateau reducing learning rate to 0.00010000000474974513.\n",
      "\n",
      "Epoch 00007: val_loss did not improve from 0.68349\n",
      "14/14 [==============================] - 57s 4s/step - loss: 0.2769 - categorical_accuracy: 0.9759 - val_loss: 1.0299 - val_categorical_accuracy: 0.7600 - lr: 0.0010\n",
      "Epoch 8/20\n",
      "14/14 [==============================] - ETA: 0s - loss: 0.2673 - categorical_accuracy: 0.9925\n",
      "Epoch 00008: val_loss did not improve from 0.68349\n",
      "14/14 [==============================] - 56s 4s/step - loss: 0.2673 - categorical_accuracy: 0.9925 - val_loss: 0.8589 - val_categorical_accuracy: 0.8000 - lr: 1.0000e-04\n",
      "Epoch 9/20\n",
      "14/14 [==============================] - ETA: 0s - loss: 0.2463 - categorical_accuracy: 0.9955\n",
      "Epoch 00009: val_loss did not improve from 0.68349\n",
      "14/14 [==============================] - 54s 4s/step - loss: 0.2463 - categorical_accuracy: 0.9955 - val_loss: 0.6877 - val_categorical_accuracy: 0.8300 - lr: 1.0000e-04\n",
      "Epoch 10/20\n",
      "14/14 [==============================] - ETA: 0s - loss: 0.2367 - categorical_accuracy: 0.9970\n",
      "Epoch 00010: val_loss improved from 0.68349 to 0.58280, saving model to models\\model_init_2022-01-0223_11_16.568092\\model-00010-0.23669-0.99698-0.58280-0.87000.h5\n",
      "14/14 [==============================] - 56s 4s/step - loss: 0.2367 - categorical_accuracy: 0.9970 - val_loss: 0.5828 - val_categorical_accuracy: 0.8700 - lr: 1.0000e-04\n",
      "Epoch 11/20\n",
      "14/14 [==============================] - ETA: 0s - loss: 0.2305 - categorical_accuracy: 0.9970\n",
      "Epoch 00011: val_loss improved from 0.58280 to 0.51194, saving model to models\\model_init_2022-01-0223_11_16.568092\\model-00011-0.23054-0.99698-0.51194-0.90000.h5\n",
      "14/14 [==============================] - 55s 4s/step - loss: 0.2305 - categorical_accuracy: 0.9970 - val_loss: 0.5119 - val_categorical_accuracy: 0.9000 - lr: 1.0000e-04\n",
      "Epoch 12/20\n",
      "14/14 [==============================] - ETA: 0s - loss: 0.2159 - categorical_accuracy: 0.9985\n",
      "Epoch 00012: val_loss improved from 0.51194 to 0.48453, saving model to models\\model_init_2022-01-0223_11_16.568092\\model-00012-0.21591-0.99849-0.48453-0.89000.h5\n",
      "14/14 [==============================] - 55s 4s/step - loss: 0.2159 - categorical_accuracy: 0.9985 - val_loss: 0.4845 - val_categorical_accuracy: 0.8900 - lr: 1.0000e-04\n",
      "Epoch 13/20\n",
      "14/14 [==============================] - ETA: 0s - loss: 0.2051 - categorical_accuracy: 1.0000\n",
      "Epoch 00013: val_loss improved from 0.48453 to 0.47487, saving model to models\\model_init_2022-01-0223_11_16.568092\\model-00013-0.20508-1.00000-0.47487-0.91000.h5\n",
      "14/14 [==============================] - 55s 4s/step - loss: 0.2051 - categorical_accuracy: 1.0000 - val_loss: 0.4749 - val_categorical_accuracy: 0.9100 - lr: 1.0000e-04\n",
      "Epoch 14/20\n",
      "14/14 [==============================] - ETA: 0s - loss: 0.2023 - categorical_accuracy: 1.0000\n",
      "Epoch 00014: val_loss improved from 0.47487 to 0.47016, saving model to models\\model_init_2022-01-0223_11_16.568092\\model-00014-0.20225-1.00000-0.47016-0.91000.h5\n",
      "14/14 [==============================] - 55s 4s/step - loss: 0.2023 - categorical_accuracy: 1.0000 - val_loss: 0.4702 - val_categorical_accuracy: 0.9100 - lr: 1.0000e-04\n",
      "Epoch 15/20\n",
      "14/14 [==============================] - ETA: 0s - loss: 0.1998 - categorical_accuracy: 1.0000\n",
      "Epoch 00015: val_loss improved from 0.47016 to 0.46636, saving model to models\\model_init_2022-01-0223_11_16.568092\\model-00015-0.19982-1.00000-0.46636-0.91000.h5\n",
      "14/14 [==============================] - 55s 4s/step - loss: 0.1998 - categorical_accuracy: 1.0000 - val_loss: 0.4664 - val_categorical_accuracy: 0.9100 - lr: 1.0000e-04\n",
      "Epoch 16/20\n",
      "14/14 [==============================] - ETA: 0s - loss: 0.1975 - categorical_accuracy: 1.0000\n",
      "Epoch 00016: val_loss improved from 0.46636 to 0.46322, saving model to models\\model_init_2022-01-0223_11_16.568092\\model-00016-0.19747-1.00000-0.46322-0.91000.h5\n",
      "14/14 [==============================] - 54s 4s/step - loss: 0.1975 - categorical_accuracy: 1.0000 - val_loss: 0.4632 - val_categorical_accuracy: 0.9100 - lr: 1.0000e-04\n",
      "Epoch 17/20\n",
      "14/14 [==============================] - ETA: 0s - loss: 0.1952 - categorical_accuracy: 1.0000\n",
      "Epoch 00017: val_loss improved from 0.46322 to 0.45961, saving model to models\\model_init_2022-01-0223_11_16.568092\\model-00017-0.19516-1.00000-0.45961-0.90000.h5\n",
      "14/14 [==============================] - 55s 4s/step - loss: 0.1952 - categorical_accuracy: 1.0000 - val_loss: 0.4596 - val_categorical_accuracy: 0.9000 - lr: 1.0000e-04\n",
      "Epoch 18/20\n",
      "14/14 [==============================] - ETA: 0s - loss: 0.1931 - categorical_accuracy: 1.0000\n",
      "Epoch 00018: val_loss improved from 0.45961 to 0.45883, saving model to models\\model_init_2022-01-0223_11_16.568092\\model-00018-0.19315-1.00000-0.45883-0.90000.h5\n",
      "14/14 [==============================] - 56s 4s/step - loss: 0.1931 - categorical_accuracy: 1.0000 - val_loss: 0.4588 - val_categorical_accuracy: 0.9000 - lr: 1.0000e-04\n",
      "Epoch 19/20\n",
      "14/14 [==============================] - ETA: 0s - loss: 0.1909 - categorical_accuracy: 1.0000\n",
      "Epoch 00019: val_loss did not improve from 0.45883\n",
      "14/14 [==============================] - 56s 4s/step - loss: 0.1909 - categorical_accuracy: 1.0000 - val_loss: 0.4627 - val_categorical_accuracy: 0.9000 - lr: 1.0000e-04\n",
      "Epoch 20/20\n",
      "14/14 [==============================] - ETA: 0s - loss: 0.1888 - categorical_accuracy: 1.0000\n",
      "Epoch 00020: val_loss did not improve from 0.45883\n",
      "14/14 [==============================] - 56s 4s/step - loss: 0.1888 - categorical_accuracy: 1.0000 - val_loss: 0.4627 - val_categorical_accuracy: 0.9000 - lr: 1.0000e-04\n"
     ]
    }
   ],
   "source": [
    "rnn_training2.model_training()"
   ]
  },
  {
   "cell_type": "code",
   "execution_count": 93,
   "id": "950cdf02-f194-4d18-92bf-b2265b8e2a06",
   "metadata": {
    "tags": []
   },
   "outputs": [
    {
     "data": {
      "image/png": "[encoded data removed]",
      "text/plain": [
       "<Figure size 576x576 with 2 Axes>"
      ]
     },
     "metadata": {
      "needs_background": "light"
     },
     "output_type": "display_data"
    }
   ],
   "source": [
    "rnn_training2.model_analysis()"
   ]
  },
  {
   "cell_type": "markdown",
   "id": "1e5d2976-0574-4878-a545-0c3a01346f0b",
   "metadata": {},
   "source": [
    "---"
   ]
  },
  {
   "cell_type": "markdown",
   "id": "5921df15-21f9-41e5-928d-a9958cfb921a",
   "metadata": {},
   "source": [
    "## CNN + RNN\n",
    "- continuing with previous model\n",
    "- adding batch norm and drop"
   ]
  },
  {
   "cell_type": "code",
   "execution_count": 112,
   "id": "5840548d-d4b3-4cc8-b38d-89816bd5b210",
   "metadata": {
    "tags": []
   },
   "outputs": [],
   "source": [
    "class RNN3(ModelBuilder):\n",
    "    \n",
    "    def model_builder(self):\n",
    "        cnn = Sequential([mnet])\n",
    "        \n",
    "        cnn.add(Conv2D(16,(3,3), padding='same'))\n",
    "        cnn.add(BatchNormalization())\n",
    "        cnn.add(Dropout(0.25))\n",
    "        \n",
    "        cnn.add(Conv2D(32,(3,3), padding='same'))\n",
    "        cnn.add(BatchNormalization())\n",
    "        cnn.add(Dropout(0.25))\n",
    "        \n",
    "        cnn.add(Conv2D(64,(2,2), padding='same'))\n",
    "        cnn.add(BatchNormalization())\n",
    "        cnn.add(Dropout(0.25))\n",
    "        cnn.add(MaxPooling2D((2,2)))\n",
    "        \n",
    "        cnn.add(Flatten())\n",
    "        \n",
    "        model = Sequential()\n",
    "        model.add(TimeDistributed(cnn, input_shape=(img_props.img_selection_len, img_props.img_width,img_props.img_height,img_props.NUM_RGB_CHANNELS)))\n",
    "        model.add(GRU(8, return_sequences=True))\n",
    "        model.add(BatchNormalization())\n",
    "        model.add(Dropout(0.25))\n",
    "        model.add(GRU(16))\n",
    "        model.add(Dense(5,activation='softmax'))\n",
    "        \n",
    "        return model"
   ]
  },
  {
   "cell_type": "code",
   "execution_count": 113,
   "id": "2c62ac05-b432-4d30-adb1-e459b3e40f8d",
   "metadata": {},
   "outputs": [
    {
     "name": "stdout",
     "output_type": "stream",
     "text": [
      "Number of Training Videos: 663\n",
      "Number of Validation Videos: 100\n",
      "Number of Steps (Train): 14\n",
      "Number of Steps (Val): 2.0\n",
      "Sample Shape: (7, 80, 80, 3)\n"
     ]
    }
   ],
   "source": [
    "rnn3 = RNN3(train_df, val_df, 50)\n",
    "rnn3.num_epochs = 50"
   ]
  },
  {
   "cell_type": "code",
   "execution_count": 114,
   "id": "544456b1-2f57-46c3-9163-7bcdb0e89276",
   "metadata": {},
   "outputs": [],
   "source": [
    "rnn_model3 = rnn3.model_compiler()"
   ]
  },
  {
   "cell_type": "code",
   "execution_count": 115,
   "id": "f81bd946-9a01-45af-8a76-8f6bcb4e8b54",
   "metadata": {},
   "outputs": [
    {
     "name": "stdout",
     "output_type": "stream",
     "text": [
      "Model: \"sequential_15\"\n",
      "_________________________________________________________________\n",
      " Layer (type)                Output Shape              Param #   \n",
      "=================================================================\n",
      " time_distributed_7 (TimeDis  (None, 7, 64)            3389680   \n",
      " tributed)                                                       \n",
      "                                                                 \n",
      " gru_14 (GRU)                (None, 7, 8)              1776      \n",
      "                                                                 \n",
      " batch_normalization_15 (Bat  (None, 7, 8)             32        \n",
      " chNormalization)                                                \n",
      "                                                                 \n",
      " dropout_15 (Dropout)        (None, 7, 8)              0         \n",
      "                                                                 \n",
      " gru_15 (GRU)                (None, 16)                1248      \n",
      "                                                                 \n",
      " dense_7 (Dense)             (None, 5)                 85        \n",
      "                                                                 \n",
      "=================================================================\n",
      "Total params: 3,392,821\n",
      "Trainable params: 3,370,693\n",
      "Non-trainable params: 22,128\n",
      "_________________________________________________________________\n"
     ]
    }
   ],
   "source": [
    "rnn_model3.summary()"
   ]
  },
  {
   "cell_type": "code",
   "execution_count": 118,
   "id": "f37478f3-6503-48ca-86bf-a2ba6ad8fc6e",
   "metadata": {},
   "outputs": [],
   "source": [
    "rnn_training3 = ModelTraining(rnn3, rnn_model3)"
   ]
  },
  {
   "cell_type": "code",
   "execution_count": 119,
   "id": "c68f0483-4402-4406-bce8-6b9d35ff279c",
   "metadata": {},
   "outputs": [
    {
     "name": "stdout",
     "output_type": "stream",
     "text": [
      "Source Path: Project_data\\train\n",
      "Number of Videos: 663\n",
      "Batch Size: 50\n",
      "Number of Batches: 13\n",
      "Extra Batch Size (zero means no extra batch): 13\n",
      "Epoch 1/50\n",
      "14/14 [==============================] - ETA: 0s - loss: 0.8784 - categorical_accuracy: 0.8944Source Path: Project_data\\val\n",
      "Number of Videos: 100\n",
      "Batch Size: 50\n",
      "Number of Batches: 2\n",
      "Extra Batch Size (zero means no extra batch): 0\n",
      "\n",
      "Epoch 00001: val_loss improved from inf to 1.15340, saving model to models\\model_init_2022-01-0223_11_16.568092\\model-00001-0.87844-0.89442-1.15340-0.74000.h5\n",
      "14/14 [==============================] - 63s 4s/step - loss: 0.8784 - categorical_accuracy: 0.8944 - val_loss: 1.1534 - val_categorical_accuracy: 0.7400 - lr: 0.0010\n",
      "Epoch 2/50\n",
      "14/14 [==============================] - ETA: 0s - loss: 0.5915 - categorical_accuracy: 0.9744\n",
      "Epoch 00002: val_loss improved from 1.15340 to 0.96583, saving model to models\\model_init_2022-01-0223_11_16.568092\\model-00002-0.59151-0.97436-0.96583-0.80000.h5\n",
      "14/14 [==============================] - 56s 4s/step - loss: 0.5915 - categorical_accuracy: 0.9744 - val_loss: 0.9658 - val_categorical_accuracy: 0.8000 - lr: 0.0010\n",
      "Epoch 3/50\n",
      "14/14 [==============================] - ETA: 0s - loss: 0.4353 - categorical_accuracy: 0.9955\n",
      "Epoch 00003: val_loss improved from 0.96583 to 0.94136, saving model to models\\model_init_2022-01-0223_11_16.568092\\model-00003-0.43535-0.99548-0.94136-0.78000.h5\n",
      "14/14 [==============================] - 57s 4s/step - loss: 0.4353 - categorical_accuracy: 0.9955 - val_loss: 0.9414 - val_categorical_accuracy: 0.7800 - lr: 0.0010\n",
      "Epoch 4/50\n",
      "14/14 [==============================] - ETA: 0s - loss: 0.3408 - categorical_accuracy: 0.9910\n",
      "Epoch 00004: val_loss improved from 0.94136 to 0.81697, saving model to models\\model_init_2022-01-0223_11_16.568092\\model-00004-0.34083-0.99095-0.81697-0.77000.h5\n",
      "14/14 [==============================] - 54s 4s/step - loss: 0.3408 - categorical_accuracy: 0.9910 - val_loss: 0.8170 - val_categorical_accuracy: 0.7700 - lr: 0.0010\n",
      "Epoch 5/50\n",
      "14/14 [==============================] - ETA: 0s - loss: 0.2743 - categorical_accuracy: 0.9879\n",
      "Epoch 00005: val_loss improved from 0.81697 to 0.67421, saving model to models\\model_init_2022-01-0223_11_16.568092\\model-00005-0.27428-0.98793-0.67421-0.81000.h5\n",
      "14/14 [==============================] - 55s 4s/step - loss: 0.2743 - categorical_accuracy: 0.9879 - val_loss: 0.6742 - val_categorical_accuracy: 0.8100 - lr: 0.0010\n",
      "Epoch 6/50\n",
      "14/14 [==============================] - ETA: 0s - loss: 0.2261 - categorical_accuracy: 0.9864\n",
      "Epoch 00006: val_loss improved from 0.67421 to 0.65269, saving model to models\\model_init_2022-01-0223_11_16.568092\\model-00006-0.22606-0.98643-0.65269-0.80000.h5\n",
      "14/14 [==============================] - 56s 4s/step - loss: 0.2261 - categorical_accuracy: 0.9864 - val_loss: 0.6527 - val_categorical_accuracy: 0.8000 - lr: 0.0010\n",
      "Epoch 7/50\n",
      "14/14 [==============================] - ETA: 0s - loss: 0.1776 - categorical_accuracy: 0.9925\n",
      "Epoch 00007: val_loss improved from 0.65269 to 0.62744, saving model to models\\model_init_2022-01-0223_11_16.568092\\model-00007-0.17761-0.99246-0.62744-0.83000.h5\n",
      "14/14 [==============================] - 55s 4s/step - loss: 0.1776 - categorical_accuracy: 0.9925 - val_loss: 0.6274 - val_categorical_accuracy: 0.8300 - lr: 0.0010\n",
      "Epoch 8/50\n",
      "14/14 [==============================] - ETA: 0s - loss: 0.1395 - categorical_accuracy: 0.9970\n",
      "Epoch 00008: val_loss did not improve from 0.62744\n",
      "14/14 [==============================] - 55s 4s/step - loss: 0.1395 - categorical_accuracy: 0.9970 - val_loss: 0.8770 - val_categorical_accuracy: 0.7500 - lr: 0.0010\n",
      "Epoch 9/50\n",
      "14/14 [==============================] - ETA: 0s - loss: 0.1347 - categorical_accuracy: 0.9910\n",
      "Epoch 00009: val_loss improved from 0.62744 to 0.42281, saving model to models\\model_init_2022-01-0223_11_16.568092\\model-00009-0.13467-0.99095-0.42281-0.88000.h5\n",
      "14/14 [==============================] - 55s 4s/step - loss: 0.1347 - categorical_accuracy: 0.9910 - val_loss: 0.4228 - val_categorical_accuracy: 0.8800 - lr: 0.0010\n",
      "Epoch 10/50\n",
      "14/14 [==============================] - ETA: 0s - loss: 0.1084 - categorical_accuracy: 0.9970\n",
      "Epoch 00010: val_loss improved from 0.42281 to 0.30681, saving model to models\\model_init_2022-01-0223_11_16.568092\\model-00010-0.10836-0.99698-0.30681-0.90000.h5\n",
      "14/14 [==============================] - 55s 4s/step - loss: 0.1084 - categorical_accuracy: 0.9970 - val_loss: 0.3068 - val_categorical_accuracy: 0.9000 - lr: 0.0010\n",
      "Epoch 11/50\n",
      "14/14 [==============================] - ETA: 0s - loss: 0.0896 - categorical_accuracy: 0.9970\n",
      "Epoch 00011: val_loss did not improve from 0.30681\n",
      "14/14 [==============================] - 57s 4s/step - loss: 0.0896 - categorical_accuracy: 0.9970 - val_loss: 0.4100 - val_categorical_accuracy: 0.8900 - lr: 0.0010\n",
      "Epoch 12/50\n",
      "14/14 [==============================] - ETA: 0s - loss: 0.1109 - categorical_accuracy: 0.9879\n",
      "Epoch 00012: val_loss did not improve from 0.30681\n",
      "14/14 [==============================] - 57s 4s/step - loss: 0.1109 - categorical_accuracy: 0.9879 - val_loss: 0.7233 - val_categorical_accuracy: 0.7900 - lr: 0.0010\n",
      "Epoch 13/50\n",
      "14/14 [==============================] - ETA: 0s - loss: 0.1546 - categorical_accuracy: 0.9668\n",
      "Epoch 00013: val_loss did not improve from 0.30681\n",
      "14/14 [==============================] - 56s 4s/step - loss: 0.1546 - categorical_accuracy: 0.9668 - val_loss: 0.6598 - val_categorical_accuracy: 0.8000 - lr: 0.0010\n",
      "Epoch 14/50\n",
      "14/14 [==============================] - ETA: 0s - loss: 0.1310 - categorical_accuracy: 0.9744\n",
      "Epoch 00014: val_loss did not improve from 0.30681\n",
      "14/14 [==============================] - 56s 4s/step - loss: 0.1310 - categorical_accuracy: 0.9744 - val_loss: 0.5821 - val_categorical_accuracy: 0.8400 - lr: 0.0010\n",
      "Epoch 15/50\n",
      "14/14 [==============================] - ETA: 0s - loss: 0.1287 - categorical_accuracy: 0.9744\n",
      "Epoch 00015: ReduceLROnPlateau reducing learning rate to 0.00010000000474974513.\n",
      "\n",
      "Epoch 00015: val_loss did not improve from 0.30681\n",
      "14/14 [==============================] - 57s 4s/step - loss: 0.1287 - categorical_accuracy: 0.9744 - val_loss: 1.1374 - val_categorical_accuracy: 0.6700 - lr: 0.0010\n",
      "Epoch 16/50\n",
      "14/14 [==============================] - ETA: 0s - loss: 0.1096 - categorical_accuracy: 0.9804\n",
      "Epoch 00016: val_loss did not improve from 0.30681\n",
      "14/14 [==============================] - 56s 4s/step - loss: 0.1096 - categorical_accuracy: 0.9804 - val_loss: 0.7335 - val_categorical_accuracy: 0.8200 - lr: 1.0000e-04\n",
      "Epoch 17/50\n",
      "14/14 [==============================] - ETA: 0s - loss: 0.0650 - categorical_accuracy: 0.9955\n",
      "Epoch 00017: val_loss did not improve from 0.30681\n",
      "14/14 [==============================] - 57s 4s/step - loss: 0.0650 - categorical_accuracy: 0.9955 - val_loss: 0.5314 - val_categorical_accuracy: 0.8500 - lr: 1.0000e-04\n",
      "Epoch 18/50\n",
      "14/14 [==============================] - ETA: 0s - loss: 0.0605 - categorical_accuracy: 0.9970\n",
      "Epoch 00018: val_loss did not improve from 0.30681\n",
      "14/14 [==============================] - 56s 4s/step - loss: 0.0605 - categorical_accuracy: 0.9970 - val_loss: 0.4339 - val_categorical_accuracy: 0.8800 - lr: 1.0000e-04\n",
      "Epoch 19/50\n",
      "14/14 [==============================] - ETA: 0s - loss: 0.0579 - categorical_accuracy: 0.9985\n",
      "Epoch 00019: val_loss did not improve from 0.30681\n",
      "14/14 [==============================] - 57s 4s/step - loss: 0.0579 - categorical_accuracy: 0.9985 - val_loss: 0.3675 - val_categorical_accuracy: 0.8900 - lr: 1.0000e-04\n",
      "Epoch 20/50\n",
      "14/14 [==============================] - ETA: 0s - loss: 0.0573 - categorical_accuracy: 0.9970\n",
      "Epoch 00020: ReduceLROnPlateau reducing learning rate to 1.0000000474974514e-05.\n",
      "\n",
      "Epoch 00020: val_loss improved from 0.30681 to 0.30674, saving model to models\\model_init_2022-01-0223_11_16.568092\\model-00020-0.05727-0.99698-0.30674-0.89000.h5\n",
      "14/14 [==============================] - 56s 4s/step - loss: 0.0573 - categorical_accuracy: 0.9970 - val_loss: 0.3067 - val_categorical_accuracy: 0.8900 - lr: 1.0000e-04\n",
      "Epoch 21/50\n",
      "14/14 [==============================] - ETA: 0s - loss: 0.0537 - categorical_accuracy: 0.9985\n",
      "Epoch 00021: val_loss improved from 0.30674 to 0.27176, saving model to models\\model_init_2022-01-0223_11_16.568092\\model-00021-0.05367-0.99849-0.27176-0.90000.h5\n",
      "14/14 [==============================] - 55s 4s/step - loss: 0.0537 - categorical_accuracy: 0.9985 - val_loss: 0.2718 - val_categorical_accuracy: 0.9000 - lr: 1.0000e-05\n",
      "Epoch 22/50\n",
      "14/14 [==============================] - ETA: 0s - loss: 0.0524 - categorical_accuracy: 1.0000\n",
      "Epoch 00022: val_loss improved from 0.27176 to 0.25535, saving model to models\\model_init_2022-01-0223_11_16.568092\\model-00022-0.05239-1.00000-0.25535-0.91000.h5\n",
      "14/14 [==============================] - 56s 4s/step - loss: 0.0524 - categorical_accuracy: 1.0000 - val_loss: 0.2553 - val_categorical_accuracy: 0.9100 - lr: 1.0000e-05\n",
      "Epoch 23/50\n",
      "14/14 [==============================] - ETA: 0s - loss: 0.0501 - categorical_accuracy: 1.0000\n",
      "Epoch 00023: val_loss improved from 0.25535 to 0.24731, saving model to models\\model_init_2022-01-0223_11_16.568092\\model-00023-0.05011-1.00000-0.24731-0.93000.h5\n",
      "14/14 [==============================] - 56s 4s/step - loss: 0.0501 - categorical_accuracy: 1.0000 - val_loss: 0.2473 - val_categorical_accuracy: 0.9300 - lr: 1.0000e-05\n",
      "Epoch 24/50\n",
      "14/14 [==============================] - ETA: 0s - loss: 0.0518 - categorical_accuracy: 1.0000\n",
      "Epoch 00024: val_loss improved from 0.24731 to 0.24134, saving model to models\\model_init_2022-01-0223_11_16.568092\\model-00024-0.05177-1.00000-0.24134-0.93000.h5\n",
      "14/14 [==============================] - 56s 4s/step - loss: 0.0518 - categorical_accuracy: 1.0000 - val_loss: 0.2413 - val_categorical_accuracy: 0.9300 - lr: 1.0000e-05\n",
      "Epoch 25/50\n",
      "14/14 [==============================] - ETA: 0s - loss: 0.0514 - categorical_accuracy: 1.0000\n",
      "Epoch 00025: val_loss improved from 0.24134 to 0.23657, saving model to models\\model_init_2022-01-0223_11_16.568092\\model-00025-0.05141-1.00000-0.23657-0.92000.h5\n",
      "14/14 [==============================] - 56s 4s/step - loss: 0.0514 - categorical_accuracy: 1.0000 - val_loss: 0.2366 - val_categorical_accuracy: 0.9200 - lr: 1.0000e-05\n",
      "Epoch 26/50\n",
      "14/14 [==============================] - ETA: 0s - loss: 0.0499 - categorical_accuracy: 0.9985\n",
      "Epoch 00026: val_loss improved from 0.23657 to 0.23293, saving model to models\\model_init_2022-01-0223_11_16.568092\\model-00026-0.04990-0.99849-0.23293-0.92000.h5\n",
      "14/14 [==============================] - 56s 4s/step - loss: 0.0499 - categorical_accuracy: 0.9985 - val_loss: 0.2329 - val_categorical_accuracy: 0.9200 - lr: 1.0000e-05\n",
      "Epoch 27/50\n",
      "14/14 [==============================] - ETA: 0s - loss: 0.0516 - categorical_accuracy: 0.9985\n",
      "Epoch 00027: val_loss improved from 0.23293 to 0.23008, saving model to models\\model_init_2022-01-0223_11_16.568092\\model-00027-0.05165-0.99849-0.23008-0.92000.h5\n",
      "14/14 [==============================] - 56s 4s/step - loss: 0.0516 - categorical_accuracy: 0.9985 - val_loss: 0.2301 - val_categorical_accuracy: 0.9200 - lr: 1.0000e-05\n",
      "Epoch 28/50\n",
      "14/14 [==============================] - ETA: 0s - loss: 0.0519 - categorical_accuracy: 0.9985\n",
      "Epoch 00028: val_loss improved from 0.23008 to 0.22780, saving model to models\\model_init_2022-01-0223_11_16.568092\\model-00028-0.05191-0.99849-0.22780-0.92000.h5\n",
      "14/14 [==============================] - 56s 4s/step - loss: 0.0519 - categorical_accuracy: 0.9985 - val_loss: 0.2278 - val_categorical_accuracy: 0.9200 - lr: 1.0000e-05\n",
      "Epoch 29/50\n",
      "14/14 [==============================] - ETA: 0s - loss: 0.0506 - categorical_accuracy: 0.9985\n",
      "Epoch 00029: val_loss improved from 0.22780 to 0.22594, saving model to models\\model_init_2022-01-0223_11_16.568092\\model-00029-0.05057-0.99849-0.22594-0.92000.h5\n",
      "14/14 [==============================] - 55s 4s/step - loss: 0.0506 - categorical_accuracy: 0.9985 - val_loss: 0.2259 - val_categorical_accuracy: 0.9200 - lr: 1.0000e-05\n",
      "Epoch 30/50\n",
      "14/14 [==============================] - ETA: 0s - loss: 0.0501 - categorical_accuracy: 1.0000\n",
      "Epoch 00030: val_loss improved from 0.22594 to 0.22449, saving model to models\\model_init_2022-01-0223_11_16.568092\\model-00030-0.05014-1.00000-0.22449-0.92000.h5\n",
      "14/14 [==============================] - 56s 4s/step - loss: 0.0501 - categorical_accuracy: 1.0000 - val_loss: 0.2245 - val_categorical_accuracy: 0.9200 - lr: 1.0000e-05\n",
      "Epoch 31/50\n",
      "14/14 [==============================] - ETA: 0s - loss: 0.0519 - categorical_accuracy: 0.9985\n",
      "Epoch 00031: val_loss improved from 0.22449 to 0.22339, saving model to models\\model_init_2022-01-0223_11_16.568092\\model-00031-0.05191-0.99849-0.22339-0.92000.h5\n",
      "14/14 [==============================] - 57s 4s/step - loss: 0.0519 - categorical_accuracy: 0.9985 - val_loss: 0.2234 - val_categorical_accuracy: 0.9200 - lr: 1.0000e-05\n",
      "Epoch 32/50\n",
      "14/14 [==============================] - ETA: 0s - loss: 0.0520 - categorical_accuracy: 0.9985\n",
      "Epoch 00032: val_loss improved from 0.22339 to 0.22233, saving model to models\\model_init_2022-01-0223_11_16.568092\\model-00032-0.05198-0.99849-0.22233-0.92000.h5\n",
      "14/14 [==============================] - 57s 4s/step - loss: 0.0520 - categorical_accuracy: 0.9985 - val_loss: 0.2223 - val_categorical_accuracy: 0.9200 - lr: 1.0000e-05\n",
      "Epoch 33/50\n",
      "14/14 [==============================] - ETA: 0s - loss: 0.0523 - categorical_accuracy: 0.9985\n",
      "Epoch 00033: val_loss improved from 0.22233 to 0.22180, saving model to models\\model_init_2022-01-0223_11_16.568092\\model-00033-0.05234-0.99849-0.22180-0.92000.h5\n",
      "14/14 [==============================] - 56s 4s/step - loss: 0.0523 - categorical_accuracy: 0.9985 - val_loss: 0.2218 - val_categorical_accuracy: 0.9200 - lr: 1.0000e-05\n",
      "Epoch 34/50\n",
      "14/14 [==============================] - ETA: 0s - loss: 0.0497 - categorical_accuracy: 1.0000\n",
      "Epoch 00034: val_loss improved from 0.22180 to 0.22160, saving model to models\\model_init_2022-01-0223_11_16.568092\\model-00034-0.04974-1.00000-0.22160-0.92000.h5\n",
      "14/14 [==============================] - 55s 4s/step - loss: 0.0497 - categorical_accuracy: 1.0000 - val_loss: 0.2216 - val_categorical_accuracy: 0.9200 - lr: 1.0000e-05\n",
      "Epoch 35/50\n",
      "14/14 [==============================] - ETA: 0s - loss: 0.0523 - categorical_accuracy: 0.9985\n",
      "Epoch 00035: val_loss improved from 0.22160 to 0.22097, saving model to models\\model_init_2022-01-0223_11_16.568092\\model-00035-0.05235-0.99849-0.22097-0.92000.h5\n",
      "14/14 [==============================] - 55s 4s/step - loss: 0.0523 - categorical_accuracy: 0.9985 - val_loss: 0.2210 - val_categorical_accuracy: 0.9200 - lr: 1.0000e-05\n",
      "Epoch 36/50\n",
      "14/14 [==============================] - ETA: 0s - loss: 0.0493 - categorical_accuracy: 1.0000\n",
      "Epoch 00036: val_loss improved from 0.22097 to 0.22062, saving model to models\\model_init_2022-01-0223_11_16.568092\\model-00036-0.04931-1.00000-0.22062-0.92000.h5\n",
      "14/14 [==============================] - 55s 4s/step - loss: 0.0493 - categorical_accuracy: 1.0000 - val_loss: 0.2206 - val_categorical_accuracy: 0.9200 - lr: 1.0000e-05\n",
      "Epoch 37/50\n",
      "14/14 [==============================] - ETA: 0s - loss: 0.0496 - categorical_accuracy: 1.0000\n",
      "Epoch 00037: val_loss improved from 0.22062 to 0.22045, saving model to models\\model_init_2022-01-0223_11_16.568092\\model-00037-0.04958-1.00000-0.22045-0.92000.h5\n",
      "14/14 [==============================] - 55s 4s/step - loss: 0.0496 - categorical_accuracy: 1.0000 - val_loss: 0.2204 - val_categorical_accuracy: 0.9200 - lr: 1.0000e-05\n",
      "Epoch 38/50\n",
      "14/14 [==============================] - ETA: 0s - loss: 0.0497 - categorical_accuracy: 0.9985\n",
      "Epoch 00038: val_loss improved from 0.22045 to 0.22013, saving model to models\\model_init_2022-01-0223_11_16.568092\\model-00038-0.04970-0.99849-0.22013-0.92000.h5\n",
      "14/14 [==============================] - 56s 4s/step - loss: 0.0497 - categorical_accuracy: 0.9985 - val_loss: 0.2201 - val_categorical_accuracy: 0.9200 - lr: 1.0000e-05\n",
      "Epoch 39/50\n",
      "14/14 [==============================] - ETA: 0s - loss: 0.0492 - categorical_accuracy: 0.9985\n",
      "Epoch 00039: val_loss improved from 0.22013 to 0.22002, saving model to models\\model_init_2022-01-0223_11_16.568092\\model-00039-0.04917-0.99849-0.22002-0.92000.h5\n",
      "14/14 [==============================] - 56s 4s/step - loss: 0.0492 - categorical_accuracy: 0.9985 - val_loss: 0.2200 - val_categorical_accuracy: 0.9200 - lr: 1.0000e-05\n",
      "Epoch 40/50\n",
      "14/14 [==============================] - ETA: 0s - loss: 0.0505 - categorical_accuracy: 0.9985\n",
      "Epoch 00040: val_loss improved from 0.22002 to 0.21957, saving model to models\\model_init_2022-01-0223_11_16.568092\\model-00040-0.05051-0.99849-0.21957-0.92000.h5\n",
      "14/14 [==============================] - 57s 4s/step - loss: 0.0505 - categorical_accuracy: 0.9985 - val_loss: 0.2196 - val_categorical_accuracy: 0.9200 - lr: 1.0000e-05\n",
      "Epoch 41/50\n",
      "14/14 [==============================] - ETA: 0s - loss: 0.0491 - categorical_accuracy: 0.9985\n",
      "Epoch 00041: val_loss improved from 0.21957 to 0.21888, saving model to models\\model_init_2022-01-0223_11_16.568092\\model-00041-0.04915-0.99849-0.21888-0.92000.h5\n",
      "14/14 [==============================] - 56s 4s/step - loss: 0.0491 - categorical_accuracy: 0.9985 - val_loss: 0.2189 - val_categorical_accuracy: 0.9200 - lr: 1.0000e-05\n",
      "Epoch 42/50\n",
      "14/14 [==============================] - ETA: 0s - loss: 0.0471 - categorical_accuracy: 1.0000\n",
      "Epoch 00042: val_loss improved from 0.21888 to 0.21852, saving model to models\\model_init_2022-01-0223_11_16.568092\\model-00042-0.04713-1.00000-0.21852-0.92000.h5\n",
      "14/14 [==============================] - 56s 4s/step - loss: 0.0471 - categorical_accuracy: 1.0000 - val_loss: 0.2185 - val_categorical_accuracy: 0.9200 - lr: 1.0000e-05\n",
      "Epoch 43/50\n",
      "14/14 [==============================] - ETA: 0s - loss: 0.0493 - categorical_accuracy: 1.0000\n",
      "Epoch 00043: val_loss improved from 0.21852 to 0.21819, saving model to models\\model_init_2022-01-0223_11_16.568092\\model-00043-0.04934-1.00000-0.21819-0.92000.h5\n",
      "14/14 [==============================] - 57s 4s/step - loss: 0.0493 - categorical_accuracy: 1.0000 - val_loss: 0.2182 - val_categorical_accuracy: 0.9200 - lr: 1.0000e-05\n",
      "Epoch 44/50\n",
      "14/14 [==============================] - ETA: 0s - loss: 0.0478 - categorical_accuracy: 0.9985\n",
      "Epoch 00044: val_loss improved from 0.21819 to 0.21784, saving model to models\\model_init_2022-01-0223_11_16.568092\\model-00044-0.04776-0.99849-0.21784-0.92000.h5\n",
      "14/14 [==============================] - 56s 4s/step - loss: 0.0478 - categorical_accuracy: 0.9985 - val_loss: 0.2178 - val_categorical_accuracy: 0.9200 - lr: 1.0000e-05\n",
      "Epoch 45/50\n",
      "14/14 [==============================] - ETA: 0s - loss: 0.0486 - categorical_accuracy: 1.0000\n",
      "Epoch 00045: val_loss did not improve from 0.21784\n",
      "14/14 [==============================] - 55s 4s/step - loss: 0.0486 - categorical_accuracy: 1.0000 - val_loss: 0.2179 - val_categorical_accuracy: 0.9200 - lr: 1.0000e-05\n",
      "Epoch 46/50\n",
      "14/14 [==============================] - ETA: 0s - loss: 0.0499 - categorical_accuracy: 0.9985\n",
      "Epoch 00046: val_loss improved from 0.21784 to 0.21743, saving model to models\\model_init_2022-01-0223_11_16.568092\\model-00046-0.04986-0.99849-0.21743-0.92000.h5\n",
      "14/14 [==============================] - 55s 4s/step - loss: 0.0499 - categorical_accuracy: 0.9985 - val_loss: 0.2174 - val_categorical_accuracy: 0.9200 - lr: 1.0000e-05\n",
      "Epoch 47/50\n",
      "14/14 [==============================] - ETA: 0s - loss: 0.0475 - categorical_accuracy: 0.9985\n",
      "Epoch 00047: val_loss improved from 0.21743 to 0.21677, saving model to models\\model_init_2022-01-0223_11_16.568092\\model-00047-0.04749-0.99849-0.21677-0.92000.h5\n",
      "14/14 [==============================] - 55s 4s/step - loss: 0.0475 - categorical_accuracy: 0.9985 - val_loss: 0.2168 - val_categorical_accuracy: 0.9200 - lr: 1.0000e-05\n",
      "Epoch 48/50\n",
      "14/14 [==============================] - ETA: 0s - loss: 0.0485 - categorical_accuracy: 1.0000\n",
      "Epoch 00048: val_loss improved from 0.21677 to 0.21628, saving model to models\\model_init_2022-01-0223_11_16.568092\\model-00048-0.04850-1.00000-0.21628-0.92000.h5\n",
      "14/14 [==============================] - 55s 4s/step - loss: 0.0485 - categorical_accuracy: 1.0000 - val_loss: 0.2163 - val_categorical_accuracy: 0.9200 - lr: 1.0000e-05\n",
      "Epoch 49/50\n",
      "14/14 [==============================] - ETA: 0s - loss: 0.0485 - categorical_accuracy: 0.9985\n",
      "Epoch 00049: val_loss improved from 0.21628 to 0.21605, saving model to models\\model_init_2022-01-0223_11_16.568092\\model-00049-0.04852-0.99849-0.21605-0.92000.h5\n",
      "14/14 [==============================] - 55s 4s/step - loss: 0.0485 - categorical_accuracy: 0.9985 - val_loss: 0.2160 - val_categorical_accuracy: 0.9200 - lr: 1.0000e-05\n",
      "Epoch 50/50\n",
      "14/14 [==============================] - ETA: 0s - loss: 0.0483 - categorical_accuracy: 0.9985\n",
      "Epoch 00050: val_loss improved from 0.21605 to 0.21593, saving model to models\\model_init_2022-01-0223_11_16.568092\\model-00050-0.04834-0.99849-0.21593-0.92000.h5\n",
      "14/14 [==============================] - 55s 4s/step - loss: 0.0483 - categorical_accuracy: 0.9985 - val_loss: 0.2159 - val_categorical_accuracy: 0.9200 - lr: 1.0000e-05\n"
     ]
    }
   ],
   "source": [
    "rnn_training3.model_training()"
   ]
  },
  {
   "cell_type": "code",
   "execution_count": 126,
   "id": "e3d90e8e-208e-47b1-b526-cd888f39649b",
   "metadata": {},
   "outputs": [
    {
     "data": {
      "image/png": "[encoded data removed]",
      "text/plain": [
       "<Figure size 576x576 with 2 Axes>"
      ]
     },
     "metadata": {
      "needs_background": "light"
     },
     "output_type": "display_data"
    }
   ],
   "source": [
    "rnn_training3.model_analysis()"
   ]
  },
  {
   "cell_type": "markdown",
   "id": "a6164724-2980-4ec1-9b49-57a29c9695ea",
   "metadata": {},
   "source": [
    "---"
   ]
  },
  {
   "cell_type": "markdown",
   "id": "de5b6edd-b6f8-477a-b01c-c4603dc41aa1",
   "metadata": {},
   "source": [
    "## CNN + RNN\n",
    "- continuing with previous model\n",
    "- changing batch size to 200"
   ]
  },
  {
   "cell_type": "code",
   "execution_count": 120,
   "id": "f5a793bb-7db7-48a9-8932-5ac852d6b591",
   "metadata": {
    "tags": []
   },
   "outputs": [],
   "source": [
    "class RNN4(ModelBuilder):\n",
    "    \n",
    "    def model_builder(self):\n",
    "        cnn = Sequential([mnet])\n",
    "        \n",
    "        cnn.add(Conv2D(16,(3,3), padding='same'))\n",
    "        cnn.add(BatchNormalization())\n",
    "        cnn.add(Dropout(0.25))\n",
    "        \n",
    "        cnn.add(Conv2D(32,(3,3), padding='same'))\n",
    "        cnn.add(BatchNormalization())\n",
    "        cnn.add(Dropout(0.25))\n",
    "        \n",
    "        cnn.add(Conv2D(64,(2,2), padding='same'))\n",
    "        cnn.add(BatchNormalization())\n",
    "        cnn.add(Dropout(0.25))\n",
    "        cnn.add(MaxPooling2D((2,2)))\n",
    "        \n",
    "        cnn.add(Flatten())\n",
    "        \n",
    "        model = Sequential()\n",
    "        model.add(TimeDistributed(cnn, input_shape=(img_props.img_selection_len, img_props.img_width,img_props.img_height,img_props.NUM_RGB_CHANNELS)))\n",
    "        model.add(GRU(8, return_sequences=True))\n",
    "        model.add(BatchNormalization())\n",
    "        model.add(Dropout(0.25))\n",
    "        model.add(GRU(16))\n",
    "        model.add(Dense(5,activation='softmax'))\n",
    "        \n",
    "        return model"
   ]
  },
  {
   "cell_type": "code",
   "execution_count": 121,
   "id": "12bd53db-409a-43f7-9545-a7ae3c6c4de1",
   "metadata": {},
   "outputs": [
    {
     "name": "stdout",
     "output_type": "stream",
     "text": [
      "Number of Training Videos: 663\n",
      "Number of Validation Videos: 100\n",
      "Number of Steps (Train): 4\n",
      "Number of Steps (Val): 1\n",
      "Sample Shape: (7, 80, 80, 3)\n"
     ]
    }
   ],
   "source": [
    "rnn4 = RNN4(train_df, val_df, 200)\n",
    "rnn4.num_epochs = 50"
   ]
  },
  {
   "cell_type": "code",
   "execution_count": 122,
   "id": "12aead44-8353-4a09-acdf-c052050ad2a8",
   "metadata": {},
   "outputs": [],
   "source": [
    "rnn_model4 = rnn4.model_compiler()"
   ]
  },
  {
   "cell_type": "code",
   "execution_count": 123,
   "id": "aa91b6e0-b1d2-44f8-8480-889748173f52",
   "metadata": {},
   "outputs": [
    {
     "name": "stdout",
     "output_type": "stream",
     "text": [
      "Model: \"sequential_17\"\n",
      "_________________________________________________________________\n",
      " Layer (type)                Output Shape              Param #   \n",
      "=================================================================\n",
      " time_distributed_8 (TimeDis  (None, 7, 64)            3389680   \n",
      " tributed)                                                       \n",
      "                                                                 \n",
      " gru_16 (GRU)                (None, 7, 8)              1776      \n",
      "                                                                 \n",
      " batch_normalization_19 (Bat  (None, 7, 8)             32        \n",
      " chNormalization)                                                \n",
      "                                                                 \n",
      " dropout_19 (Dropout)        (None, 7, 8)              0         \n",
      "                                                                 \n",
      " gru_17 (GRU)                (None, 16)                1248      \n",
      "                                                                 \n",
      " dense_8 (Dense)             (None, 5)                 85        \n",
      "                                                                 \n",
      "=================================================================\n",
      "Total params: 3,392,821\n",
      "Trainable params: 3,370,693\n",
      "Non-trainable params: 22,128\n",
      "_________________________________________________________________\n"
     ]
    }
   ],
   "source": [
    "rnn_model4.summary()"
   ]
  },
  {
   "cell_type": "code",
   "execution_count": 124,
   "id": "454b37d8-90e5-4fe7-87d9-0a3c894c6207",
   "metadata": {},
   "outputs": [],
   "source": [
    "rnn_training4 = ModelTraining(rnn4, rnn_model4)"
   ]
  },
  {
   "cell_type": "code",
   "execution_count": 125,
   "id": "b27371de-f929-4756-91f2-0e10f504c8ce",
   "metadata": {},
   "outputs": [
    {
     "name": "stdout",
     "output_type": "stream",
     "text": [
      "Source Path: Project_data\\train\n",
      "Number of Videos: 663\n",
      "Batch Size: 200\n",
      "Number of Batches: 3\n",
      "Extra Batch Size (zero means no extra batch): 63\n",
      "Epoch 1/50\n",
      "4/4 [==============================] - ETA: 0s - loss: 1.2379 - categorical_accuracy: 0.6637 Source Path: Project_data\\val\n",
      "Number of Videos: 100\n",
      "Batch Size: 100\n",
      "Number of Batches: 1\n",
      "Extra Batch Size (zero means no extra batch): 0\n",
      "\n",
      "Epoch 00001: val_loss improved from inf to 1.01879, saving model to models\\model_init_2022-01-0223_11_16.568092\\model-00001-1.23794-0.66365-1.01879-0.90000.h5\n",
      "4/4 [==============================] - 96s 24s/step - loss: 1.2379 - categorical_accuracy: 0.6637 - val_loss: 1.0188 - val_categorical_accuracy: 0.9000 - lr: 0.0010\n",
      "Epoch 2/50\n",
      "4/4 [==============================] - ETA: 0s - loss: 0.8508 - categorical_accuracy: 0.9784\n",
      "Epoch 00002: val_loss improved from 1.01879 to 0.98514, saving model to models\\model_init_2022-01-0223_11_16.568092\\model-00002-0.85077-0.97840-0.98514-0.86000.h5\n",
      "4/4 [==============================] - 44s 9s/step - loss: 0.8508 - categorical_accuracy: 0.9784 - val_loss: 0.9851 - val_categorical_accuracy: 0.8600 - lr: 0.0010\n",
      "Epoch 3/50\n",
      "3/4 [=====================>........] - ETA: 7s - loss: 0.7621 - categorical_accuracy: 0.9900 "
     ]
    },
    {
     "ename": "KeyboardInterrupt",
     "evalue": "",
     "output_type": "error",
     "traceback": [
      "\u001b[1;31m--------------------------------------------------\u001b[0m",
      "\u001b[1;31mKeyboardInterrupt\u001b[0mTraceback (most recent call last)",
      "\u001b[1;32m<ipython-input-125-75847be1f193>\u001b[0m in \u001b[0;36m<module>\u001b[1;34m\u001b[0m\n\u001b[1;32m----> 1\u001b[1;33m \u001b[0mrnn_training4\u001b[0m\u001b[1;33m.\u001b[0m\u001b[0mmodel_training\u001b[0m\u001b[1;33m(\u001b[0m\u001b[1;33m)\u001b[0m\u001b[1;33m\u001b[0m\u001b[1;33m\u001b[0m\u001b[0m\n\u001b[0m",
      "\u001b[1;32m<ipython-input-54-9a44a7cb2c04>\u001b[0m in \u001b[0;36mmodel_training\u001b[1;34m(self)\u001b[0m\n\u001b[0;32m      5\u001b[0m \u001b[1;33m\u001b[0m\u001b[0m\n\u001b[0;32m      6\u001b[0m     \u001b[1;32mdef\u001b[0m \u001b[0mmodel_training\u001b[0m\u001b[1;33m(\u001b[0m\u001b[0mself\u001b[0m\u001b[1;33m)\u001b[0m\u001b[1;33m:\u001b[0m\u001b[1;33m\u001b[0m\u001b[1;33m\u001b[0m\u001b[0m\n\u001b[1;32m----> 7\u001b[1;33m         self.history = self.model.fit(\n\u001b[0m\u001b[0;32m      8\u001b[0m             \u001b[0mself\u001b[0m\u001b[1;33m.\u001b[0m\u001b[0mmodel_builder\u001b[0m\u001b[1;33m.\u001b[0m\u001b[0mtrain_generator\u001b[0m\u001b[1;33m,\u001b[0m\u001b[1;33m\u001b[0m\u001b[1;33m\u001b[0m\u001b[0m\n\u001b[0;32m      9\u001b[0m             \u001b[0msteps_per_epoch\u001b[0m\u001b[1;33m=\u001b[0m\u001b[0mself\u001b[0m\u001b[1;33m.\u001b[0m\u001b[0mmodel_builder\u001b[0m\u001b[1;33m.\u001b[0m\u001b[0msteps_per_epoch_train\u001b[0m\u001b[1;33m,\u001b[0m\u001b[1;33m\u001b[0m\u001b[1;33m\u001b[0m\u001b[0m\n",
      "\u001b[1;32m~\\anaconda3\\lib\\site-packages\\keras\\utils\\traceback_utils.py\u001b[0m in \u001b[0;36merror_handler\u001b[1;34m(*args, **kwargs)\u001b[0m\n\u001b[0;32m     62\u001b[0m     \u001b[0mfiltered_tb\u001b[0m \u001b[1;33m=\u001b[0m \u001b[1;32mNone\u001b[0m\u001b[1;33m\u001b[0m\u001b[1;33m\u001b[0m\u001b[0m\n\u001b[0;32m     63\u001b[0m     \u001b[1;32mtry\u001b[0m\u001b[1;33m:\u001b[0m\u001b[1;33m\u001b[0m\u001b[1;33m\u001b[0m\u001b[0m\n\u001b[1;32m---> 64\u001b[1;33m       \u001b[1;32mreturn\u001b[0m \u001b[0mfn\u001b[0m\u001b[1;33m(\u001b[0m\u001b[1;33m*\u001b[0m\u001b[0margs\u001b[0m\u001b[1;33m,\u001b[0m \u001b[1;33m**\u001b[0m\u001b[0mkwargs\u001b[0m\u001b[1;33m)\u001b[0m\u001b[1;33m\u001b[0m\u001b[1;33m\u001b[0m\u001b[0m\n\u001b[0m\u001b[0;32m     65\u001b[0m     \u001b[1;32mexcept\u001b[0m \u001b[0mException\u001b[0m \u001b[1;32mas\u001b[0m \u001b[0me\u001b[0m\u001b[1;33m:\u001b[0m  \u001b[1;31m# pylint: disable=broad-except\u001b[0m\u001b[1;33m\u001b[0m\u001b[1;33m\u001b[0m\u001b[0m\n\u001b[0;32m     66\u001b[0m       \u001b[0mfiltered_tb\u001b[0m \u001b[1;33m=\u001b[0m \u001b[0m_process_traceback_frames\u001b[0m\u001b[1;33m(\u001b[0m\u001b[0me\u001b[0m\u001b[1;33m.\u001b[0m\u001b[0m__traceback__\u001b[0m\u001b[1;33m)\u001b[0m\u001b[1;33m\u001b[0m\u001b[1;33m\u001b[0m\u001b[0m\n",
      "\u001b[1;32m~\\anaconda3\\lib\\site-packages\\keras\\engine\\training.py\u001b[0m in \u001b[0;36mfit\u001b[1;34m(self, x, y, batch_size, epochs, verbose, callbacks, validation_split, validation_data, shuffle, class_weight, sample_weight, initial_epoch, steps_per_epoch, validation_steps, validation_batch_size, validation_freq, max_queue_size, workers, use_multiprocessing)\u001b[0m\n\u001b[0;32m   1214\u001b[0m                 _r=1):\n\u001b[0;32m   1215\u001b[0m               \u001b[0mcallbacks\u001b[0m\u001b[1;33m.\u001b[0m\u001b[0mon_train_batch_begin\u001b[0m\u001b[1;33m(\u001b[0m\u001b[0mstep\u001b[0m\u001b[1;33m)\u001b[0m\u001b[1;33m\u001b[0m\u001b[1;33m\u001b[0m\u001b[0m\n\u001b[1;32m-> 1216\u001b[1;33m               \u001b[0mtmp_logs\u001b[0m \u001b[1;33m=\u001b[0m \u001b[0mself\u001b[0m\u001b[1;33m.\u001b[0m\u001b[0mtrain_function\u001b[0m\u001b[1;33m(\u001b[0m\u001b[0miterator\u001b[0m\u001b[1;33m)\u001b[0m\u001b[1;33m\u001b[0m\u001b[1;33m\u001b[0m\u001b[0m\n\u001b[0m\u001b[0;32m   1217\u001b[0m               \u001b[1;32mif\u001b[0m \u001b[0mdata_handler\u001b[0m\u001b[1;33m.\u001b[0m\u001b[0mshould_sync\u001b[0m\u001b[1;33m:\u001b[0m\u001b[1;33m\u001b[0m\u001b[1;33m\u001b[0m\u001b[0m\n\u001b[0;32m   1218\u001b[0m                 \u001b[0mcontext\u001b[0m\u001b[1;33m.\u001b[0m\u001b[0masync_wait\u001b[0m\u001b[1;33m(\u001b[0m\u001b[1;33m)\u001b[0m\u001b[1;33m\u001b[0m\u001b[1;33m\u001b[0m\u001b[0m\n",
      "\u001b[1;32m~\\anaconda3\\lib\\site-packages\\tensorflow\\python\\util\\traceback_utils.py\u001b[0m in \u001b[0;36merror_handler\u001b[1;34m(*args, **kwargs)\u001b[0m\n\u001b[0;32m    148\u001b[0m     \u001b[0mfiltered_tb\u001b[0m \u001b[1;33m=\u001b[0m \u001b[1;32mNone\u001b[0m\u001b[1;33m\u001b[0m\u001b[1;33m\u001b[0m\u001b[0m\n\u001b[0;32m    149\u001b[0m     \u001b[1;32mtry\u001b[0m\u001b[1;33m:\u001b[0m\u001b[1;33m\u001b[0m\u001b[1;33m\u001b[0m\u001b[0m\n\u001b[1;32m--> 150\u001b[1;33m       \u001b[1;32mreturn\u001b[0m \u001b[0mfn\u001b[0m\u001b[1;33m(\u001b[0m\u001b[1;33m*\u001b[0m\u001b[0margs\u001b[0m\u001b[1;33m,\u001b[0m \u001b[1;33m**\u001b[0m\u001b[0mkwargs\u001b[0m\u001b[1;33m)\u001b[0m\u001b[1;33m\u001b[0m\u001b[1;33m\u001b[0m\u001b[0m\n\u001b[0m\u001b[0;32m    151\u001b[0m     \u001b[1;32mexcept\u001b[0m \u001b[0mException\u001b[0m \u001b[1;32mas\u001b[0m \u001b[0me\u001b[0m\u001b[1;33m:\u001b[0m\u001b[1;33m\u001b[0m\u001b[1;33m\u001b[0m\u001b[0m\n\u001b[0;32m    152\u001b[0m       \u001b[0mfiltered_tb\u001b[0m \u001b[1;33m=\u001b[0m \u001b[0m_process_traceback_frames\u001b[0m\u001b[1;33m(\u001b[0m\u001b[0me\u001b[0m\u001b[1;33m.\u001b[0m\u001b[0m__traceback__\u001b[0m\u001b[1;33m)\u001b[0m\u001b[1;33m\u001b[0m\u001b[1;33m\u001b[0m\u001b[0m\n",
      "\u001b[1;32m~\\anaconda3\\lib\\site-packages\\tensorflow\\python\\eager\\def_function.py\u001b[0m in \u001b[0;36m__call__\u001b[1;34m(self, *args, **kwds)\u001b[0m\n\u001b[0;32m    908\u001b[0m \u001b[1;33m\u001b[0m\u001b[0m\n\u001b[0;32m    909\u001b[0m       \u001b[1;32mwith\u001b[0m \u001b[0mOptionalXlaContext\u001b[0m\u001b[1;33m(\u001b[0m\u001b[0mself\u001b[0m\u001b[1;33m.\u001b[0m\u001b[0m_jit_compile\u001b[0m\u001b[1;33m)\u001b[0m\u001b[1;33m:\u001b[0m\u001b[1;33m\u001b[0m\u001b[1;33m\u001b[0m\u001b[0m\n\u001b[1;32m--> 910\u001b[1;33m         \u001b[0mresult\u001b[0m \u001b[1;33m=\u001b[0m \u001b[0mself\u001b[0m\u001b[1;33m.\u001b[0m\u001b[0m_call\u001b[0m\u001b[1;33m(\u001b[0m\u001b[1;33m*\u001b[0m\u001b[0margs\u001b[0m\u001b[1;33m,\u001b[0m \u001b[1;33m**\u001b[0m\u001b[0mkwds\u001b[0m\u001b[1;33m)\u001b[0m\u001b[1;33m\u001b[0m\u001b[1;33m\u001b[0m\u001b[0m\n\u001b[0m\u001b[0;32m    911\u001b[0m \u001b[1;33m\u001b[0m\u001b[0m\n\u001b[0;32m    912\u001b[0m       \u001b[0mnew_tracing_count\u001b[0m \u001b[1;33m=\u001b[0m \u001b[0mself\u001b[0m\u001b[1;33m.\u001b[0m\u001b[0mexperimental_get_tracing_count\u001b[0m\u001b[1;33m(\u001b[0m\u001b[1;33m)\u001b[0m\u001b[1;33m\u001b[0m\u001b[1;33m\u001b[0m\u001b[0m\n",
      "\u001b[1;32m~\\anaconda3\\lib\\site-packages\\tensorflow\\python\\eager\\def_function.py\u001b[0m in \u001b[0;36m_call\u001b[1;34m(self, *args, **kwds)\u001b[0m\n\u001b[0;32m    940\u001b[0m       \u001b[1;31m# In this case we have created variables on the first call, so we run the\u001b[0m\u001b[1;33m\u001b[0m\u001b[1;33m\u001b[0m\u001b[1;33m\u001b[0m\u001b[0m\n\u001b[0;32m    941\u001b[0m       \u001b[1;31m# defunned version which is guaranteed to never create variables.\u001b[0m\u001b[1;33m\u001b[0m\u001b[1;33m\u001b[0m\u001b[1;33m\u001b[0m\u001b[0m\n\u001b[1;32m--> 942\u001b[1;33m       \u001b[1;32mreturn\u001b[0m \u001b[0mself\u001b[0m\u001b[1;33m.\u001b[0m\u001b[0m_stateless_fn\u001b[0m\u001b[1;33m(\u001b[0m\u001b[1;33m*\u001b[0m\u001b[0margs\u001b[0m\u001b[1;33m,\u001b[0m \u001b[1;33m**\u001b[0m\u001b[0mkwds\u001b[0m\u001b[1;33m)\u001b[0m  \u001b[1;31m# pylint: disable=not-callable\u001b[0m\u001b[1;33m\u001b[0m\u001b[1;33m\u001b[0m\u001b[0m\n\u001b[0m\u001b[0;32m    943\u001b[0m     \u001b[1;32melif\u001b[0m \u001b[0mself\u001b[0m\u001b[1;33m.\u001b[0m\u001b[0m_stateful_fn\u001b[0m \u001b[1;32mis\u001b[0m \u001b[1;32mnot\u001b[0m \u001b[1;32mNone\u001b[0m\u001b[1;33m:\u001b[0m\u001b[1;33m\u001b[0m\u001b[1;33m\u001b[0m\u001b[0m\n\u001b[0;32m    944\u001b[0m       \u001b[1;31m# Release the lock early so that multiple threads can perform the call\u001b[0m\u001b[1;33m\u001b[0m\u001b[1;33m\u001b[0m\u001b[1;33m\u001b[0m\u001b[0m\n",
      "\u001b[1;32m~\\anaconda3\\lib\\site-packages\\tensorflow\\python\\eager\\function.py\u001b[0m in \u001b[0;36m__call__\u001b[1;34m(self, *args, **kwargs)\u001b[0m\n\u001b[0;32m   3128\u001b[0m       (graph_function,\n\u001b[0;32m   3129\u001b[0m        filtered_flat_args) = self._maybe_define_function(args, kwargs)\n\u001b[1;32m-> 3130\u001b[1;33m     return graph_function._call_flat(\n\u001b[0m\u001b[0;32m   3131\u001b[0m         filtered_flat_args, captured_inputs=graph_function.captured_inputs)  # pylint: disable=protected-access\n\u001b[0;32m   3132\u001b[0m \u001b[1;33m\u001b[0m\u001b[0m\n",
      "\u001b[1;32m~\\anaconda3\\lib\\site-packages\\tensorflow\\python\\eager\\function.py\u001b[0m in \u001b[0;36m_call_flat\u001b[1;34m(self, args, captured_inputs, cancellation_manager)\u001b[0m\n\u001b[0;32m   1957\u001b[0m         and executing_eagerly):\n\u001b[0;32m   1958\u001b[0m       \u001b[1;31m# No tape is watching; skip to running the function.\u001b[0m\u001b[1;33m\u001b[0m\u001b[1;33m\u001b[0m\u001b[1;33m\u001b[0m\u001b[0m\n\u001b[1;32m-> 1959\u001b[1;33m       return self._build_call_outputs(self._inference_function.call(\n\u001b[0m\u001b[0;32m   1960\u001b[0m           ctx, args, cancellation_manager=cancellation_manager))\n\u001b[0;32m   1961\u001b[0m     forward_backward = self._select_forward_and_backward_functions(\n",
      "\u001b[1;32m~\\anaconda3\\lib\\site-packages\\tensorflow\\python\\eager\\function.py\u001b[0m in \u001b[0;36mcall\u001b[1;34m(self, ctx, args, cancellation_manager)\u001b[0m\n\u001b[0;32m    596\u001b[0m       \u001b[1;32mwith\u001b[0m \u001b[0m_InterpolateFunctionError\u001b[0m\u001b[1;33m(\u001b[0m\u001b[0mself\u001b[0m\u001b[1;33m)\u001b[0m\u001b[1;33m:\u001b[0m\u001b[1;33m\u001b[0m\u001b[1;33m\u001b[0m\u001b[0m\n\u001b[0;32m    597\u001b[0m         \u001b[1;32mif\u001b[0m \u001b[0mcancellation_manager\u001b[0m \u001b[1;32mis\u001b[0m \u001b[1;32mNone\u001b[0m\u001b[1;33m:\u001b[0m\u001b[1;33m\u001b[0m\u001b[1;33m\u001b[0m\u001b[0m\n\u001b[1;32m--> 598\u001b[1;33m           outputs = execute.execute(\n\u001b[0m\u001b[0;32m    599\u001b[0m               \u001b[0mstr\u001b[0m\u001b[1;33m(\u001b[0m\u001b[0mself\u001b[0m\u001b[1;33m.\u001b[0m\u001b[0msignature\u001b[0m\u001b[1;33m.\u001b[0m\u001b[0mname\u001b[0m\u001b[1;33m)\u001b[0m\u001b[1;33m,\u001b[0m\u001b[1;33m\u001b[0m\u001b[1;33m\u001b[0m\u001b[0m\n\u001b[0;32m    600\u001b[0m               \u001b[0mnum_outputs\u001b[0m\u001b[1;33m=\u001b[0m\u001b[0mself\u001b[0m\u001b[1;33m.\u001b[0m\u001b[0m_num_outputs\u001b[0m\u001b[1;33m,\u001b[0m\u001b[1;33m\u001b[0m\u001b[1;33m\u001b[0m\u001b[0m\n",
      "\u001b[1;32m~\\anaconda3\\lib\\site-packages\\tensorflow\\python\\eager\\execute.py\u001b[0m in \u001b[0;36mquick_execute\u001b[1;34m(op_name, num_outputs, inputs, attrs, ctx, name)\u001b[0m\n\u001b[0;32m     56\u001b[0m   \u001b[1;32mtry\u001b[0m\u001b[1;33m:\u001b[0m\u001b[1;33m\u001b[0m\u001b[1;33m\u001b[0m\u001b[0m\n\u001b[0;32m     57\u001b[0m     \u001b[0mctx\u001b[0m\u001b[1;33m.\u001b[0m\u001b[0mensure_initialized\u001b[0m\u001b[1;33m(\u001b[0m\u001b[1;33m)\u001b[0m\u001b[1;33m\u001b[0m\u001b[1;33m\u001b[0m\u001b[0m\n\u001b[1;32m---> 58\u001b[1;33m     tensors = pywrap_tfe.TFE_Py_Execute(ctx._handle, device_name, op_name,\n\u001b[0m\u001b[0;32m     59\u001b[0m                                         inputs, attrs, num_outputs)\n\u001b[0;32m     60\u001b[0m   \u001b[1;32mexcept\u001b[0m \u001b[0mcore\u001b[0m\u001b[1;33m.\u001b[0m\u001b[0m_NotOkStatusException\u001b[0m \u001b[1;32mas\u001b[0m \u001b[0me\u001b[0m\u001b[1;33m:\u001b[0m\u001b[1;33m\u001b[0m\u001b[1;33m\u001b[0m\u001b[0m\n",
      "\u001b[1;31mKeyboardInterrupt\u001b[0m: "
     ]
    }
   ],
   "source": [
    "rnn_training4.model_training()"
   ]
  },
  {
   "cell_type": "markdown",
   "id": "52f78eda-0ab6-43f5-b2af-76bcebfde8bd",
   "metadata": {},
   "source": [
    "# References"
   ]
  },
  {
   "cell_type": "markdown",
   "id": "012a6c1c-0f0c-47e0-93b9-c4ef8fea0d53",
   "metadata": {},
   "source": [
    "- MobileNet Releases: https://github.com/fchollet/deep-learning-models/releases/tag/v0.6\n",
    "- Different NN Architures for Mobile Compared: https://machinethink.net/blog/mobile-architectures/"
   ]
  },
  {
   "cell_type": "code",
   "execution_count": null,
   "id": "58ee99f7-cbcb-4f3d-a5f8-c96f7e7f7308",
   "metadata": {},
   "outputs": [],
   "source": []
  }
 ],
 "metadata": {
  "kernelspec": {
   "display_name": "Python 3",
   "language": "python",
   "name": "python3"
  },
  "language_info": {
   "codemirror_mode": {
    "name": "ipython",
    "version": 3
   },
   "file_extension": ".py",
   "mimetype": "text/x-python",
   "name": "python",
   "nbconvert_exporter": "python",
   "pygments_lexer": "ipython3",
   "version": "3.8.8"
  }
 },
 "nbformat": 4,
 "nbformat_minor": 5
}
