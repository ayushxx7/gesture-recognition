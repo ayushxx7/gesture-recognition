{
 "cells": [
  {
   "cell_type": "markdown",
   "metadata": {},
   "source": [
    "# Gesture Recognition\n",
    "In this group project, you are going to build a 3D Conv model that will be able to predict the 5 gestures correctly. Please import the following libraries to get started."
   ]
  },
  {
   "cell_type": "code",
   "execution_count": 1,
   "metadata": {},
   "outputs": [],
   "source": [
    "import numpy as np\n",
    "import os\n",
    "# from scipy.misc import imread, imresize\n",
    "import cv2\n",
    "import datetime\n",
    "import os"
   ]
  },
  {
   "cell_type": "markdown",
   "metadata": {},
   "source": [
    "We set the random seed so that the results don't vary drastically."
   ]
  },
  {
   "cell_type": "code",
   "execution_count": 2,
   "metadata": {},
   "outputs": [],
   "source": [
    "np.random.seed(30)\n",
    "import random as rn\n",
    "rn.seed(30)\n",
    "from keras import backend as K\n",
    "import tensorflow as tf\n",
    "\n",
    "tf.random.set_seed(30)"
   ]
  },
  {
   "cell_type": "markdown",
   "metadata": {},
   "source": [
    "In this block, you read the folder names for training and validation. You also set the `batch_size` here. Note that you set the batch size in such a way that you are able to use the GPU in full capacity. You keep increasing the batch size until the machine throws an error."
   ]
  },
  {
   "cell_type": "code",
   "execution_count": 3,
   "metadata": {},
   "outputs": [],
   "source": [
    "train_doc = np.random.permutation(open('Project_data/train.csv').readlines())\n",
    "val_doc = np.random.permutation(open('Project_data/val.csv').readlines())\n",
    "batch_size = 25\n",
    "\n",
    "#batch_size = 8 -> overfit -> memory efficient -> slow training\n",
    "#batch_sie= 32/16 \n",
    "#batch_size = 512 -> underfit -> need more memory -> fast training"
   ]
  },
  {
   "cell_type": "markdown",
   "metadata": {},
   "source": [
    "## Generator\n",
    "This is one of the most important part of the code. The overall structure of the generator has been given. In the generator, you are going to preprocess the images as you have images of 2 different dimensions as well as create a batch of video frames. You have to experiment with `img_idx`, `y`,`z` and normalization such that you get high accuracy."
   ]
  },
  {
   "cell_type": "raw",
   "metadata": {},
   "source": [
    "1) Batch size\n",
    "2) num of frames\n",
    "3) crop and resize\n",
    "4) normalisation\n",
    "5) handles extra samples (yield one extra batch with lessed samples)"
   ]
  },
  {
   "cell_type": "code",
   "execution_count": 4,
   "metadata": {},
   "outputs": [],
   "source": [
    "img = cv2.imread(\"Project_data/train/WIN_20180907_15_35_09_Pro_Right Swipe_new/WIN_20180907_15_35_09_Pro_00012.png\")"
   ]
  },
  {
   "cell_type": "code",
   "execution_count": 5,
   "metadata": {},
   "outputs": [],
   "source": [
    "import matplotlib.pyplot as plt"
   ]
  },
  {
   "cell_type": "code",
   "execution_count": 6,
   "metadata": {},
   "outputs": [
    {
     "data": {
      "text/plain": [
       "<matplotlib.image.AxesImage at 0x1b218065520>"
      ]
     },
     "execution_count": 6,
     "metadata": {},
     "output_type": "execute_result"
    }
   ],
   "source": [
    "plt.imshow(cv2.cvtColor(img, cv2.COLOR_BGR2RGB))"
   ]
  },
  {
   "cell_type": "code",
   "execution_count": 7,
   "metadata": {},
   "outputs": [],
   "source": [
    "r_img = cv2.resize(img, (100,100))"
   ]
  },
  {
   "cell_type": "code",
   "execution_count": 8,
   "metadata": {},
   "outputs": [
    {
     "data": {
      "text/plain": [
       "<matplotlib.image.AxesImage at 0x1b2180658b0>"
      ]
     },
     "execution_count": 8,
     "metadata": {},
     "output_type": "execute_result"
    }
   ],
   "source": [
    "plt.imshow(cv2.cvtColor(r_img, cv2.COLOR_BGR2RGB))"
   ]
  },
  {
   "cell_type": "code",
   "execution_count": 9,
   "metadata": {},
   "outputs": [
    {
     "data": {
      "text/plain": [
       "array([[106, 113, 108, ..., 127, 121, 120],\n",
       "       [111, 116, 114, ..., 127, 120, 118],\n",
       "       [117, 126, 124, ..., 121, 117, 119],\n",
       "       ...,\n",
       "       [104,  58,  38, ...,  49,  51,  53],\n",
       "       [ 57,  35,  26, ...,  47,  49,  52],\n",
       "       [ 16,  15,  18, ...,  45,  50,  53]], dtype=uint8)"
      ]
     },
     "execution_count": 9,
     "metadata": {},
     "output_type": "execute_result"
    }
   ],
   "source": [
    "r_img[:,:,0]"
   ]
  },
  {
   "cell_type": "code",
   "execution_count": 10,
   "metadata": {},
   "outputs": [
    {
     "data": {
      "text/plain": [
       "(100, 100, 3)"
      ]
     },
     "execution_count": 10,
     "metadata": {},
     "output_type": "execute_result"
    }
   ],
   "source": [
    "r_img.shape"
   ]
  },
  {
   "cell_type": "code",
   "execution_count": 11,
   "metadata": {},
   "outputs": [],
   "source": [
    "#r_img"
   ]
  },
  {
   "cell_type": "code",
   "execution_count": 12,
   "metadata": {},
   "outputs": [],
   "source": [
    "c_img = r_img[10:90, 10:90, :]"
   ]
  },
  {
   "cell_type": "code",
   "execution_count": 13,
   "metadata": {},
   "outputs": [
    {
     "data": {
      "text/plain": [
       "<matplotlib.image.AxesImage at 0x1b20a0d97c0>"
      ]
     },
     "execution_count": 13,
     "metadata": {},
     "output_type": "execute_result"
    }
   ],
   "source": [
    "plt.imshow(cv2.cvtColor(c_img, cv2.COLOR_BGR2RGB))"
   ]
  },
  {
   "cell_type": "code",
   "execution_count": 14,
   "metadata": {},
   "outputs": [
    {
     "data": {
      "text/plain": [
       "(80, 80, 3)"
      ]
     },
     "execution_count": 14,
     "metadata": {},
     "output_type": "execute_result"
    }
   ],
   "source": [
    "c_img.shape"
   ]
  },
  {
   "cell_type": "code",
   "execution_count": 15,
   "metadata": {},
   "outputs": [],
   "source": [
    "def generator(source_path, folder_list, batch_size):\n",
    "    print( 'Source path = ', source_path, '; batch size =', batch_size)\n",
    "    img_idx = [3,6,9,12,15,18,21] #create a list of image numbers you want to use for a particular video\n",
    "    while True:\n",
    "        t = np.random.permutation(folder_list)\n",
    "        num_batches = len(folder_list)//batch_size\n",
    "        for batch in range(num_batches):\n",
    "            print(\"\\nBATCH::\", batch)\n",
    "            batch_data = np.zeros((batch_size,len(img_idx),80,80,3))\n",
    "            batch_labels = np.zeros((batch_size,5))\n",
    "            for folder in range(batch_size):\n",
    "                imgs = os.listdir(source_path+'/'+ t[folder + (batch*batch_size)].split(';')[0])\n",
    "                for idx,item in enumerate(img_idx):\n",
    "                    image = cv2.imread(source_path+'/'+ t[folder + (batch*batch_size)].strip().split(';')[0]+'/'+imgs[item]).astype(np.float32)\n",
    "                    \n",
    "                    # crop & resize to 60x60\n",
    "                    \n",
    "                    resized_image = cv2.resize(img, (100,100))\n",
    "                    cropped_image = resized_image[10:90, 10:90, :]\n",
    "                    \n",
    "                    batch_data[folder,idx,:,:,0] = cropped_image[:,:,0]/float(255)\n",
    "                    batch_data[folder,idx,:,:,1] = cropped_image[:,:,1]/float(255)\n",
    "                    batch_data[folder,idx,:,:,2] = cropped_image[:,:,2]/float(255)\n",
    "                    \n",
    "                batch_labels[folder, int(t[folder + (batch*batch_size)].strip().split(';')[2])] = 1\n",
    "            yield batch_data, batch_labels\n",
    "\n",
    "        if len(folder_list)%batch_size != 0:\n",
    "            last_batch_size = len(folder_list)%batch_size\n",
    "            batch_data = np.zeros((last_batch_size,len(img_idx),80,80,3))\n",
    "            batch_labels = np.zeros((last_batch_size,5))\n",
    "            batch_index = num_batches+1\n",
    "            print(\"\\nBATCH INDEX::\", batch_index)\n",
    "            for folder in range(last_batch_size):\n",
    "                imgs = os.listdir(source_path+'/'+ t[folder + (batch_index*batch_size)].split(';')[0])\n",
    "                for idx,item in enumerate(img_idx):\n",
    "                    image = imread(source_path+'/'+ t[folder + (batch_index*batch_size)].strip().split(';')[0]+'/'+imgs[item]).astype(np.float32)\n",
    "                    \n",
    "                    # crop & resize to 60x60\n",
    "                    \n",
    "                    resized_image = cv2.resize(img, (100,100))\n",
    "                    cropped_image = resized_image[10:90, 10:90, :]\n",
    "                    \n",
    "                    batch_data[folder,idx,:,:,0] = cropped_image[:,:,0]/float(255)\n",
    "                    batch_data[folder,idx,:,:,1] = cropped_image[:,:,1]/float(255)\n",
    "                    batch_data[folder,idx,:,:,2] = cropped_image[:,:,2]/float(255)\n",
    "                    \n",
    "                batch_labels[folder, int(t[folder + (batch_index*batch_size)].strip().split(';')[2])] = 1\n",
    "            yield batch_data, batch_labels"
   ]
  },
  {
   "cell_type": "markdown",
   "metadata": {},
   "source": [
    "Note here that a video is represented above in the generator as (number of images, height, width, number of channels). Take this into consideration while creating the model architecture."
   ]
  },
  {
   "cell_type": "code",
   "execution_count": 16,
   "metadata": {},
   "outputs": [
    {
     "name": "stdout",
     "output_type": "stream",
     "text": [
      "# training sequences = 663\n",
      "# validation sequences = 100\n",
      "# epochs = 1\n",
      "# num classes= 5\n"
     ]
    }
   ],
   "source": [
    "curr_dt_time = datetime.datetime.now()\n",
    "train_path = 'Project_data/train'\n",
    "val_path = 'Project_data/val'\n",
    "num_train_sequences = len(train_doc)\n",
    "print('# training sequences =', num_train_sequences)\n",
    "num_val_sequences = len(val_doc)\n",
    "print('# validation sequences =', num_val_sequences)\n",
    "num_epochs = 1\n",
    "print ('# epochs =', num_epochs)\n",
    "num_classes=5\n",
    "print('# num classes=', num_classes)"
   ]
  },
  {
   "cell_type": "markdown",
   "metadata": {},
   "source": [
    "## Model\n",
    "Here you make the model using different functionalities that Keras provides. Remember to use `Conv3D` and `MaxPooling3D` and not `Conv2D` and `Maxpooling2D` for a 3D convolution model. You would want to use `TimeDistributed` while building a Conv2D + RNN model. Also remember that the last layer is the softmax. Design the network in such a way that the model is able to give good accuracy on the least number of parameters so that it can fit in the memory of the webcam."
   ]
  },
  {
   "cell_type": "code",
   "execution_count": 17,
   "metadata": {},
   "outputs": [],
   "source": [
    "from keras.models import Sequential, Model\n",
    "from keras.layers import Dense, GRU, Flatten, TimeDistributed, Flatten, BatchNormalization, Activation, Dropout\n",
    "from keras.layers.convolutional import Conv3D, MaxPooling3D\n",
    "from keras.callbacks import ModelCheckpoint, ReduceLROnPlateau\n",
    "from keras import optimizers\n",
    "\n",
    "# model = Sequential()\n",
    "# model.add(Conv3D(32, (3, 3, 3), padding='same', input_shape=(7, 80, 80, 3)))\n",
    "# model.add(Activation('relu'))\n",
    "# model.add(BatchNormalization())\n",
    "# model.add(Conv3D(64, (3, 3, 3)))\n",
    "# model.add(Activation('relu'))\n",
    "# model.add(BatchNormalization())\n",
    "# model.add(MaxPooling3D(pool_size=(2, 2, 2)))\n",
    "# model.add(Dropout(0.25))\n",
    "# \n",
    "# model.add(Flatten())\n",
    "# model.add(Dense(128))\n",
    "# model.add(Activation('relu'))\n",
    "# model.add(Dropout(0.5))\n",
    "# \n",
    "# model.add(Dense(num_classes))\n",
    "# model.add(Activation('softmax'))\n",
    "\n",
    "sample_shape = (7, 80, 80, 3)\n",
    "\n",
    "model = Sequential()\n",
    "model.add(Conv3D(32, kernel_size=(3, 3, 3), activation='relu', kernel_initializer='he_uniform', input_shape=sample_shape))\n",
    "model.add(MaxPooling3D(pool_size=(2, 2, 2)))\n",
    "model.add(BatchNormalization(center=True, scale=True))\n",
    "model.add(Dropout(0.5))\n",
    "#model.add(Conv3D(64, kernel_size=(3, 3, 3), activation='relu', kernel_initializer='he_uniform'))\n",
    "#model.add(MaxPooling3D(pool_size=(2, 2, 2)))\n",
    "#model.add(BatchNormalization(center=True, scale=True))\n",
    "#model.add(Dropout(0.5))\n",
    "model.add(Flatten())\n",
    "model.add(Dense(256, activation='relu', kernel_initializer='he_uniform'))\n",
    "model.add(Dense(256, activation='relu', kernel_initializer='he_uniform'))\n",
    "model.add(Dense(5, activation='softmax'))"
   ]
  },
  {
   "cell_type": "markdown",
   "metadata": {},
   "source": [
    "Now that you have written the model, the next step is to `compile` the model. When you print the `summary` of the model, you'll see the total number of parameters you have to train."
   ]
  },
  {
   "cell_type": "code",
   "execution_count": 18,
   "metadata": {
    "scrolled": true
   },
   "outputs": [
    {
     "name": "stdout",
     "output_type": "stream",
     "text": [
      "Model: \"sequential\"\n",
      "_________________________________________________________________\n",
      " Layer (type)                Output Shape              Param #   \n",
      "=================================================================\n",
      " conv3d (Conv3D)             (None, 5, 78, 78, 32)     2624      \n",
      "                                                                 \n",
      " max_pooling3d (MaxPooling3D  (None, 2, 39, 39, 32)    0         \n",
      " )                                                               \n",
      "                                                                 \n",
      " batch_normalization (BatchN  (None, 2, 39, 39, 32)    128       \n",
      " ormalization)                                                   \n",
      "                                                                 \n",
      " dropout (Dropout)           (None, 2, 39, 39, 32)     0         \n",
      "                                                                 \n",
      " flatten (Flatten)           (None, 97344)             0         \n",
      "                                                                 \n",
      " dense (Dense)               (None, 256)               24920320  \n",
      "                                                                 \n",
      " dense_1 (Dense)             (None, 256)               65792     \n",
      "                                                                 \n",
      " dense_2 (Dense)             (None, 5)                 1285      \n",
      "                                                                 \n",
      "=================================================================\n",
      "Total params: 24,990,149\n",
      "Trainable params: 24,990,085\n",
      "Non-trainable params: 64\n",
      "_________________________________________________________________\n",
      "None\n"
     ]
    }
   ],
   "source": [
    "optimiser = 'adam'\n",
    "model.compile(optimizer=optimiser, loss='categorical_crossentropy', metrics=['categorical_accuracy'])\n",
    "print (model.summary())"
   ]
  },
  {
   "cell_type": "markdown",
   "metadata": {},
   "source": [
    "Let us create the `train_generator` and the `val_generator` which will be used in `.fit_generator`."
   ]
  },
  {
   "cell_type": "code",
   "execution_count": 19,
   "metadata": {},
   "outputs": [],
   "source": [
    "train_generator = generator(train_path, train_doc[0:100], batch_size)\n",
    "val_generator = generator(val_path, val_doc[0:100], batch_size)"
   ]
  },
  {
   "cell_type": "code",
   "execution_count": 20,
   "metadata": {},
   "outputs": [],
   "source": [
    "model_name = 'model_init' + '_' + str(curr_dt_time).replace(' ','').replace(':','_') + '/'\n",
    "    \n",
    "if not os.path.exists(model_name):\n",
    "    os.mkdir(model_name)\n",
    "        \n",
    "#filepath = model_name + 'model-{epoch:05d}-{loss:.5f}-{categorical_accuracy:.5f}-{val_loss:.5f}-{val_categorical_accuracy:.5f}.h5'\n",
    "filepath = model_name\n",
    "checkpoint = ModelCheckpoint(filepath, monitor='val_loss', verbose=1, save_best_only=False, save_weights_only=False, mode='auto', save_freq=1)\n",
    "\n",
    "LR = ReduceLROnPlateau(\n",
    "    monitor=\"val_loss\",\n",
    "    factor=0.1,\n",
    "    patience=5,\n",
    "    verbose=0,\n",
    "    mode=\"auto\",\n",
    "    min_delta=0.0001,\n",
    "    cooldown=0,\n",
    "    min_lr=0,\n",
    ")\n",
    "callbacks_list = [checkpoint, LR]"
   ]
  },
  {
   "cell_type": "markdown",
   "metadata": {},
   "source": [
    "The `steps_per_epoch` and `validation_steps` are used by `fit_generator` to decide the number of next() calls it need to make."
   ]
  },
  {
   "cell_type": "code",
   "execution_count": 21,
   "metadata": {},
   "outputs": [],
   "source": [
    "if (num_train_sequences%batch_size) == 0:\n",
    "    steps_per_epoch = int(num_train_sequences/batch_size)\n",
    "else:\n",
    "    steps_per_epoch = (num_train_sequences//batch_size) + 1\n",
    "\n",
    "if (num_val_sequences%batch_size) == 0:\n",
    "    validation_steps = int(num_val_sequences/batch_size)\n",
    "else:\n",
    "    validation_steps = (num_val_sequences//batch_size) + 1"
   ]
  },
  {
   "cell_type": "markdown",
   "metadata": {},
   "source": [
    "Let us now fit the model. This will start training the model and with the help of the checkpoints, you'll be able to save the model at the end of each epoch."
   ]
  },
  {
   "cell_type": "code",
   "execution_count": null,
   "metadata": {
    "tags": []
   },
   "outputs": [
    {
     "name": "stdout",
     "output_type": "stream",
     "text": [
      "Source path =  Project_data/train ; batch size = 25\n",
      "\n",
      "BATCH:: 0\n",
      "\n",
      "BATCH:: 1\n",
      "\n",
      "Epoch 00001: saving model to model_init_2021-12-2222_19_07.403573\\\n",
      "INFO:tensorflow:Assets written to: model_init_2021-12-2222_19_07.403573\\assets\n",
      "\n",
      "      1/Unknown - 7s 7s/step - loss: 2.1794 - categorical_accuracy: 0.2400\n",
      "BATCH:: 2\n",
      "\n",
      "Epoch 00001: saving model to model_init_2021-12-2222_19_07.403573\\\n",
      "INFO:tensorflow:Assets written to: model_init_2021-12-2222_19_07.403573\\assets\n",
      "\n",
      "      2/Unknown - 12s 6s/step - loss: 54.1782 - categorical_accuracy: 0.2400\n",
      "BATCH:: 3\n",
      "\n",
      "Epoch 00001: saving model to model_init_2021-12-2222_19_07.403573\\\n",
      "INFO:tensorflow:Assets written to: model_init_2021-12-2222_19_07.403573\\assets\n",
      "\n",
      "      3/Unknown - 18s 6s/step - loss: 65.8055 - categorical_accuracy: 0.2400\n",
      "BATCH:: 0\n",
      "\n",
      "Epoch 00001: saving model to model_init_2021-12-2222_19_07.403573\\\n",
      "INFO:tensorflow:Assets written to: model_init_2021-12-2222_19_07.403573\\assets\n",
      "\n",
      "      4/Unknown - 25s 6s/step - loss: 59.4612 - categorical_accuracy: 0.2400\n",
      "BATCH:: 1\n",
      "\n",
      "Epoch 00001: saving model to model_init_2021-12-2222_19_07.403573\\\n",
      "INFO:tensorflow:Assets written to: model_init_2021-12-2222_19_07.403573\\assets\n",
      "\n",
      "      5/Unknown - 31s 6s/step - loss: 53.1545 - categorical_accuracy: 0.2400\n",
      "BATCH:: 2\n",
      "\n",
      "Epoch 00001: saving model to model_init_2021-12-2222_19_07.403573\\\n",
      "INFO:tensorflow:Assets written to: model_init_2021-12-2222_19_07.403573\\assets\n",
      "\n",
      "      6/Unknown - 38s 6s/step - loss: 58.8304 - categorical_accuracy: 0.2400\n",
      "BATCH:: 3\n",
      "\n",
      "Epoch 00001: saving model to model_init_2021-12-2222_19_07.403573\\\n",
      "INFO:tensorflow:Assets written to: model_init_2021-12-2222_19_07.403573\\assets\n",
      "\n",
      "      7/Unknown - 46s 7s/step - loss: 60.7384 - categorical_accuracy: 0.2343\n",
      "BATCH:: 0\n",
      "\n",
      "Epoch 00001: saving model to model_init_2021-12-2222_19_07.403573\\\n",
      "INFO:tensorflow:Assets written to: model_init_2021-12-2222_19_07.403573\\assets\n",
      "\n",
      "      8/Unknown - 52s 7s/step - loss: 57.6418 - categorical_accuracy: 0.2300\n",
      "BATCH:: 1\n",
      "\n",
      "Epoch 00001: saving model to model_init_2021-12-2222_19_07.403573\\\n",
      "INFO:tensorflow:Assets written to: model_init_2021-12-2222_19_07.403573\\assets\n",
      "\n",
      "      9/Unknown - 59s 7s/step - loss: 53.0581 - categorical_accuracy: 0.2444\n",
      "BATCH:: 2\n",
      "\n",
      "Epoch 00001: saving model to model_init_2021-12-2222_19_07.403573\\\n",
      "INFO:tensorflow:Assets written to: model_init_2021-12-2222_19_07.403573\\assets\n",
      "\n",
      "     10/Unknown - 65s 7s/step - loss: 50.2717 - categorical_accuracy: 0.2480\n",
      "BATCH:: 3\n",
      "\n",
      "Epoch 00001: saving model to model_init_2021-12-2222_19_07.403573\\\n",
      "INFO:tensorflow:Assets written to: model_init_2021-12-2222_19_07.403573\\assets\n",
      "\n",
      "     11/Unknown - 72s 7s/step - loss: 48.3443 - categorical_accuracy: 0.2436\n",
      "BATCH:: 0\n",
      "\n",
      "Epoch 00001: saving model to model_init_2021-12-2222_19_07.403573\\\n",
      "INFO:tensorflow:Assets written to: model_init_2021-12-2222_19_07.403573\\assets\n",
      "\n",
      "     12/Unknown - 78s 6s/step - loss: 46.5687 - categorical_accuracy: 0.2333\n",
      "BATCH:: 1\n",
      "\n",
      "Epoch 00001: saving model to model_init_2021-12-2222_19_07.403573\\\n",
      "INFO:tensorflow:Assets written to: model_init_2021-12-2222_19_07.403573\\assets\n",
      "\n",
      "     13/Unknown - 84s 6s/step - loss: 44.2342 - categorical_accuracy: 0.2308\n",
      "BATCH:: 2\n",
      "\n",
      "Epoch 00001: saving model to model_init_2021-12-2222_19_07.403573\\\n",
      "INFO:tensorflow:Assets written to: model_init_2021-12-2222_19_07.403573\\assets\n",
      "\n",
      "     14/Unknown - 91s 6s/step - loss: 42.0976 - categorical_accuracy: 0.2143\n",
      "BATCH:: 3\n",
      "\n",
      "Epoch 00001: saving model to model_init_2021-12-2222_19_07.403573\\\n",
      "INFO:tensorflow:Assets written to: model_init_2021-12-2222_19_07.403573\\assets\n",
      "\n",
      "     15/Unknown - 97s 6s/step - loss: 40.2655 - categorical_accuracy: 0.2187\n",
      "BATCH:: 0\n",
      "\n",
      "Epoch 00001: saving model to model_init_2021-12-2222_19_07.403573\\\n",
      "INFO:tensorflow:Assets written to: model_init_2021-12-2222_19_07.403573\\assets\n",
      "\n",
      "     16/Unknown - 104s 6s/step - loss: 38.5091 - categorical_accuracy: 0.2125\n",
      "BATCH:: 1\n",
      "\n",
      "Epoch 00001: saving model to model_init_2021-12-2222_19_07.403573\\\n",
      "INFO:tensorflow:Assets written to: model_init_2021-12-2222_19_07.403573\\assets\n",
      "\n",
      "     17/Unknown - 111s 7s/step - loss: 37.1041 - categorical_accuracy: 0.2165\n",
      "BATCH:: 2\n",
      "\n",
      "Epoch 00001: saving model to model_init_2021-12-2222_19_07.403573\\\n",
      "INFO:tensorflow:Assets written to: model_init_2021-12-2222_19_07.403573\\assets\n",
      "\n",
      "     18/Unknown - 117s 6s/step - loss: 35.7322 - categorical_accuracy: 0.2200\n",
      "BATCH:: 3\n",
      "\n",
      "Epoch 00001: saving model to model_init_2021-12-2222_19_07.403573\\\n",
      "INFO:tensorflow:Assets written to: model_init_2021-12-2222_19_07.403573\\assets\n",
      "\n",
      "     19/Unknown - 124s 7s/step - loss: 34.5229 - categorical_accuracy: 0.2126\n",
      "BATCH:: 0\n",
      "\n",
      "Epoch 00001: saving model to model_init_2021-12-2222_19_07.403573\\\n",
      "INFO:tensorflow:Assets written to: model_init_2021-12-2222_19_07.403573\\assets\n",
      "\n",
      "     20/Unknown - 130s 6s/step - loss: 33.1227 - categorical_accuracy: 0.2180\n",
      "BATCH:: 1\n",
      "\n",
      "Epoch 00001: saving model to model_init_2021-12-2222_19_07.403573\\\n",
      "INFO:tensorflow:Assets written to: model_init_2021-12-2222_19_07.403573\\assets\n",
      "\n",
      "     21/Unknown - 136s 6s/step - loss: 31.9711 - categorical_accuracy: 0.2229\n",
      "BATCH:: 2\n",
      "\n",
      "Epoch 00001: saving model to model_init_2021-12-2222_19_07.403573\\\n",
      "INFO:tensorflow:Assets written to: model_init_2021-12-2222_19_07.403573\\assets\n",
      "\n",
      "     22/Unknown - 143s 7s/step - loss: 30.9014 - categorical_accuracy: 0.2236\n",
      "BATCH:: 3\n",
      "\n",
      "Epoch 00001: saving model to model_init_2021-12-2222_19_07.403573\\\n",
      "INFO:tensorflow:Assets written to: model_init_2021-12-2222_19_07.403573\\assets\n",
      "\n",
      "     23/Unknown - 150s 7s/step - loss: 29.8214 - categorical_accuracy: 0.2261\n",
      "BATCH:: 0\n",
      "\n",
      "Epoch 00001: saving model to model_init_2021-12-2222_19_07.403573\\\n",
      "INFO:tensorflow:Assets written to: model_init_2021-12-2222_19_07.403573\\assets\n",
      "\n",
      "     24/Unknown - 156s 6s/step - loss: 28.9373 - categorical_accuracy: 0.2217\n",
      "BATCH:: 1\n",
      "\n",
      "Epoch 00001: saving model to model_init_2021-12-2222_19_07.403573\\\n",
      "INFO:tensorflow:Assets written to: model_init_2021-12-2222_19_07.403573\\assets\n",
      "\n",
      "     25/Unknown - 162s 6s/step - loss: 28.0875 - categorical_accuracy: 0.2192\n",
      "BATCH:: 2\n",
      "\n",
      "Epoch 00001: saving model to model_init_2021-12-2222_19_07.403573\\\n",
      "INFO:tensorflow:Assets written to: model_init_2021-12-2222_19_07.403573\\assets\n",
      "\n",
      "     26/Unknown - 168s 6s/step - loss: 27.2429 - categorical_accuracy: 0.2154\n",
      "BATCH:: 3\n",
      "\n",
      "Epoch 00001: saving model to model_init_2021-12-2222_19_07.403573\\\n",
      "INFO:tensorflow:Assets written to: model_init_2021-12-2222_19_07.403573\\assets\n",
      "\n",
      "     27/Unknown - 175s 6s/step - loss: 26.4647 - categorical_accuracy: 0.2119\n",
      "BATCH:: 0\n",
      "\n",
      "Epoch 00001: saving model to model_init_2021-12-2222_19_07.403573\\\n",
      "INFO:tensorflow:Assets written to: model_init_2021-12-2222_19_07.403573\\assets\n",
      "\n",
      "     28/Unknown - 182s 6s/step - loss: 25.6834 - categorical_accuracy: 0.2100\n",
      "BATCH:: 1\n",
      "\n",
      "Epoch 00001: saving model to model_init_2021-12-2222_19_07.403573\\\n",
      "INFO:tensorflow:Assets written to: model_init_2021-12-2222_19_07.403573\\assets\n",
      "\n",
      "     29/Unknown - 188s 6s/step - loss: 24.9310 - categorical_accuracy: 0.2124\n",
      "BATCH:: 2\n",
      "\n",
      "Epoch 00001: saving model to model_init_2021-12-2222_19_07.403573\\\n",
      "INFO:tensorflow:Assets written to: model_init_2021-12-2222_19_07.403573\\assets\n",
      "\n",
      "     30/Unknown - 194s 6s/step - loss: 24.2623 - categorical_accuracy: 0.2107\n",
      "BATCH:: 3\n",
      "\n",
      "Epoch 00001: saving model to model_init_2021-12-2222_19_07.403573\\\n",
      "INFO:tensorflow:Assets written to: model_init_2021-12-2222_19_07.403573\\assets\n",
      "\n",
      "     31/Unknown - 200s 6s/step - loss: 23.6627 - categorical_accuracy: 0.2065\n",
      "BATCH:: 0\n",
      "\n",
      "Epoch 00001: saving model to model_init_2021-12-2222_19_07.403573\\\n",
      "INFO:tensorflow:Assets written to: model_init_2021-12-2222_19_07.403573\\assets\n",
      "\n",
      "     32/Unknown - 206s 6s/step - loss: 23.0475 - categorical_accuracy: 0.2075\n",
      "BATCH:: 1\n",
      "\n",
      "Epoch 00001: saving model to model_init_2021-12-2222_19_07.403573\\\n",
      "INFO:tensorflow:Assets written to: model_init_2021-12-2222_19_07.403573\\assets\n",
      "\n",
      "     33/Unknown - 213s 6s/step - loss: 22.4028 - categorical_accuracy: 0.2073\n",
      "BATCH:: 2\n",
      "\n",
      "Epoch 00001: saving model to model_init_2021-12-2222_19_07.403573\\\n",
      "INFO:tensorflow:Assets written to: model_init_2021-12-2222_19_07.403573\\assets\n",
      "\n",
      "     34/Unknown - 219s 6s/step - loss: 21.8125 - categorical_accuracy: 0.2059\n",
      "BATCH:: 3\n",
      "\n",
      "Epoch 00001: saving model to model_init_2021-12-2222_19_07.403573\\\n",
      "INFO:tensorflow:Assets written to: model_init_2021-12-2222_19_07.403573\\assets\n",
      "\n",
      "     35/Unknown - 225s 6s/step - loss: 21.2799 - categorical_accuracy: 0.2046\n",
      "BATCH:: 0\n",
      "\n",
      "Epoch 00001: saving model to model_init_2021-12-2222_19_07.403573\\\n",
      "INFO:tensorflow:Assets written to: model_init_2021-12-2222_19_07.403573\\assets\n",
      "\n",
      "     36/Unknown - 231s 6s/step - loss: 20.7858 - categorical_accuracy: 0.2067\n",
      "BATCH:: 1\n",
      "\n",
      "Epoch 00001: saving model to model_init_2021-12-2222_19_07.403573\\\n",
      "INFO:tensorflow:Assets written to: model_init_2021-12-2222_19_07.403573\\assets\n",
      "\n",
      "     37/Unknown - 236s 6s/step - loss: 20.3107 - categorical_accuracy: 0.2065\n",
      "BATCH:: 2\n",
      "\n",
      "Epoch 00001: saving model to model_init_2021-12-2222_19_07.403573\\\n",
      "INFO:tensorflow:Assets written to: model_init_2021-12-2222_19_07.403573\\assets\n",
      "\n",
      "     38/Unknown - 242s 6s/step - loss: 19.8572 - categorical_accuracy: 0.2042\n",
      "BATCH:: 3\n",
      "\n",
      "Epoch 00001: saving model to model_init_2021-12-2222_19_07.403573\\\n",
      "INFO:tensorflow:Assets written to: model_init_2021-12-2222_19_07.403573\\assets\n",
      "\n",
      "     39/Unknown - 249s 6s/step - loss: 19.4026 - categorical_accuracy: 0.2041\n",
      "BATCH:: 0\n",
      "\n",
      "Epoch 00001: saving model to model_init_2021-12-2222_19_07.403573\\\n",
      "INFO:tensorflow:Assets written to: model_init_2021-12-2222_19_07.403573\\assets\n",
      "\n",
      "     40/Unknown - 256s 6s/step - loss: 18.9597 - categorical_accuracy: 0.2030\n",
      "BATCH:: 1\n",
      "\n",
      "Epoch 00001: saving model to model_init_2021-12-2222_19_07.403573\\\n",
      "INFO:tensorflow:Assets written to: model_init_2021-12-2222_19_07.403573\\assets\n",
      "\n",
      "     41/Unknown - 263s 6s/step - loss: 18.5550 - categorical_accuracy: 0.2010\n",
      "BATCH:: 2\n",
      "\n",
      "Epoch 00001: saving model to model_init_2021-12-2222_19_07.403573\\\n",
      "INFO:tensorflow:Assets written to: model_init_2021-12-2222_19_07.403573\\assets\n",
      "\n",
      "     42/Unknown - 269s 6s/step - loss: 18.1648 - categorical_accuracy: 0.2010\n",
      "BATCH:: 3\n",
      "\n",
      "Epoch 00001: saving model to model_init_2021-12-2222_19_07.403573\\\n",
      "INFO:tensorflow:Assets written to: model_init_2021-12-2222_19_07.403573\\assets\n",
      "\n",
      "     43/Unknown - 275s 6s/step - loss: 17.7923 - categorical_accuracy: 0.1991\n",
      "BATCH:: 0\n",
      "\n",
      "Epoch 00001: saving model to model_init_2021-12-2222_19_07.403573\\\n",
      "INFO:tensorflow:Assets written to: model_init_2021-12-2222_19_07.403573\\assets\n",
      "\n",
      "     44/Unknown - 282s 6s/step - loss: 17.4294 - categorical_accuracy: 0.2000\n",
      "BATCH:: 1\n",
      "\n",
      "Epoch 00001: saving model to model_init_2021-12-2222_19_07.403573\\\n",
      "INFO:tensorflow:Assets written to: model_init_2021-12-2222_19_07.403573\\assets\n",
      "\n",
      "     45/Unknown - 289s 6s/step - loss: 17.0790 - categorical_accuracy: 0.2036\n",
      "BATCH:: 2\n",
      "\n",
      "Epoch 00001: saving model to model_init_2021-12-2222_19_07.403573\\\n",
      "INFO:tensorflow:Assets written to: model_init_2021-12-2222_19_07.403573\\assets\n",
      "\n",
      "     46/Unknown - 296s 6s/step - loss: 16.7466 - categorical_accuracy: 0.2035\n",
      "BATCH:: 3\n",
      "\n",
      "Epoch 00001: saving model to model_init_2021-12-2222_19_07.403573\\\n",
      "INFO:tensorflow:Assets written to: model_init_2021-12-2222_19_07.403573\\assets\n",
      "\n",
      "     47/Unknown - 302s 6s/step - loss: 16.4284 - categorical_accuracy: 0.2043\n",
      "BATCH:: 0\n",
      "\n",
      "Epoch 00001: saving model to model_init_2021-12-2222_19_07.403573\\\n",
      "INFO:tensorflow:Assets written to: model_init_2021-12-2222_19_07.403573\\assets\n",
      "\n",
      "     48/Unknown - 308s 6s/step - loss: 16.1235 - categorical_accuracy: 0.2033\n",
      "BATCH:: 1\n",
      "\n",
      "Epoch 00001: saving model to model_init_2021-12-2222_19_07.403573\\\n",
      "INFO:tensorflow:Assets written to: model_init_2021-12-2222_19_07.403573\\assets\n",
      "\n",
      "     49/Unknown - 315s 6s/step - loss: 15.8288 - categorical_accuracy: 0.2041\n",
      "BATCH:: 2\n",
      "\n",
      "Epoch 00001: saving model to model_init_2021-12-2222_19_07.403573\\\n",
      "INFO:tensorflow:Assets written to: model_init_2021-12-2222_19_07.403573\\assets\n",
      "\n",
      "     50/Unknown - 320s 6s/step - loss: 15.5497 - categorical_accuracy: 0.2032\n",
      "BATCH:: 3\n",
      "\n",
      "Epoch 00001: saving model to model_init_2021-12-2222_19_07.403573\\\n",
      "INFO:tensorflow:Assets written to: model_init_2021-12-2222_19_07.403573\\assets\n",
      "\n",
      "     51/Unknown - 326s 6s/step - loss: 15.2767 - categorical_accuracy: 0.2039\n",
      "BATCH:: 0\n",
      "\n",
      "Epoch 00001: saving model to model_init_2021-12-2222_19_07.403573\\\n",
      "INFO:tensorflow:Assets written to: model_init_2021-12-2222_19_07.403573\\assets\n",
      "\n",
      "     52/Unknown - 332s 6s/step - loss: 15.0156 - categorical_accuracy: 0.2031\n",
      "BATCH:: 1\n",
      "\n",
      "Epoch 00001: saving model to model_init_2021-12-2222_19_07.403573\\\n",
      "INFO:tensorflow:Assets written to: model_init_2021-12-2222_19_07.403573\\assets\n",
      "\n",
      "     53/Unknown - 339s 6s/step - loss: 14.7625 - categorical_accuracy: 0.2053\n",
      "BATCH:: 2\n",
      "\n",
      "Epoch 00001: saving model to model_init_2021-12-2222_19_07.403573\\\n",
      "INFO:tensorflow:Assets written to: model_init_2021-12-2222_19_07.403573\\assets\n",
      "\n",
      "     54/Unknown - 346s 6s/step - loss: 14.5215 - categorical_accuracy: 0.2059\n",
      "BATCH:: 3\n",
      "\n",
      "Epoch 00001: saving model to model_init_2021-12-2222_19_07.403573\\\n",
      "INFO:tensorflow:Assets written to: model_init_2021-12-2222_19_07.403573\\assets\n",
      "\n",
      "     55/Unknown - 353s 6s/step - loss: 14.2909 - categorical_accuracy: 0.2036\n",
      "BATCH:: 0\n",
      "\n",
      "Epoch 00001: saving model to model_init_2021-12-2222_19_07.403573\\\n",
      "INFO:tensorflow:Assets written to: model_init_2021-12-2222_19_07.403573\\assets\n",
      "\n",
      "     56/Unknown - 360s 6s/step - loss: 14.0670 - categorical_accuracy: 0.2007\n",
      "BATCH:: 1\n",
      "\n",
      "Epoch 00001: saving model to model_init_2021-12-2222_19_07.403573\\\n",
      "INFO:tensorflow:Assets written to: model_init_2021-12-2222_19_07.403573\\assets\n",
      "\n",
      "     57/Unknown - 366s 6s/step - loss: 13.8515 - categorical_accuracy: 0.1993\n",
      "BATCH:: 2\n",
      "\n",
      "Epoch 00001: saving model to model_init_2021-12-2222_19_07.403573\\\n",
      "INFO:tensorflow:Assets written to: model_init_2021-12-2222_19_07.403573\\assets\n",
      "\n",
      "     58/Unknown - 373s 6s/step - loss: 13.6419 - categorical_accuracy: 0.1972\n",
      "BATCH:: 3\n",
      "\n",
      "Epoch 00001: saving model to model_init_2021-12-2222_19_07.403573\\\n",
      "INFO:tensorflow:Assets written to: model_init_2021-12-2222_19_07.403573\\assets\n",
      "\n",
      "     59/Unknown - 379s 6s/step - loss: 13.4387 - categorical_accuracy: 0.1953\n",
      "BATCH:: 0\n",
      "\n",
      "Epoch 00001: saving model to model_init_2021-12-2222_19_07.403573\\\n",
      "INFO:tensorflow:Assets written to: model_init_2021-12-2222_19_07.403573\\assets\n",
      "\n",
      "     60/Unknown - 386s 6s/step - loss: 13.2419 - categorical_accuracy: 0.1953\n",
      "BATCH:: 1\n",
      "\n",
      "Epoch 00001: saving model to model_init_2021-12-2222_19_07.403573\\\n",
      "INFO:tensorflow:Assets written to: model_init_2021-12-2222_19_07.403573\\assets\n",
      "\n",
      "     61/Unknown - 392s 6s/step - loss: 13.0502 - categorical_accuracy: 0.1967\n",
      "BATCH:: 2\n",
      "\n",
      "Epoch 00001: saving model to model_init_2021-12-2222_19_07.403573\\\n",
      "INFO:tensorflow:Assets written to: model_init_2021-12-2222_19_07.403573\\assets\n",
      "\n",
      "     62/Unknown - 399s 6s/step - loss: 12.8680 - categorical_accuracy: 0.1961\n",
      "BATCH:: 3\n",
      "\n",
      "Epoch 00001: saving model to model_init_2021-12-2222_19_07.403573\\\n",
      "INFO:tensorflow:Assets written to: model_init_2021-12-2222_19_07.403573\\assets\n",
      "\n",
      "     63/Unknown - 405s 6s/step - loss: 12.6914 - categorical_accuracy: 0.1962\n",
      "BATCH:: 0\n",
      "\n",
      "Epoch 00001: saving model to model_init_2021-12-2222_19_07.403573\\\n",
      "INFO:tensorflow:Assets written to: model_init_2021-12-2222_19_07.403573\\assets\n",
      "\n",
      "     64/Unknown - 411s 6s/step - loss: 12.5191 - categorical_accuracy: 0.1956\n",
      "BATCH:: 1\n",
      "\n",
      "Epoch 00001: saving model to model_init_2021-12-2222_19_07.403573\\\n",
      "INFO:tensorflow:Assets written to: model_init_2021-12-2222_19_07.403573\\assets\n",
      "\n",
      "     65/Unknown - 418s 6s/step - loss: 12.3536 - categorical_accuracy: 0.1951\n",
      "BATCH:: 2\n",
      "\n",
      "Epoch 00001: saving model to model_init_2021-12-2222_19_07.403573\\\n",
      "INFO:tensorflow:Assets written to: model_init_2021-12-2222_19_07.403573\\assets\n",
      "\n",
      "     66/Unknown - 423s 6s/step - loss: 12.1919 - categorical_accuracy: 0.1939\n",
      "BATCH:: 3\n"
     ]
    }
   ],
   "source": [
    "model.fit(train_generator, epochs=num_epochs, verbose=1, \n",
    "          callbacks=callbacks_list, validation_data=val_generator,\n",
    "          class_weight=None, workers=1, initial_epoch=0)"
   ]
  },
  {
   "cell_type": "code",
   "execution_count": null,
   "metadata": {},
   "outputs": [],
   "source": []
  }
 ],
 "metadata": {
  "kernelspec": {
   "display_name": "Python 3.8 (XPython)",
   "language": "python",
   "name": "xpython"
  },
  "language_info": {
   "file_extension": ".py",
   "mimetype": "text/x-python",
   "name": "python",
   "version": "3.8.12"
  }
 },
 "nbformat": 4,
 "nbformat_minor": 4
}
