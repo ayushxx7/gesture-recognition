{
 "cells": [
  {
   "cell_type": "markdown",
   "metadata": {},
   "source": [
    "# Gesture Recognition\n",
    "In this group project, you are going to build a 3D Conv model that will be able to predict the 5 gestures correctly. Please import the following libraries to get started."
   ]
  },
  {
   "cell_type": "code",
   "execution_count": 1,
   "metadata": {},
   "outputs": [],
   "source": [
    "import numpy as np\n",
    "import os\n",
    "# from scipy.misc import imread, imresize\n",
    "import cv2\n",
    "import datetime\n",
    "import os"
   ]
  },
  {
   "cell_type": "markdown",
   "metadata": {},
   "source": [
    "We set the random seed so that the results don't vary drastically."
   ]
  },
  {
   "cell_type": "code",
   "execution_count": 2,
   "metadata": {},
   "outputs": [],
   "source": [
    "np.random.seed(30)\n",
    "import random as rn\n",
    "rn.seed(30)\n",
    "from keras import backend as K\n",
    "import tensorflow as tf\n",
    "\n",
    "tf.random.set_seed(30)"
   ]
  },
  {
   "cell_type": "markdown",
   "metadata": {},
   "source": [
    "In this block, you read the folder names for training and validation. You also set the `batch_size` here. Note that you set the batch size in such a way that you are able to use the GPU in full capacity. You keep increasing the batch size until the machine throws an error."
   ]
  },
  {
   "cell_type": "code",
   "execution_count": 3,
   "metadata": {},
   "outputs": [],
   "source": [
    "train_doc = np.random.permutation(open('Project_data/train.csv').readlines())\n",
    "val_doc = np.random.permutation(open('Project_data/val.csv').readlines())\n",
    "batch_size = 25\n",
    "\n",
    "#batch_size = 8 -> overfit -> memory efficient -> slow training\n",
    "#batch_sie= 32/16 \n",
    "#batch_size = 512 -> underfit -> need more memory -> fast training"
   ]
  },
  {
   "cell_type": "markdown",
   "metadata": {},
   "source": [
    "## Generator\n",
    "This is one of the most important part of the code. The overall structure of the generator has been given. In the generator, you are going to preprocess the images as you have images of 2 different dimensions as well as create a batch of video frames. You have to experiment with `img_idx`, `y`,`z` and normalization such that you get high accuracy."
   ]
  },
  {
   "cell_type": "raw",
   "metadata": {},
   "source": [
    "1) Batch size\n",
    "2) num of frames\n",
    "3) crop and resize\n",
    "4) normalisation\n",
    "5) handles extra samples (yield one extra batch with lessed samples)"
   ]
  },
  {
   "cell_type": "code",
   "execution_count": 4,
   "metadata": {},
   "outputs": [],
   "source": [
    "img = cv2.imread(\"Project_data/train/WIN_20180907_15_35_09_Pro_Right Swipe_new/WIN_20180907_15_35_09_Pro_00012.png\")"
   ]
  },
  {
   "cell_type": "code",
   "execution_count": 5,
   "metadata": {},
   "outputs": [],
   "source": [
    "import matplotlib.pyplot as plt"
   ]
  },
  {
   "cell_type": "code",
   "execution_count": 6,
   "metadata": {},
   "outputs": [
    {
     "data": {
      "text/plain": [
       "<matplotlib.image.AxesImage at 0x20af33d7520>"
      ]
     },
     "execution_count": 6,
     "metadata": {},
     "output_type": "execute_result"
    }
   ],
   "source": [
    "plt.imshow(cv2.cvtColor(img, cv2.COLOR_BGR2RGB))"
   ]
  },
  {
   "cell_type": "code",
   "execution_count": 7,
   "metadata": {},
   "outputs": [],
   "source": [
    "r_img = cv2.resize(img, (100,100))"
   ]
  },
  {
   "cell_type": "code",
   "execution_count": 8,
   "metadata": {},
   "outputs": [
    {
     "data": {
      "text/plain": [
       "<matplotlib.image.AxesImage at 0x20af33d7b80>"
      ]
     },
     "execution_count": 8,
     "metadata": {},
     "output_type": "execute_result"
    }
   ],
   "source": [
    "plt.imshow(cv2.cvtColor(r_img, cv2.COLOR_BGR2RGB))"
   ]
  },
  {
   "cell_type": "code",
   "execution_count": 9,
   "metadata": {},
   "outputs": [
    {
     "data": {
      "text/plain": [
       "array([[106, 113, 108, ..., 127, 121, 120],\n",
       "       [111, 116, 114, ..., 127, 120, 118],\n",
       "       [117, 126, 124, ..., 121, 117, 119],\n",
       "       ...,\n",
       "       [104,  58,  38, ...,  49,  51,  53],\n",
       "       [ 57,  35,  26, ...,  47,  49,  52],\n",
       "       [ 16,  15,  18, ...,  45,  50,  53]], dtype=uint8)"
      ]
     },
     "execution_count": 9,
     "metadata": {},
     "output_type": "execute_result"
    }
   ],
   "source": [
    "r_img[:,:,0]"
   ]
  },
  {
   "cell_type": "code",
   "execution_count": 10,
   "metadata": {},
   "outputs": [
    {
     "data": {
      "text/plain": [
       "(100, 100, 3)"
      ]
     },
     "execution_count": 10,
     "metadata": {},
     "output_type": "execute_result"
    }
   ],
   "source": [
    "r_img.shape"
   ]
  },
  {
   "cell_type": "code",
   "execution_count": 11,
   "metadata": {},
   "outputs": [],
   "source": [
    "#r_img"
   ]
  },
  {
   "cell_type": "code",
   "execution_count": 12,
   "metadata": {},
   "outputs": [],
   "source": [
    "c_img = r_img[10:90, 10:90, :]"
   ]
  },
  {
   "cell_type": "code",
   "execution_count": 13,
   "metadata": {},
   "outputs": [
    {
     "data": {
      "text/plain": [
       "<matplotlib.image.AxesImage at 0x20af33d7ee0>"
      ]
     },
     "execution_count": 13,
     "metadata": {},
     "output_type": "execute_result"
    }
   ],
   "source": [
    "plt.imshow(cv2.cvtColor(c_img, cv2.COLOR_BGR2RGB))"
   ]
  },
  {
   "cell_type": "code",
   "execution_count": 14,
   "metadata": {},
   "outputs": [
    {
     "data": {
      "text/plain": [
       "(80, 80, 3)"
      ]
     },
     "execution_count": 14,
     "metadata": {},
     "output_type": "execute_result"
    }
   ],
   "source": [
    "c_img.shape"
   ]
  },
  {
   "cell_type": "code",
   "execution_count": 15,
   "metadata": {},
   "outputs": [],
   "source": [
    "def generator(source_path, folder_list, batch_size):\n",
    "    print( 'Source path = ', source_path, '; batch size =', batch_size)\n",
    "    img_idx = [3,6,9,12,15,18,21] #create a list of image numbers you want to use for a particular video\n",
    "    while True:\n",
    "        t = np.random.permutation(folder_list)\n",
    "        num_batches = len(folder_list)//batch_size\n",
    "        for batch in range(num_batches):\n",
    "            # print(\"\\nBATCH::\", batch)\n",
    "            batch_data = np.zeros((batch_size,len(img_idx),80,80,3))\n",
    "            batch_labels = np.zeros((batch_size,5))\n",
    "            for folder in range(batch_size):\n",
    "                imgs = os.listdir(source_path+'/'+ t[folder + (batch*batch_size)].split(';')[0])\n",
    "                for idx,item in enumerate(img_idx):\n",
    "                    image = cv2.imread(source_path+'/'+ t[folder + (batch*batch_size)].strip().split(';')[0]+'/'+imgs[item]).astype(np.float32)\n",
    "                    \n",
    "                    # crop & resize to 60x60\n",
    "                    \n",
    "                    resized_image = cv2.resize(img, (100,100))\n",
    "                    cropped_image = resized_image[10:90, 10:90, :]\n",
    "                    \n",
    "                    batch_data[folder,idx,:,:,0] = cropped_image[:,:,0]/float(255)\n",
    "                    batch_data[folder,idx,:,:,1] = cropped_image[:,:,1]/float(255)\n",
    "                    batch_data[folder,idx,:,:,2] = cropped_image[:,:,2]/float(255)\n",
    "                    \n",
    "                batch_labels[folder, int(t[folder + (batch*batch_size)].strip().split(';')[2])] = 1\n",
    "            yield batch_data, batch_labels\n",
    "\n",
    "        if len(folder_list)%batch_size != 0:\n",
    "            last_batch_size = len(folder_list)%batch_size\n",
    "            batch_data = np.zeros((last_batch_size,len(img_idx),80,80,3))\n",
    "            batch_labels = np.zeros((last_batch_size,5))\n",
    "            batch_index = num_batches+1\n",
    "            # print(\"\\nBATCH INDEX::\", batch_index)\n",
    "            for folder in range(last_batch_size):\n",
    "                imgs = os.listdir(source_path+'/'+ t[folder + (batch_index*batch_size)].split(';')[0])\n",
    "                for idx,item in enumerate(img_idx):\n",
    "                    image = cv2.imread(source_path+'/'+ t[folder + (batch_index*batch_size)].strip().split(';')[0]+'/'+imgs[item]).astype(np.float32)\n",
    "                    \n",
    "                    # crop & resize to 60x60\n",
    "                    \n",
    "                    resized_image = cv2.resize(img, (100,100))\n",
    "                    cropped_image = resized_image[10:90, 10:90, :]\n",
    "                    \n",
    "                    blue_channel = cropped_image[:,:,0]\n",
    "                    green_channel = cropped_image[:,:,1]\n",
    "                    red_channel = cropped_image[:,:,2]\n",
    "                    \n",
    "                    batch_data[folder,idx,:,:,0] = blue_channel-np.percentile(blue_channel, 5)/(np.percentile(blue_channel, 95)-np.percentile(blue_channel, 5))\n",
    "                    batch_data[folder,idx,:,:,1] = green_channel-np.percentile(green_channel, 5)/(np.percentile(green_channel, 95)-np.percentile(green_channel, 5))\n",
    "                    batch_data[folder,idx,:,:,2] = red_channel-np.percentile(red_channel, 5)/(np.percentile(red_channel, 95)-np.percentile(red_channel, 5))\n",
    "                    \n",
    "                batch_labels[folder, int(t[folder + (batch_index*batch_size)].strip().split(';')[2])] = 1\n",
    "            yield batch_data, batch_labels"
   ]
  },
  {
   "cell_type": "markdown",
   "metadata": {},
   "source": [
    "Note here that a video is represented above in the generator as (number of images, height, width, number of channels). Take this into consideration while creating the model architecture."
   ]
  },
  {
   "cell_type": "code",
   "execution_count": 16,
   "metadata": {},
   "outputs": [
    {
     "name": "stdout",
     "output_type": "stream",
     "text": [
      "# training sequences = 200\n",
      "# validation sequences = 100\n",
      "# epochs = 3\n",
      "# num classes= 5\n"
     ]
    }
   ],
   "source": [
    "curr_dt_time = datetime.datetime.now()\n",
    "train_path = 'Project_data/train'\n",
    "val_path = 'Project_data/val'\n",
    "num_train_sequences = len(train_doc[0:200])\n",
    "print('# training sequences =', num_train_sequences)\n",
    "num_val_sequences = len(val_doc[0:200])\n",
    "print('# validation sequences =', num_val_sequences)\n",
    "num_epochs = 3\n",
    "print ('# epochs =', num_epochs)\n",
    "num_classes=5\n",
    "print('# num classes=', num_classes)"
   ]
  },
  {
   "cell_type": "markdown",
   "metadata": {},
   "source": [
    "## Model\n",
    "Here you make the model using different functionalities that Keras provides. Remember to use `Conv3D` and `MaxPooling3D` and not `Conv2D` and `Maxpooling2D` for a 3D convolution model. You would want to use `TimeDistributed` while building a Conv2D + RNN model. Also remember that the last layer is the softmax. Design the network in such a way that the model is able to give good accuracy on the least number of parameters so that it can fit in the memory of the webcam."
   ]
  },
  {
   "cell_type": "markdown",
   "metadata": {},
   "source": [
    "# Model 1: CNN3D"
   ]
  },
  {
   "cell_type": "code",
   "execution_count": 17,
   "metadata": {},
   "outputs": [],
   "source": [
    "from keras.models import Sequential, Model\n",
    "from keras.layers import Dense, GRU, Flatten, TimeDistributed, Flatten, BatchNormalization, Activation, Dropout\n",
    "from keras.layers.convolutional import Conv3D, MaxPooling3D\n",
    "from keras.callbacks import ModelCheckpoint, ReduceLROnPlateau\n",
    "from keras import optimizers\n",
    "\n",
    "sample_shape = (7, 80, 80, 3)\n",
    "\n",
    "model = Sequential()\n",
    "model.add(Conv3D(32, kernel_size=(3, 3, 3), activation='relu', kernel_initializer='he_uniform', input_shape=sample_shape, padding='same'))\n",
    "model.add(MaxPooling3D(pool_size=(2, 2, 2)))\n",
    "model.add(BatchNormalization(center=True, scale=True))\n",
    "model.add(Dropout(0.5))\n",
    "model.add(Conv3D(64, kernel_size=(3, 3, 3), activation='relu', kernel_initializer='he_uniform', padding='same'))\n",
    "model.add(MaxPooling3D(pool_size=(2, 2, 2)))\n",
    "model.add(BatchNormalization(center=True, scale=True))\n",
    "model.add(Dropout(0.5))\n",
    "model.add(Flatten())\n",
    "model.add(Dense(256, activation='relu', kernel_initializer='he_uniform'))\n",
    "model.add(Dense(256, activation='relu', kernel_initializer='he_uniform'))\n",
    "model.add(Dense(5, activation='softmax'))"
   ]
  },
  {
   "cell_type": "markdown",
   "metadata": {},
   "source": [
    "Now that you have written the model, the next step is to `compile` the model. When you print the `summary` of the model, you'll see the total number of parameters you have to train."
   ]
  },
  {
   "cell_type": "code",
   "execution_count": 18,
   "metadata": {
    "scrolled": true
   },
   "outputs": [
    {
     "name": "stdout",
     "output_type": "stream",
     "text": [
      "Model: \"sequential\"\n",
      "_________________________________________________________________\n",
      " Layer (type)                Output Shape              Param #   \n",
      "=================================================================\n",
      " conv3d (Conv3D)             (None, 7, 80, 80, 32)     2624      \n",
      "                                                                 \n",
      " max_pooling3d (MaxPooling3D  (None, 3, 40, 40, 32)    0         \n",
      " )                                                               \n",
      "                                                                 \n",
      " batch_normalization (BatchN  (None, 3, 40, 40, 32)    128       \n",
      " ormalization)                                                   \n",
      "                                                                 \n",
      " dropout (Dropout)           (None, 3, 40, 40, 32)     0         \n",
      "                                                                 \n",
      " conv3d_1 (Conv3D)           (None, 3, 40, 40, 64)     55360     \n",
      "                                                                 \n",
      " max_pooling3d_1 (MaxPooling  (None, 1, 20, 20, 64)    0         \n",
      " 3D)                                                             \n",
      "                                                                 \n",
      " batch_normalization_1 (Batc  (None, 1, 20, 20, 64)    256       \n",
      " hNormalization)                                                 \n",
      "                                                                 \n",
      " dropout_1 (Dropout)         (None, 1, 20, 20, 64)     0         \n",
      "                                                                 \n",
      " flatten (Flatten)           (None, 25600)             0         \n",
      "                                                                 \n",
      " dense (Dense)               (None, 256)               6553856   \n",
      "                                                                 \n",
      " dense_1 (Dense)             (None, 256)               65792     \n",
      "                                                                 \n",
      " dense_2 (Dense)             (None, 5)                 1285      \n",
      "                                                                 \n",
      "=================================================================\n",
      "Total params: 6,679,301\n",
      "Trainable params: 6,679,109\n",
      "Non-trainable params: 192\n",
      "_________________________________________________________________\n",
      "None\n"
     ]
    }
   ],
   "source": [
    "optimiser = 'adam'\n",
    "model.compile(optimizer=optimiser, loss='categorical_crossentropy', metrics=['categorical_accuracy'])\n",
    "print (model.summary())"
   ]
  },
  {
   "cell_type": "markdown",
   "metadata": {},
   "source": [
    "Let us create the `train_generator` and the `val_generator` which will be used in `.fit_generator`."
   ]
  },
  {
   "cell_type": "code",
   "execution_count": 19,
   "metadata": {},
   "outputs": [],
   "source": [
    "train_generator = generator(train_path, train_doc[0:200], batch_size)\n",
    "val_generator = generator(val_path, val_doc[0:200], batch_size)"
   ]
  },
  {
   "cell_type": "code",
   "execution_count": 20,
   "metadata": {},
   "outputs": [],
   "source": [
    "model_name = 'model_init' + '_' + str(curr_dt_time).replace(' ','').replace(':','_') + '/'\n",
    "    \n",
    "if not os.path.exists(model_name):\n",
    "    os.mkdir(model_name)\n",
    "        \n",
    "#filepath = model_name + 'model-{epoch:05d}-{loss:.5f}-{categorical_accuracy:.5f}-{val_loss:.5f}-{val_categorical_accuracy:.5f}.h5'\n",
    "filepath = model_name\n",
    "checkpoint = ModelCheckpoint(filepath, monitor='val_loss', verbose=1, save_best_only=False, save_weights_only=False, mode='auto', save_freq=1)\n",
    "\n",
    "LR = ReduceLROnPlateau(\n",
    "    monitor=\"val_loss\",\n",
    "    factor=0.1,\n",
    "    patience=5,\n",
    "    verbose=0,\n",
    "    mode=\"auto\",\n",
    "    min_delta=0.0001,\n",
    "    cooldown=0,\n",
    "    min_lr=0,\n",
    ")\n",
    "callbacks_list = [LR]\n",
    "# checkpoint, "
   ]
  },
  {
   "cell_type": "markdown",
   "metadata": {},
   "source": [
    "The `steps_per_epoch` and `validation_steps` are used by `fit_generator` to decide the number of next() calls it need to make."
   ]
  },
  {
   "cell_type": "code",
   "execution_count": 21,
   "metadata": {},
   "outputs": [],
   "source": [
    "if (num_train_sequences%batch_size) == 0:\n",
    "    steps_per_epoch = int(num_train_sequences/batch_size)\n",
    "else:\n",
    "    steps_per_epoch = (num_train_sequences//batch_size) + 1\n",
    "\n",
    "if (num_val_sequences%batch_size) == 0:\n",
    "    validation_steps = int(num_val_sequences/batch_size)\n",
    "else:\n",
    "    validation_steps = (num_val_sequences//batch_size) + 1"
   ]
  },
  {
   "cell_type": "code",
   "execution_count": 22,
   "metadata": {},
   "outputs": [
    {
     "data": {
      "text/plain": [
       "8"
      ]
     },
     "execution_count": 22,
     "metadata": {},
     "output_type": "execute_result"
    }
   ],
   "source": [
    "steps_per_epoch"
   ]
  },
  {
   "cell_type": "code",
   "execution_count": 23,
   "metadata": {},
   "outputs": [
    {
     "data": {
      "text/plain": [
       "200"
      ]
     },
     "execution_count": 23,
     "metadata": {},
     "output_type": "execute_result"
    }
   ],
   "source": [
    "num_train_sequences"
   ]
  },
  {
   "cell_type": "markdown",
   "metadata": {},
   "source": [
    "Let us now fit the model. This will start training the model and with the help of the checkpoints, you'll be able to save the model at the end of each epoch."
   ]
  },
  {
   "cell_type": "code",
   "execution_count": 24,
   "metadata": {
    "tags": []
   },
   "outputs": [
    {
     "name": "stdout",
     "output_type": "stream",
     "text": [
      "Source path =  Project_data/train ; batch size = 25\n",
      "Epoch 1/10\n",
      "Source path =  Project_data/val ; batch size = 25\n",
      "8/8 - 35s - loss: 12.3075 - categorical_accuracy: 0.2150 - val_loss: 1.6918 - val_categorical_accuracy: 0.2200 - lr: 0.0010 - 35s/epoch - 4s/step\n",
      "Epoch 2/10\n",
      "8/8 - 34s - loss: 4.2223 - categorical_accuracy: 0.1950 - val_loss: 2.2273 - val_categorical_accuracy: 0.2300 - lr: 0.0010 - 34s/epoch - 4s/step\n",
      "Epoch 3/10\n",
      "8/8 - 34s - loss: 4.4417 - categorical_accuracy: 0.2000 - val_loss: 1.7884 - val_categorical_accuracy: 0.1900 - lr: 0.0010 - 34s/epoch - 4s/step\n",
      "Epoch 4/10\n",
      "8/8 - 34s - loss: 3.0054 - categorical_accuracy: 0.2050 - val_loss: 1.8454 - val_categorical_accuracy: 0.2000 - lr: 0.0010 - 34s/epoch - 4s/step\n",
      "Epoch 5/10\n",
      "8/8 - 34s - loss: 3.0058 - categorical_accuracy: 0.1850 - val_loss: 1.7809 - val_categorical_accuracy: 0.1600 - lr: 0.0010 - 34s/epoch - 4s/step\n",
      "Epoch 6/10\n",
      "8/8 - 34s - loss: 2.7511 - categorical_accuracy: 0.2700 - val_loss: 1.6812 - val_categorical_accuracy: 0.2000 - lr: 0.0010 - 34s/epoch - 4s/step\n",
      "Epoch 7/10\n",
      "8/8 - 34s - loss: 2.0815 - categorical_accuracy: 0.2800 - val_loss: 1.7463 - val_categorical_accuracy: 0.1600 - lr: 0.0010 - 34s/epoch - 4s/step\n",
      "Epoch 8/10\n",
      "8/8 - 34s - loss: 2.1148 - categorical_accuracy: 0.2150 - val_loss: 1.6828 - val_categorical_accuracy: 0.2000 - lr: 0.0010 - 34s/epoch - 4s/step\n",
      "Epoch 9/10\n",
      "8/8 - 34s - loss: 1.9548 - categorical_accuracy: 0.2050 - val_loss: 1.7573 - val_categorical_accuracy: 0.1800 - lr: 0.0010 - 34s/epoch - 4s/step\n",
      "Epoch 10/10\n",
      "8/8 - 34s - loss: 2.0784 - categorical_accuracy: 0.1800 - val_loss: 1.6826 - val_categorical_accuracy: 0.2500 - lr: 0.0010 - 34s/epoch - 4s/step\n"
     ]
    }
   ],
   "source": [
    "history = model.fit(train_generator, steps_per_epoch=steps_per_epoch, epochs=10, verbose=2, \n",
    "         callbacks=callbacks_list, validation_data=val_generator, \n",
    "         validation_steps=validation_steps, class_weight=None, workers=1, initial_epoch=0)"
   ]
  },
  {
   "cell_type": "code",
   "execution_count": 25,
   "metadata": {},
   "outputs": [],
   "source": [
    "# acc = history.history['categorical_accuracy']\n",
    "# val_acc = history.history['val_categorical_accuracy']\n",
    "# \n",
    "# loss = history.history['loss']\n",
    "# val_loss = history.history['val_loss']\n",
    "# \n",
    "# epochs_range = range(10)\n",
    "# \n",
    "# plt.figure(figsize=(8, 8))\n",
    "# plt.subplot(1, 2, 1)\n",
    "# plt.plot(epochs_range, acc, label='Training Accuracy')\n",
    "# plt.plot(epochs_range, val_acc, label='Validation Accuracy')\n",
    "# plt.legend(loc='lower right')\n",
    "# plt.title('Training and Validation Accuracy')\n",
    "# \n",
    "# plt.subplot(1, 2, 2)\n",
    "# plt.plot(epochs_range, loss, label='Training Loss')\n",
    "# plt.plot(epochs_range, val_loss, label='Validation Loss')\n",
    "# plt.legend(loc='upper right')\n",
    "# plt.title('Training and Validation Loss')\n",
    "# plt.show()"
   ]
  },
  {
   "cell_type": "markdown",
   "metadata": {},
   "source": [
    "### Observation\n",
    "- We trained the Model from 1 epoch to 10 epoch during the ablation experiment, however, the training accuracy did not increase at all. Moreover, the average training accuracy is around ~20% which is not acceptable.\n",
    "- The model is not able to learn from the data due to it's simple nature."
   ]
  },
  {
   "cell_type": "markdown",
   "metadata": {},
   "source": [
    "# Model 2: CNN3D"
   ]
  },
  {
   "cell_type": "code",
   "execution_count": 26,
   "metadata": {},
   "outputs": [
    {
     "name": "stdout",
     "output_type": "stream",
     "text": [
      "hello\n"
     ]
    }
   ],
   "source": [
    "print('hello')"
   ]
  },
  {
   "cell_type": "code",
   "execution_count": 27,
   "metadata": {},
   "outputs": [],
   "source": [
    "from keras.models import Sequential, Model\n",
    "from keras.layers import Dense, GRU, Flatten, TimeDistributed, Flatten, BatchNormalization, Activation, Dropout\n",
    "from keras.layers.convolutional import Conv3D, MaxPooling3D\n",
    "from keras.callbacks import ModelCheckpoint, ReduceLROnPlateau\n",
    "from keras import optimizers\n",
    "\n",
    "sample_shape = (7, 80, 80, 3)\n",
    "\n",
    "model = Sequential()\n",
    "model.add(Conv3D(32, kernel_size=(3, 3, 3), activation='relu', kernel_initializer='he_uniform', input_shape=sample_shape, padding='same'))\n",
    "# model.add(MaxPooling3D(pool_size=(2, 2, 2)))\n",
    "model.add(BatchNormalization(center=True, scale=True))\n",
    "model.add(Dropout(0.25))\n",
    "\n",
    "model.add(Conv3D(64, kernel_size=(3, 3, 3), activation='relu', kernel_initializer='he_uniform', padding='same'))\n",
    "model.add(MaxPooling3D(pool_size=(2, 2, 2)))\n",
    "model.add(BatchNormalization(center=True, scale=True))\n",
    "model.add(Dropout(0.25))\n",
    "\n",
    "model.add(Conv3D(128, kernel_size=(3, 3, 3), activation='relu', kernel_initializer='he_uniform', padding='same'))\n",
    "model.add(MaxPooling3D(pool_size=(2, 2, 2)))\n",
    "model.add(BatchNormalization(center=True, scale=True))\n",
    "model.add(Dropout(0.25))\n",
    "\n",
    "model.add(Flatten())\n",
    "model.add(Dense(256, activation='relu', kernel_initializer='he_uniform'))\n",
    "model.add(Dropout(0.5))\n",
    "model.add(Dense(512, activation='relu', kernel_initializer='he_uniform'))\n",
    "model.add(Dense(5, activation='softmax'))"
   ]
  },
  {
   "cell_type": "code",
   "execution_count": 28,
   "metadata": {},
   "outputs": [
    {
     "name": "stdout",
     "output_type": "stream",
     "text": [
      "Model: \"sequential_1\"\n",
      "_________________________________________________________________\n",
      " Layer (type)                Output Shape              Param #   \n",
      "=================================================================\n",
      " conv3d_2 (Conv3D)           (None, 7, 80, 80, 32)     2624      \n",
      "                                                                 \n",
      " batch_normalization_2 (Batc  (None, 7, 80, 80, 32)    128       \n",
      " hNormalization)                                                 \n",
      "                                                                 \n",
      " dropout_2 (Dropout)         (None, 7, 80, 80, 32)     0         \n",
      "                                                                 \n",
      " conv3d_3 (Conv3D)           (None, 7, 80, 80, 64)     55360     \n",
      "                                                                 \n",
      " max_pooling3d_2 (MaxPooling  (None, 3, 40, 40, 64)    0         \n",
      " 3D)                                                             \n",
      "                                                                 \n",
      " batch_normalization_3 (Batc  (None, 3, 40, 40, 64)    256       \n",
      " hNormalization)                                                 \n",
      "                                                                 \n",
      " dropout_3 (Dropout)         (None, 3, 40, 40, 64)     0         \n",
      "                                                                 \n",
      " conv3d_4 (Conv3D)           (None, 3, 40, 40, 128)    221312    \n",
      "                                                                 \n",
      " max_pooling3d_3 (MaxPooling  (None, 1, 20, 20, 128)   0         \n",
      " 3D)                                                             \n",
      "                                                                 \n",
      " batch_normalization_4 (Batc  (None, 1, 20, 20, 128)   512       \n",
      " hNormalization)                                                 \n",
      "                                                                 \n",
      " dropout_4 (Dropout)         (None, 1, 20, 20, 128)    0         \n",
      "                                                                 \n",
      " flatten_1 (Flatten)         (None, 51200)             0         \n",
      "                                                                 \n",
      " dense_3 (Dense)             (None, 256)               13107456  \n",
      "                                                                 \n",
      " dropout_5 (Dropout)         (None, 256)               0         \n",
      "                                                                 \n",
      " dense_4 (Dense)             (None, 512)               131584    \n",
      "                                                                 \n",
      " dense_5 (Dense)             (None, 5)                 2565      \n",
      "                                                                 \n",
      "=================================================================\n",
      "Total params: 13,521,797\n",
      "Trainable params: 13,521,349\n",
      "Non-trainable params: 448\n",
      "_________________________________________________________________\n",
      "None\n"
     ]
    }
   ],
   "source": [
    "optimiser = 'adam'\n",
    "model.compile(optimizer=optimiser, loss='categorical_crossentropy', metrics=['categorical_accuracy'])\n",
    "print (model.summary())"
   ]
  },
  {
   "cell_type": "code",
   "execution_count": null,
   "metadata": {},
   "outputs": [
    {
     "name": "stdout",
     "output_type": "stream",
     "text": [
      "Epoch 1/10\n",
      "8/8 - 122s - loss: 17.4813 - categorical_accuracy: 0.2200 - val_loss: 13.1431 - val_categorical_accuracy: 0.1700 - lr: 0.0010 - 122s/epoch - 15s/step\n",
      "Epoch 2/10\n",
      "8/8 - 123s - loss: 11.9657 - categorical_accuracy: 0.2650 - val_loss: 5.1695 - val_categorical_accuracy: 0.2000 - lr: 0.0010 - 123s/epoch - 15s/step\n",
      "Epoch 3/10\n",
      "8/8 - 125s - loss: 3.2934 - categorical_accuracy: 0.1800 - val_loss: 14.1378 - val_categorical_accuracy: 0.2300 - lr: 0.0010 - 125s/epoch - 16s/step\n",
      "Epoch 4/10\n",
      "8/8 - 123s - loss: 1.7423 - categorical_accuracy: 0.2400 - val_loss: 5.9598 - val_categorical_accuracy: 0.2000 - lr: 0.0010 - 123s/epoch - 15s/step\n",
      "Epoch 5/10\n",
      "8/8 - 123s - loss: 1.6100 - categorical_accuracy: 0.2200 - val_loss: 6.1731 - val_categorical_accuracy: 0.1500 - lr: 0.0010 - 123s/epoch - 15s/step\n",
      "Epoch 6/10\n"
     ]
    }
   ],
   "source": [
    "history = model.fit(train_generator, steps_per_epoch=steps_per_epoch, epochs=10, verbose=2, \n",
    "          callbacks=callbacks_list, validation_data=val_generator, \n",
    "          validation_steps=validation_steps, class_weight=None, workers=1, initial_epoch=0)"
   ]
  }
 ],
 "metadata": {
  "kernelspec": {
   "display_name": "Python 3.8 (XPython)",
   "language": "python",
   "name": "xpython"
  },
  "language_info": {
   "file_extension": ".py",
   "mimetype": "text/x-python",
   "name": "python",
   "version": "3.8.12"
  }
 },
 "nbformat": 4,
 "nbformat_minor": 4
}
